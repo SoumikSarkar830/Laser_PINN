{
 "cells": [
  {
   "cell_type": "code",
   "execution_count": 2,
   "id": "792e24cc",
   "metadata": {},
   "outputs": [],
   "source": [
    "import torch\n",
    "import torch.nn as nn\n",
    "import torch.autograd as autograd\n",
    "import numpy as np\n",
    "import matplotlib.pyplot as plt"
   ]
  },
  {
   "cell_type": "code",
   "execution_count": 3,
   "id": "11038836",
   "metadata": {},
   "outputs": [
    {
     "name": "stdout",
     "output_type": "stream",
     "text": [
      "device_u: cuda:0\n",
      "device_v: cuda:1\n",
      "device_p: cuda:2\n"
     ]
    }
   ],
   "source": [
    "device_u = torch.device('cuda:0' if torch.cuda.is_available() else 'cpu')\n",
    "device_v = torch.device('cuda:1' if torch.cuda.device_count() > 1 else device_u)\n",
    "device_p = torch.device('cuda:2' if torch.cuda.device_count() > 2 else device_u)\n",
    "\n",
    "print(f\"device_u: {device_u}\")\n",
    "print(f\"device_v: {device_v}\")\n",
    "print(f\"device_p: {device_p}\")"
   ]
  },
  {
   "cell_type": "code",
   "execution_count": 5,
   "id": "c959f53a",
   "metadata": {},
   "outputs": [],
   "source": [
    "class FCN(nn.Module):\n",
    "    def __init__(self, in_dim, out_dim, hidden_layers = 4, neurons = 50):\n",
    "        super(FCN, self).__init__()\n",
    "        layers = [nn.Linear(in_dim, neurons), nn.Tanh()]\n",
    "        for _ in range(hidden_layers - 1):\n",
    "            layers += [nn.Linear(neurons, neurons), nn.Tanh()]\n",
    "        layers.append(nn.Linear(neurons, out_dim))\n",
    "        self.net = nn.Sequential(*layers)\n",
    "\n",
    "    def forward(self,x):\n",
    "        return self.net(x)\n",
    "    \n",
    "net_u = FCN(in_dim = 2, out_dim = 1).to(device_u)\n",
    "net_v = FCN(in_dim = 2, out_dim = 1).to(device_v)\n",
    "net_p = FCN(in_dim = 2, out_dim = 1).to(device_p)"
   ]
  },
  {
   "cell_type": "code",
   "execution_count": 6,
   "id": "aea6fb93",
   "metadata": {},
   "outputs": [],
   "source": [
    "def generate_collocation_points(N):\n",
    "    x = torch.rand(N,1)\n",
    "    y = torch.rand(N,1)\n",
    "\n",
    "    X = torch.cat([x,y], dim = 1)\n",
    "    return X\n",
    "\n",
    "N_f = 10000\n",
    "\n",
    "X_f = generate_collocation_points(N_f)\n",
    "\n",
    "X_f_u = X_f.clone().detach().to(device_u).requires_grad_(True)\n",
    "X_f_v = X_f.clone().detach().to(device_v).requires_grad_(True)\n",
    "X_f_p = X_f.clone().detach().to(device_p).requires_grad_(True)\n"
   ]
  },
  {
   "cell_type": "code",
   "execution_count": 7,
   "id": "79a75138",
   "metadata": {},
   "outputs": [],
   "source": [
    "def generate_boundary_points(N):\n",
    "    x_l = torch.zeros(N,1) ; x_r = torch.ones(N,1); ylr = torch.rand(N,1)\n",
    "    b_l = torch.cat([x_l,ylr], dim = 1); b_r = torch.cat([x_r,ylr], dim = 1)\n",
    "\n",
    "    y_b = torch.zeros(N,1); y_t = torch.ones(N,1); xbt = torch.rand(N,1)\n",
    "    b_b = torch.cat([xbt,y_b], dim = 1); b_t = torch.cat([xbt,y_t], dim = 1)\n",
    "\n",
    "    b = torch.cat([b_l,b_r,b_b,b_t], dim = 0)\n",
    "\n",
    "    return b\n",
    "\n",
    "N_b = 2000\n",
    "\n",
    "X_b = generate_boundary_points(N_b)\n",
    "X_b_u = X_b.clone().detach().to(device_u)\n",
    "X_b_v = X_b.clone().detach().to(device_v)"
   ]
  },
  {
   "cell_type": "code",
   "execution_count": 9,
   "id": "74a5f336",
   "metadata": {},
   "outputs": [],
   "source": [
    "X_p = torch.tensor([[0.0,0.0]],dtype=torch.float32)\n",
    "\n"
   ]
  },
  {
   "cell_type": "code",
   "execution_count": 10,
   "id": "3f7489e9",
   "metadata": {},
   "outputs": [],
   "source": [
    "def compute_residual_u():\n",
    "    # Evaluate u and its derivatives on device_u\n",
    "    u = net_u(X_f_u)\n",
    "    grads_u = autograd.grad(u, X_f_u, grad_outputs=torch.ones_like(u),create_graph= True )[0]\n",
    "\n",
    "    u_x = grads_u[:,0:1]\n",
    "    u_y = grads_u[:,1:2]\n",
    "\n",
    "    u_x_x = autograd.grad(u_x, X_f_u, grad_outputs=torch.ones_like(u_x),create_graph= True )[0][:,0:1]\n",
    "    u_y_y = autograd.grad(u_y, X_f_u, grad_outputs=torch.ones_like(u_y),create_graph= True )[0][:,1:2]\n",
    "\n",
    "    # Get v and p as constants on device_u\n",
    "    v = net_v(X_f_v).detach().to(device_u)\n",
    "    p = net_p(X_f_p)\n",
    "\n",
    "    # Spatial derivatives of pressure\n",
    "    p_x = autograd.grad(p, X_f_p, grad_outputs=torch.ones_like(p),create_graph= True,allow_unused= True )[0][:,0:1].to(device_u)\n",
    "\n",
    "    nu = 1.00/400\n",
    "\n",
    "    res_u = u * u_x + v * u_y + p_x - nu * (u_x_x + u_y_y)\n",
    "\n",
    "    return res_u\n"
   ]
  },
  {
   "cell_type": "code",
   "execution_count": 12,
   "id": "2691ffde",
   "metadata": {},
   "outputs": [],
   "source": [
    "def compute_residual_v():\n",
    "    # Evaluate v and its derivatives on device_v\n",
    "    v = net_v(X_f_v)\n",
    "    grads_v = autograd.grad(v, X_f_v, grad_outputs=torch.ones_like(v),create_graph= True )[0]\n",
    "\n",
    "    v_x = grads_v[:,0:1]\n",
    "    v_y = grads_v[:,1:2]\n",
    "\n",
    "    v_x_x = autograd.grad(v_x, X_f_v, grad_outputs=torch.ones_like(v_x),create_graph= True )[0][:,0:1]\n",
    "    v_y_y = autograd.grad(v_y, X_f_v, grad_outputs=torch.ones_like(v_y),create_graph= True )[0][:,1:2]\n",
    "\n",
    "    # Get u and p as constants on device_v\n",
    "    u = net_u(X_f_u).detach().to(device_v)\n",
    "    p = net_p(X_f_p)\n",
    "\n",
    "    # Spatial derivatives of pressure\n",
    "    p_y = autograd.grad(p, X_f_p, grad_outputs=torch.ones_like(p),create_graph= True,allow_unused= True )[0][:,1:2].to(device_v)\n",
    "\n",
    "    nu = 1.00/400\n",
    "\n",
    "    res_v = u * v_x + v * v_y + p_y - nu * (v_x_x + v_y_y)\n",
    "\n",
    "    return res_v"
   ]
  },
  {
   "cell_type": "code",
   "execution_count": 13,
   "id": "b1303620",
   "metadata": {},
   "outputs": [],
   "source": [
    "def compute_residual_continuity():\n",
    "    # Divergence of velocity field on GPU 0\n",
    "    u = net_u(X_f_u)\n",
    "    v = net_v(X_f_v)\n",
    "    u_x = autograd.grad(u, X_f_u, grad_outputs=torch.ones_like(u), create_graph=True)[0][:, 0:1]\n",
    "    v_y = autograd.grad(v, X_f_v, grad_outputs=torch.ones_like(v), create_graph=True)[0][:, 1:2]\n",
    "    res_c = u_x + v_y.to(device_u)\n",
    "    return res_c"
   ]
  },
  {
   "cell_type": "code",
   "execution_count": null,
   "id": "891e8974",
   "metadata": {},
   "outputs": [],
   "source": []
  }
 ],
 "metadata": {
  "kernelspec": {
   "display_name": "Python 3",
   "language": "python",
   "name": "python3"
  },
  "language_info": {
   "codemirror_mode": {
    "name": "ipython",
    "version": 3
   },
   "file_extension": ".py",
   "mimetype": "text/x-python",
   "name": "python",
   "nbconvert_exporter": "python",
   "pygments_lexer": "ipython3",
   "version": "3.10.12"
  }
 },
 "nbformat": 4,
 "nbformat_minor": 5
}
