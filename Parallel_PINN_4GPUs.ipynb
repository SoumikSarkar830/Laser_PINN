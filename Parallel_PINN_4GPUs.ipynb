{
 "cells": [
  {
   "cell_type": "code",
   "execution_count": 19,
   "id": "3bb20dd9",
   "metadata": {},
   "outputs": [],
   "source": [
    "import torch\n",
    "import torch.nn as nn\n",
    "import torch.autograd as autograd\n",
    "import numpy as np"
   ]
  },
  {
   "cell_type": "code",
   "execution_count": 20,
   "id": "5f638d3e",
   "metadata": {},
   "outputs": [
    {
     "name": "stdout",
     "output_type": "stream",
     "text": [
      "device_u: cuda:0\n",
      "device_v: cuda:1\n",
      "device_p: cuda:2\n",
      "device_T: cuda:3\n"
     ]
    }
   ],
   "source": [
    "device_u = torch.device('cuda:0' if torch.cuda.is_available() else 'cpu')\n",
    "device_v = torch.device('cuda:1' if torch.cuda.device_count() > 1 else device_u)\n",
    "device_p = torch.device('cuda:2' if torch.cuda.device_count() > 2 else device_u)\n",
    "device_T = torch.device('cuda:3' if torch.cuda.device_count() > 3 else device_u)\n",
    "\n",
    "print(f\"device_u: {device_u}\")\n",
    "print(f\"device_v: {device_v}\")\n",
    "print(f\"device_p: {device_p}\")\n",
    "print(f\"device_T: {device_T}\")"
   ]
  },
  {
   "cell_type": "code",
   "execution_count": 21,
   "id": "780944c3",
   "metadata": {},
   "outputs": [],
   "source": [
    "class FCN(nn.Module):\n",
    "    def __init__(self, in_dim, out_dim, hidden_layers=4, neurons=50):\n",
    "        super(FCN, self).__init__()\n",
    "        layers = [nn.Linear(in_dim, neurons), nn.Tanh()]\n",
    "        for _ in range(hidden_layers - 1):\n",
    "            layers += [nn.Linear(neurons, neurons), nn.Tanh()]\n",
    "        layers.append(nn.Linear(neurons, out_dim))\n",
    "        self.net = nn.Sequential(*layers)\n",
    "\n",
    "    def forward(self, x):\n",
    "        return self.net(x)\n",
    "    \n",
    "\n",
    "net_u = FCN(in_dim=3, out_dim=1).to(device_u)   # For u(x, y, t)\n",
    "net_v = FCN(in_dim=3, out_dim=1).to(device_v)   # For v(x, y, t)\n",
    "net_p = FCN(in_dim=3, out_dim=1).to(device_p)   # For p(x, y, t)\n",
    "net_T = FCN(in_dim=3, out_dim=1).to(device_T)   # For T(x, y, t)"
   ]
  },
  {
   "cell_type": "code",
   "execution_count": 22,
   "id": "ea2f9d8a",
   "metadata": {},
   "outputs": [],
   "source": [
    "def generate_collocation_points(N):\n",
    "    x = np.random.rand(N, 1)\n",
    "    y = np.random.rand(N, 1)\n",
    "    t = np.random.rand(N, 1)\n",
    "    X = np.hstack((x, y, t))\n",
    "    return torch.tensor(X, dtype=torch.float32, requires_grad=True)\n",
    "\n",
    "N_f = 10000\n",
    "X_f = generate_collocation_points(N_f)\n",
    "X_f_u = X_f.clone().detach().to(device_u).requires_grad_(True)\n",
    "X_f_v = X_f.clone().detach().to(device_v).requires_grad_(True)\n",
    "X_f_p = X_f.clone().detach().to(device_p).requires_grad_(True)\n",
    "X_f_T = X_f.clone().detach().to(device_T).requires_grad_(True)"
   ]
  },
  {
   "cell_type": "code",
   "execution_count": 23,
   "id": "d7d76a1c",
   "metadata": {},
   "outputs": [],
   "source": [
    "def compute_residual_u():\n",
    "    # Evaluate u and its derivatives on device_u\n",
    "    u = net_u(X_f_u)\n",
    "    grads_u = autograd.grad(u, X_f_u, grad_outputs=torch.ones_like(u), create_graph=True)[0]\n",
    "    u_t = grads_u[:, 2:3]\n",
    "    u_x = grads_u[:, 0:1]\n",
    "    u_y = grads_u[:, 1:2]\n",
    "    u_xx = autograd.grad(u_x, X_f_u, grad_outputs=torch.ones_like(u_x), create_graph=True)[0][:, 0:1]\n",
    "    u_yy = autograd.grad(u_y, X_f_u, grad_outputs=torch.ones_like(u_y), create_graph=True)[0][:, 1:2]\n",
    "\n",
    "    # Get v and p as constants on device_u\n",
    "    v = net_v(X_f_v).to(device_u)\n",
    "    p = net_p(X_f_p).to(device_u)\n",
    "    # Spatial derivatives of pressure\n",
    "    p_x = autograd.grad(p, X_f_p, grad_outputs=torch.ones_like(p), create_graph=True)[0][:, 0:1]\n",
    "\n",
    "    nu = 0.01  # kinematic viscosity\n",
    "    # Momentum-u residual\n",
    "    res_u = u_t + u * u_x + v * u_y + p_x - nu * (u_xx + u_yy)\n",
    "    return res_u"
   ]
  },
  {
   "cell_type": "code",
   "execution_count": 10,
   "id": "ffae0df3",
   "metadata": {},
   "outputs": [],
   "source": [
    "def compute_residual_v():\n",
    "    # Evaluate v and its derivatives on device_v\n",
    "    v = net_v(X_f_v)\n",
    "    grads_v = autograd.grad(v, X_f_v, grad_outputs=torch.ones_like(v), create_graph=True)[0]\n",
    "    v_t = grads_v[:, 2:3]\n",
    "    v_x = grads_v[:, 0:1]\n",
    "    v_y = grads_v[:, 1:2]\n",
    "    v_xx = autograd.grad(v_x, X_f_v, grad_outputs=torch.ones_like(v_x), create_graph=True)[0][:, 0:1]\n",
    "    v_yy = autograd.grad(v_y, X_f_v, grad_outputs=torch.ones_like(v_y), create_graph=True)[0][:, 1:2]\n",
    "\n",
    "    # Get u and p as constants on device_v\n",
    "    u = net_u(X_f_u).to(device_v)\n",
    "    p = net_p(X_f_p).to(device_v)\n",
    "    # Pressure derivatives\n",
    "    p_y = autograd.grad(p, X_f_p, grad_outputs=torch.ones_like(p), create_graph=True)[0][:, 1:2]\n",
    "\n",
    "    nu = 0.01\n",
    "    # Momentum-v residual\n",
    "    res_v = v_t + u * v_x + v * v_y + p_y - nu * (v_xx + v_yy)\n",
    "    return res_v\n"
   ]
  },
  {
   "cell_type": "code",
   "execution_count": 11,
   "id": "4b666215",
   "metadata": {},
   "outputs": [],
   "source": [
    "def compute_residual_continuity():\n",
    "    # Divergence of velocity field on GPU 0\n",
    "    u = net_u(X_f_u)\n",
    "    v = net_v(X_f_v).to(device_u)\n",
    "    u_x = autograd.grad(u, X_f_u, grad_outputs=torch.ones_like(u), create_graph=True)[0][:, 0:1]\n",
    "    v_y = autograd.grad(v, X_f_v.to(device_u), grad_outputs=torch.ones_like(v), create_graph=True)[0][:, 1:2]\n",
    "    res_c = u_x + v_y\n",
    "    return res_c"
   ]
  },
  {
   "cell_type": "code",
   "execution_count": 12,
   "id": "d9a8a299",
   "metadata": {},
   "outputs": [],
   "source": [
    "def compute_residual_T():\n",
    "    # Evaluate T and its derivatives on device_T\n",
    "    T = net_T(X_f_T)\n",
    "    grads_T = autograd.grad(T, X_f_T, grad_outputs=torch.ones_like(T), create_graph=True)[0]\n",
    "    T_t = grads_T[:, 2:3]\n",
    "    T_x = grads_T[:, 0:1]\n",
    "    T_y = grads_T[:, 1:2]\n",
    "    T_xx = autograd.grad(T_x, X_f_T, grad_outputs=torch.ones_like(T_x), create_graph=True)[0][:, 0:1]\n",
    "    T_yy = autograd.grad(T_y, X_f_T, grad_outputs=torch.ones_like(T_y), create_graph=True)[0][:, 1:2]\n",
    "\n",
    "    # Get u,v as constants on device_T\n",
    "    u = net_u(X_f_u).to(device_T)\n",
    "    v = net_v(X_f_v).to(device_T)\n",
    "\n",
    "    alpha = 0.01  # thermal diffusivity\n",
    "    # Energy equation residual\n",
    "    res_T = T_t + u * T_x + v * T_y - alpha * (T_xx + T_yy)\n",
    "    return res_T"
   ]
  },
  {
   "cell_type": "code",
   "execution_count": 15,
   "id": "62314774",
   "metadata": {},
   "outputs": [],
   "source": [
    "def compute_losses():\n",
    "    # Compute individual residuals\n",
    "    res_u = compute_residual_u()\n",
    "    res_v = compute_residual_v()\n",
    "    res_c = compute_residual_continuity()\n",
    "    res_T = compute_residual_T()\n",
    "    # Aggregate into per-network losses (MSE) and return\n",
    "    loss_u = torch.mean(res_u**2) + torch.mean(res_c**2)\n",
    "    loss_v = torch.mean(res_v**2) + torch.mean(res_c**2)\n",
    "    loss_T = torch.mean(res_T**2)\n",
    "    \n",
    "\n",
    "    loss_v_u = loss_v.to(device_u)\n",
    "    loss_T_u = loss_T.to(device_u)\n",
    "    total_loss = (loss_u + loss_v_u + loss_T_u)\n",
    "\n",
    "\n",
    "    return loss_u, loss_v, loss_T, total_loss"
   ]
  },
  {
   "cell_type": "code",
   "execution_count": 16,
   "id": "4e85b193",
   "metadata": {},
   "outputs": [],
   "source": [
    "optimizer_u = torch.optim.Adam(net_u.parameters(), lr=1e-3)\n",
    "optimizer_v = torch.optim.Adam(net_v.parameters(), lr=1e-3)\n",
    "optimizer_T = torch.optim.Adam(net_T.parameters(), lr=1e-3)"
   ]
  },
  {
   "cell_type": "code",
   "execution_count": 17,
   "id": "0618bc05",
   "metadata": {},
   "outputs": [
    {
     "name": "stderr",
     "output_type": "stream",
     "text": [
      "/usr/lib/python3/dist-packages/torch/autograd/graph.py:823: UserWarning: Attempting to run cuBLAS, but there was no current CUDA context! Attempting to set the primary context... (Triggered internally at ./aten/src/ATen/cuda/CublasHandlePool.cpp:180.)\n",
      "  return Variable._execution_engine.run_backward(  # Calls into the C++ engine to run the backward pass\n"
     ]
    },
    {
     "ename": "RuntimeError",
     "evalue": "Expected all tensors to be on the same device, but found at least two devices, cuda:0 and cuda:2!",
     "output_type": "error",
     "traceback": [
      "\u001b[0;31m---------------------------------------------------------------------------\u001b[0m",
      "\u001b[0;31mRuntimeError\u001b[0m                              Traceback (most recent call last)",
      "\u001b[0;32m/tmp/ipykernel_1150316/2818953533.py\u001b[0m in \u001b[0;36m<module>\u001b[0;34m\u001b[0m\n\u001b[1;32m      5\u001b[0m     \u001b[0moptimizer_T\u001b[0m\u001b[0;34m.\u001b[0m\u001b[0mzero_grad\u001b[0m\u001b[0;34m(\u001b[0m\u001b[0;34m)\u001b[0m\u001b[0;34m\u001b[0m\u001b[0;34m\u001b[0m\u001b[0m\n\u001b[1;32m      6\u001b[0m \u001b[0;34m\u001b[0m\u001b[0m\n\u001b[0;32m----> 7\u001b[0;31m     \u001b[0mloss_u\u001b[0m\u001b[0;34m,\u001b[0m \u001b[0mloss_v\u001b[0m\u001b[0;34m,\u001b[0m \u001b[0mloss_c\u001b[0m\u001b[0;34m,\u001b[0m \u001b[0mloss_T\u001b[0m\u001b[0;34m,\u001b[0m \u001b[0mtotal_loss\u001b[0m \u001b[0;34m=\u001b[0m \u001b[0mcompute_losses\u001b[0m\u001b[0;34m(\u001b[0m\u001b[0;34m)\u001b[0m\u001b[0;34m\u001b[0m\u001b[0;34m\u001b[0m\u001b[0m\n\u001b[0m\u001b[1;32m      8\u001b[0m \u001b[0;34m\u001b[0m\u001b[0m\n\u001b[1;32m      9\u001b[0m     \u001b[0;34m(\u001b[0m\u001b[0mloss_u\u001b[0m \u001b[0;34m+\u001b[0m \u001b[0mloss_c\u001b[0m\u001b[0;34m)\u001b[0m\u001b[0;34m.\u001b[0m\u001b[0mbackward\u001b[0m\u001b[0;34m(\u001b[0m\u001b[0mretain_graph\u001b[0m\u001b[0;34m=\u001b[0m\u001b[0;32mTrue\u001b[0m\u001b[0;34m)\u001b[0m\u001b[0;34m\u001b[0m\u001b[0;34m\u001b[0m\u001b[0m\n",
      "\u001b[0;32m/tmp/ipykernel_1150316/9667958.py\u001b[0m in \u001b[0;36mcompute_losses\u001b[0;34m()\u001b[0m\n\u001b[1;32m      1\u001b[0m \u001b[0;32mdef\u001b[0m \u001b[0mcompute_losses\u001b[0m\u001b[0;34m(\u001b[0m\u001b[0;34m)\u001b[0m\u001b[0;34m:\u001b[0m\u001b[0;34m\u001b[0m\u001b[0;34m\u001b[0m\u001b[0m\n\u001b[1;32m      2\u001b[0m     \u001b[0;31m# Compute individual residuals\u001b[0m\u001b[0;34m\u001b[0m\u001b[0;34m\u001b[0m\u001b[0m\n\u001b[0;32m----> 3\u001b[0;31m     \u001b[0mres_u\u001b[0m \u001b[0;34m=\u001b[0m \u001b[0mcompute_residual_u\u001b[0m\u001b[0;34m(\u001b[0m\u001b[0;34m)\u001b[0m\u001b[0;34m\u001b[0m\u001b[0;34m\u001b[0m\u001b[0m\n\u001b[0m\u001b[1;32m      4\u001b[0m     \u001b[0mres_v\u001b[0m \u001b[0;34m=\u001b[0m \u001b[0mcompute_residual_v\u001b[0m\u001b[0;34m(\u001b[0m\u001b[0;34m)\u001b[0m\u001b[0;34m\u001b[0m\u001b[0;34m\u001b[0m\u001b[0m\n\u001b[1;32m      5\u001b[0m     \u001b[0mres_c\u001b[0m \u001b[0;34m=\u001b[0m \u001b[0mcompute_residual_continuity\u001b[0m\u001b[0;34m(\u001b[0m\u001b[0;34m)\u001b[0m\u001b[0;34m\u001b[0m\u001b[0;34m\u001b[0m\u001b[0m\n",
      "\u001b[0;32m/tmp/ipykernel_1150316/499693252.py\u001b[0m in \u001b[0;36mcompute_residual_u\u001b[0;34m()\u001b[0m\n\u001b[1;32m     17\u001b[0m     \u001b[0mnu\u001b[0m \u001b[0;34m=\u001b[0m \u001b[0;36m0.01\u001b[0m  \u001b[0;31m# kinematic viscosity\u001b[0m\u001b[0;34m\u001b[0m\u001b[0;34m\u001b[0m\u001b[0m\n\u001b[1;32m     18\u001b[0m     \u001b[0;31m# Momentum-u residual\u001b[0m\u001b[0;34m\u001b[0m\u001b[0;34m\u001b[0m\u001b[0m\n\u001b[0;32m---> 19\u001b[0;31m     \u001b[0mres_u\u001b[0m \u001b[0;34m=\u001b[0m \u001b[0mu_t\u001b[0m \u001b[0;34m+\u001b[0m \u001b[0mu\u001b[0m \u001b[0;34m*\u001b[0m \u001b[0mu_x\u001b[0m \u001b[0;34m+\u001b[0m \u001b[0mv\u001b[0m \u001b[0;34m*\u001b[0m \u001b[0mu_y\u001b[0m \u001b[0;34m+\u001b[0m \u001b[0mp_x\u001b[0m \u001b[0;34m-\u001b[0m \u001b[0mnu\u001b[0m \u001b[0;34m*\u001b[0m \u001b[0;34m(\u001b[0m\u001b[0mu_xx\u001b[0m \u001b[0;34m+\u001b[0m \u001b[0mu_yy\u001b[0m\u001b[0;34m)\u001b[0m\u001b[0;34m\u001b[0m\u001b[0;34m\u001b[0m\u001b[0m\n\u001b[0m\u001b[1;32m     20\u001b[0m     \u001b[0;32mreturn\u001b[0m \u001b[0mres_u\u001b[0m\u001b[0;34m\u001b[0m\u001b[0;34m\u001b[0m\u001b[0m\n",
      "\u001b[0;31mRuntimeError\u001b[0m: Expected all tensors to be on the same device, but found at least two devices, cuda:0 and cuda:2!"
     ]
    }
   ],
   "source": [
    "num_epochs = 5000\n",
    "for epoch in range(num_epochs):\n",
    "    optimizer_u.zero_grad()\n",
    "    optimizer_v.zero_grad()\n",
    "    optimizer_T.zero_grad()\n",
    "\n",
    "    loss_u, loss_v, loss_c, loss_T, total_loss = compute_losses()\n",
    "\n",
    "    (loss_u + loss_c).backward(retain_graph=True)\n",
    "    (loss_v + loss_c).backward()\n",
    "    loss_T.backward()\n",
    "\n",
    "    optimizer_u.step()\n",
    "    optimizer_v.step()\n",
    "    optimizer_T.step()\n",
    "\n",
    "\n",
    "    if epoch % 500 == 0:\n",
    "        print(f\"Epoch {epoch}: loss_u={loss_u.item():.3e}, loss_v={loss_v.item():.3e}, loss_T={loss_T.item():.3e}, total={total_loss.item():.3e}\")"
   ]
  }
 ],
 "metadata": {
  "kernelspec": {
   "display_name": "Python 3",
   "language": "python",
   "name": "python3"
  },
  "language_info": {
   "codemirror_mode": {
    "name": "ipython",
    "version": 3
   },
   "file_extension": ".py",
   "mimetype": "text/x-python",
   "name": "python",
   "nbconvert_exporter": "python",
   "pygments_lexer": "ipython3",
   "version": "3.10.12"
  }
 },
 "nbformat": 4,
 "nbformat_minor": 5
}
