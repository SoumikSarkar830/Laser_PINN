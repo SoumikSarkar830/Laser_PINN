{
 "cells": [
  {
   "cell_type": "code",
   "execution_count": 1,
   "id": "156f84b9",
   "metadata": {},
   "outputs": [],
   "source": [
    "import numpy as np\n",
    "import matplotlib.pyplot as plt\n",
    "from scipy.stats import norm"
   ]
  },
  {
   "cell_type": "code",
   "execution_count": 2,
   "id": "f02b9e49",
   "metadata": {},
   "outputs": [],
   "source": [
    "np.random.seed(0)\n",
    "\n",
    "\n",
    "data = np.random.normal(loc = 5,scale = 1, size = 20)\n",
    "\n",
    "def log_posterior(mu):\n",
    "    log_likelihood = np.sum(norm.logpdf(data,loc = 5, scale = 1))\n",
    "    log_prior = norm.logpdf(mu, loc = 0, scale = 10)\n",
    "\n",
    "    return log_likelihood + log_prior\n",
    "\n",
    "\n"
   ]
  },
  {
   "cell_type": "code",
   "execution_count": 3,
   "id": "0251eb4b",
   "metadata": {},
   "outputs": [],
   "source": [
    "# Metropolis-Hastings Algorithm\n",
    "\n",
    "mu_current = 0\n",
    "proposal_sd = 0.5\n",
    "samples = []\n",
    "accepted = 0\n",
    "\n",
    "for i in range(10000):\n",
    "    mu_proposed = np.random.normal(mu_current, proposal_sd)\n",
    "\n",
    "    log_r = log_posterior(mu_proposed) - log_posterior(mu_current)\n",
    "\n",
    "    if np.log(np.random.rand()) < log_r:\n",
    "        mu_current = mu_proposed\n",
    "        accepted += 1\n",
    "\n",
    "    samples.append(mu_current)\n",
    "\n",
    "samples = np.array(samples)\n",
    "\n",
    "\n",
    "burn_in = 1000\n",
    "samples = samples[burn_in:]\n",
    "\n",
    "\n"
   ]
  },
  {
   "cell_type": "code",
   "execution_count": 5,
   "id": "11fed952",
   "metadata": {},
   "outputs": [
    {
     "data": {
      "image/png": "[encoded data removed]",
      "text/plain": [
       "<Figure size 432x288 with 1 Axes>"
      ]
     },
     "metadata": {
      "needs_background": "light"
     },
     "output_type": "display_data"
    }
   ],
   "source": [
    "plt.hist(samples, bins = 50, density = True, alpha = 0.7, label = \"Sampled data\")\n",
    "plt.axvline(np.mean(samples), color='red', linestyle='--', label='Posterior mean')\n",
    "plt.xlabel(r'$\\mu$')\n",
    "plt.ylabel(\"Density\")\n",
    "plt.title(\"Metropolis-Hastings posterior sampling\")\n",
    "plt.legend()\n",
    "plt.grid(True)\n",
    "plt.show()"
   ]
  }
 ],
 "metadata": {
  "kernelspec": {
   "display_name": "Python 3",
   "language": "python",
   "name": "python3"
  },
  "language_info": {
   "codemirror_mode": {
    "name": "ipython",
    "version": 3
   },
   "file_extension": ".py",
   "mimetype": "text/x-python",
   "name": "python",
   "nbconvert_exporter": "python",
   "pygments_lexer": "ipython3",
   "version": "3.10.12"
  }
 },
 "nbformat": 4,
 "nbformat_minor": 5
}
