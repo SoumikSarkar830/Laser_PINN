{
 "cells": [
  {
   "cell_type": "code",
   "execution_count": 2,
   "id": "1c11b241",
   "metadata": {},
   "outputs": [
    {
     "name": "stdout",
     "output_type": "stream",
     "text": [
      "Requirement already satisfied: pyro-ppl in /home/soumik/.local/lib/python3.10/site-packages (1.9.1)\n",
      "Requirement already satisfied: numpy>=1.7 in /home/soumik/.local/lib/python3.10/site-packages (from pyro-ppl) (2.2.6)\n",
      "Requirement already satisfied: opt-einsum>=2.3.2 in /home/soumik/miniconda3/envs/pyro_env/lib/python3.10/site-packages (from pyro-ppl) (3.4.0)\n",
      "Requirement already satisfied: pyro-api>=0.1.1 in /home/soumik/.local/lib/python3.10/site-packages (from pyro-ppl) (0.1.2)\n",
      "Requirement already satisfied: torch>=2.0 in /home/soumik/miniconda3/envs/pyro_env/lib/python3.10/site-packages (from pyro-ppl) (2.7.1)\n",
      "Requirement already satisfied: tqdm>=4.36 in /home/soumik/.local/lib/python3.10/site-packages (from pyro-ppl) (4.67.1)\n",
      "Requirement already satisfied: filelock in /home/soumik/miniconda3/envs/pyro_env/lib/python3.10/site-packages (from torch>=2.0->pyro-ppl) (3.18.0)\n",
      "Requirement already satisfied: typing-extensions>=4.10.0 in /home/soumik/miniconda3/envs/pyro_env/lib/python3.10/site-packages (from torch>=2.0->pyro-ppl) (4.14.0)\n",
      "Requirement already satisfied: sympy>=1.13.3 in /home/soumik/miniconda3/envs/pyro_env/lib/python3.10/site-packages (from torch>=2.0->pyro-ppl) (1.14.0)\n",
      "Requirement already satisfied: networkx in /home/soumik/miniconda3/envs/pyro_env/lib/python3.10/site-packages (from torch>=2.0->pyro-ppl) (3.4.2)\n",
      "Requirement already satisfied: jinja2 in /home/soumik/miniconda3/envs/pyro_env/lib/python3.10/site-packages (from torch>=2.0->pyro-ppl) (3.1.6)\n",
      "Requirement already satisfied: fsspec in /home/soumik/miniconda3/envs/pyro_env/lib/python3.10/site-packages (from torch>=2.0->pyro-ppl) (2025.5.1)\n",
      "Requirement already satisfied: nvidia-cuda-nvrtc-cu12==12.6.77 in /home/soumik/miniconda3/envs/pyro_env/lib/python3.10/site-packages (from torch>=2.0->pyro-ppl) (12.6.77)\n",
      "Requirement already satisfied: nvidia-cuda-runtime-cu12==12.6.77 in /home/soumik/miniconda3/envs/pyro_env/lib/python3.10/site-packages (from torch>=2.0->pyro-ppl) (12.6.77)\n",
      "Requirement already satisfied: nvidia-cuda-cupti-cu12==12.6.80 in /home/soumik/miniconda3/envs/pyro_env/lib/python3.10/site-packages (from torch>=2.0->pyro-ppl) (12.6.80)\n",
      "Requirement already satisfied: nvidia-cudnn-cu12==9.5.1.17 in /home/soumik/miniconda3/envs/pyro_env/lib/python3.10/site-packages (from torch>=2.0->pyro-ppl) (9.5.1.17)\n",
      "Requirement already satisfied: nvidia-cublas-cu12==12.6.4.1 in /home/soumik/miniconda3/envs/pyro_env/lib/python3.10/site-packages (from torch>=2.0->pyro-ppl) (12.6.4.1)\n",
      "Requirement already satisfied: nvidia-cufft-cu12==11.3.0.4 in /home/soumik/miniconda3/envs/pyro_env/lib/python3.10/site-packages (from torch>=2.0->pyro-ppl) (11.3.0.4)\n",
      "Requirement already satisfied: nvidia-curand-cu12==10.3.7.77 in /home/soumik/miniconda3/envs/pyro_env/lib/python3.10/site-packages (from torch>=2.0->pyro-ppl) (10.3.7.77)\n",
      "Requirement already satisfied: nvidia-cusolver-cu12==11.7.1.2 in /home/soumik/miniconda3/envs/pyro_env/lib/python3.10/site-packages (from torch>=2.0->pyro-ppl) (11.7.1.2)\n",
      "Requirement already satisfied: nvidia-cusparse-cu12==12.5.4.2 in /home/soumik/miniconda3/envs/pyro_env/lib/python3.10/site-packages (from torch>=2.0->pyro-ppl) (12.5.4.2)\n",
      "Requirement already satisfied: nvidia-cusparselt-cu12==0.6.3 in /home/soumik/miniconda3/envs/pyro_env/lib/python3.10/site-packages (from torch>=2.0->pyro-ppl) (0.6.3)\n",
      "Requirement already satisfied: nvidia-nccl-cu12==2.26.2 in /home/soumik/miniconda3/envs/pyro_env/lib/python3.10/site-packages (from torch>=2.0->pyro-ppl) (2.26.2)\n",
      "Requirement already satisfied: nvidia-nvtx-cu12==12.6.77 in /home/soumik/miniconda3/envs/pyro_env/lib/python3.10/site-packages (from torch>=2.0->pyro-ppl) (12.6.77)\n",
      "Requirement already satisfied: nvidia-nvjitlink-cu12==12.6.85 in /home/soumik/miniconda3/envs/pyro_env/lib/python3.10/site-packages (from torch>=2.0->pyro-ppl) (12.6.85)\n",
      "Requirement already satisfied: nvidia-cufile-cu12==1.11.1.6 in /home/soumik/miniconda3/envs/pyro_env/lib/python3.10/site-packages (from torch>=2.0->pyro-ppl) (1.11.1.6)\n",
      "Requirement already satisfied: triton==3.3.1 in /home/soumik/miniconda3/envs/pyro_env/lib/python3.10/site-packages (from torch>=2.0->pyro-ppl) (3.3.1)\n",
      "Requirement already satisfied: setuptools>=40.8.0 in /home/soumik/miniconda3/envs/pyro_env/lib/python3.10/site-packages (from triton==3.3.1->torch>=2.0->pyro-ppl) (78.1.1)\n",
      "Requirement already satisfied: mpmath<1.4,>=1.1.0 in /home/soumik/miniconda3/envs/pyro_env/lib/python3.10/site-packages (from sympy>=1.13.3->torch>=2.0->pyro-ppl) (1.3.0)\n",
      "Requirement already satisfied: MarkupSafe>=2.0 in /home/soumik/miniconda3/envs/pyro_env/lib/python3.10/site-packages (from jinja2->torch>=2.0->pyro-ppl) (3.0.2)\n"
     ]
    }
   ],
   "source": [
    "!pip install pyro-ppl\n",
    "\n",
    "import torch\n",
    "import torch.nn as nn\n",
    "import torch.autograd as autograd\n",
    "import numpy as np\n",
    "import matplotlib.pyplot as plt"
   ]
  },
  {
   "cell_type": "code",
   "execution_count": 3,
   "id": "c789939f",
   "metadata": {},
   "outputs": [
    {
     "name": "stderr",
     "output_type": "stream",
     "text": [
      "/home/soumik/.local/lib/python3.10/site-packages/tqdm/auto.py:21: TqdmWarning: IProgress not found. Please update jupyter and ipywidgets. See https://ipywidgets.readthedocs.io/en/stable/user_install.html\n",
      "  from .autonotebook import tqdm as notebook_tqdm\n"
     ]
    }
   ],
   "source": [
    "import pyro\n",
    "import pyro.distributions as dist\n",
    "from pyro.nn import PyroModule, PyroSample\n",
    "from pyro.infer import MCMC, NUTS, Predictive"
   ]
  },
  {
   "cell_type": "code",
   "execution_count": 14,
   "id": "d8822e10",
   "metadata": {},
   "outputs": [
    {
     "name": "stdout",
     "output_type": "stream",
     "text": [
      "device: cpu\n"
     ]
    }
   ],
   "source": [
    "\n",
    "#device = torch.device('cuda:0' if torch.cuda.is_available() else 'cpu')\n",
    "device = torch.device('cpu')\n",
    "print(f'device: {device}')"
   ]
  },
  {
   "cell_type": "code",
   "execution_count": 15,
   "id": "81eb7b80",
   "metadata": {},
   "outputs": [],
   "source": [
    "pyro.set_rng_seed(42)\n",
    "\n",
    "class BayesianNN(PyroModule):\n",
    "    def __init__(self):\n",
    "        super().__init__()\n",
    "        self.layer1 = PyroModule[nn.Linear](1,5)\n",
    "        self.layer1.weight = PyroSample(dist.Normal(0.,1.).expand([5,1]).to_event(2))\n",
    "        self.layer1.bias = PyroSample(dist.Normal(0.,1.).expand([5]).to_event(1))\n",
    "\n",
    "        self.layer2 = PyroModule[nn.Linear](5,5)\n",
    "        self.layer2.weight = PyroSample(dist.Normal(0.,1.).expand([5,5]).to_event(2))\n",
    "        self.layer2.bias = PyroSample(dist.Normal(0.,1.).expand([5]).to_event(1))\n",
    "\n",
    "        self.layer3 = PyroModule[nn.Linear](5,1)\n",
    "        self.layer3.weight = PyroSample(dist.Normal(0.,1.).expand([1,5]).to_event(2))\n",
    "        self.layer3.bias = PyroSample(dist.Normal(0.,1.).expand([1]).to_event(1))\n",
    "\n",
    "        self.activation = nn.Tanh()\n",
    "\n",
    "    def forward(self,t):\n",
    "        t = t.view(-1,1)\n",
    "\n",
    "        h1 = self.activation(self.layer1(t))\n",
    "        h2 = self.activation(self.layer2(h1))\n",
    "\n",
    "        u_pred = self.layer3(h2).squeeze(-1)\n",
    "\n",
    "        return u_pred\n",
    "\n",
    "     \n"
   ]
  },
  {
   "cell_type": "code",
   "execution_count": 16,
   "id": "44d74489",
   "metadata": {},
   "outputs": [],
   "source": [
    "# Generate Collocation Points\n",
    "\n",
    "N_f = 1000\n",
    "t_f = torch.linspace(0,5,N_f).view(-1,1).to(device).requires_grad_(True)\n",
    "\n",
    "# Generate Initial Points\n",
    "\n",
    "t_ic = torch.tensor([0.0], requires_grad=True).to(device)"
   ]
  },
  {
   "cell_type": "code",
   "execution_count": 17,
   "id": "c9c0aaa3",
   "metadata": {},
   "outputs": [],
   "source": [
    "# Generate synthetic sensor data\n",
    "\n",
    "N_obs = 10\n",
    "t_obs = torch.linspace(0, 5, N_obs).unsqueeze(-1).to(device)\n",
    "u_true = (t_obs**2) / 2 + t_obs\n",
    "noise_std = 0.1\n",
    "u_obs = u_true + noise_std * torch.randn_like(u_true)"
   ]
  },
  {
   "cell_type": "code",
   "execution_count": null,
   "id": "96a0081d",
   "metadata": {},
   "outputs": [],
   "source": []
  },
  {
   "cell_type": "code",
   "execution_count": 20,
   "id": "8edb1eca",
   "metadata": {},
   "outputs": [],
   "source": [
    "# Physics Likelihood\n",
    "\n",
    "model =  BayesianNN()\n",
    "\n",
    "def physics(t_f,t_ic,lambda_phy = 100.0, lambda_ic = 100.0):\n",
    "    #model = BayesianNN()\n",
    "    # u = model(t_f)\n",
    "    # du_dt = torch.autograd.grad(u,t_f,grad_outputs=torch.ones_like(u),create_graph=True)[0]\n",
    "\n",
    "    # res_pde = du_dt - t_f\n",
    "\n",
    "    # loss_pde = torch.mean(res_pde**2)\n",
    "\n",
    "    # pyro.factor('physics loss', -lambda_phy * loss_pde)\n",
    "\n",
    "    # Sensor Likelihood\n",
    "\n",
    "    u_pred_obs = model(t_obs)\n",
    "    pyro.sample(\"obs\", dist.Normal(u_pred_obs.squeeze(-1), noise_std).to_event(1),obs=u_obs.squeeze(-1))\n",
    "\n",
    "\n",
    "    # u_ic = model(t_ic)\n",
    "\n",
    "    # res_ic = u_ic - 0.0\n",
    "\n",
    "    # loss_ic = torch.mean(res_ic ** 2)\n",
    "\n",
    "    # pyro.factor('initial condition loss', -lambda_ic * loss_ic)\n",
    "\n",
    "\n",
    "    "
   ]
  },
  {
   "cell_type": "code",
   "execution_count": 21,
   "id": "c07e7212",
   "metadata": {},
   "outputs": [
    {
     "name": "stderr",
     "output_type": "stream",
     "text": [
      "Sample: 100%|██████████| 150/150 [02:22,  1.05it/s, step size=3.01e-03, acc. prob=0.929]\n"
     ]
    }
   ],
   "source": [
    "\n",
    "nuts_kernel = NUTS(physics)\n",
    "mcmc = MCMC(nuts_kernel, num_samples=100, warmup_steps=50)\n",
    "mcmc.run(t_f, t_ic)\n",
    "\n",
    "\n",
    "samples = mcmc.get_samples()"
   ]
  },
  {
   "cell_type": "code",
   "execution_count": 22,
   "id": "a7397e46",
   "metadata": {},
   "outputs": [],
   "source": [
    "# Extract posterior samples\n",
    "\n",
    "samples = mcmc.get_samples()"
   ]
  },
  {
   "cell_type": "code",
   "execution_count": null,
   "id": "5a34face",
   "metadata": {},
   "outputs": [],
   "source": []
  }
 ],
 "metadata": {
  "kernelspec": {
   "display_name": "pyro_env",
   "language": "python",
   "name": "python3"
  },
  "language_info": {
   "codemirror_mode": {
    "name": "ipython",
    "version": 3
   },
   "file_extension": ".py",
   "mimetype": "text/x-python",
   "name": "python",
   "nbconvert_exporter": "python",
   "pygments_lexer": "ipython3",
   "version": "3.10.18"
  }
 },
 "nbformat": 4,
 "nbformat_minor": 5
}
