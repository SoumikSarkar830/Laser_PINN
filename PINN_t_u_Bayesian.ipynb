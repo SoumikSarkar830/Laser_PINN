{
 "cells": [
  {
   "cell_type": "code",
   "execution_count": 3,
   "id": "1c11b241",
   "metadata": {},
   "outputs": [
    {
     "name": "stdout",
     "output_type": "stream",
     "text": [
      "Defaulting to user installation because normal site-packages is not writeable\n",
      "Requirement already satisfied: pyro-ppl in /home/soumik/.local/lib/python3.10/site-packages (1.9.1)\n",
      "Requirement already satisfied: numpy>=1.7 in /home/soumik/.local/lib/python3.10/site-packages (from pyro-ppl) (2.2.6)\n",
      "Requirement already satisfied: pyro-api>=0.1.1 in /home/soumik/.local/lib/python3.10/site-packages (from pyro-ppl) (0.1.2)\n",
      "Requirement already satisfied: torch>=2.0 in /usr/lib/python3/dist-packages (from pyro-ppl) (2.6.0)\n",
      "Requirement already satisfied: opt-einsum>=2.3.2 in /usr/lib/python3/dist-packages (from pyro-ppl) (3.3.0)\n",
      "Requirement already satisfied: tqdm>=4.36 in /home/soumik/.local/lib/python3.10/site-packages (from pyro-ppl) (4.67.1)\n"
     ]
    }
   ],
   "source": [
    "!pip install pyro-ppl\n",
    "\n",
    "import torch\n",
    "import torch.nn as nn\n",
    "import torch.autograd as autograd\n",
    "import numpy as np\n",
    "import matplotlib.pyplot as plt"
   ]
  },
  {
   "cell_type": "code",
   "execution_count": 4,
   "id": "c789939f",
   "metadata": {},
   "outputs": [
    {
     "name": "stderr",
     "output_type": "stream",
     "text": [
      "/home/soumik/.local/lib/python3.10/site-packages/tqdm/auto.py:21: TqdmWarning: IProgress not found. Please update jupyter and ipywidgets. See https://ipywidgets.readthedocs.io/en/stable/user_install.html\n",
      "  from .autonotebook import tqdm as notebook_tqdm\n"
     ]
    }
   ],
   "source": [
    "import pyro\n",
    "import pyro.distributions as dist\n",
    "from pyro.nn import PyroModule, PyroSample"
   ]
  },
  {
   "cell_type": "code",
   "execution_count": 5,
   "id": "d8822e10",
   "metadata": {},
   "outputs": [
    {
     "name": "stdout",
     "output_type": "stream",
     "text": [
      "device: cuda:0\n"
     ]
    }
   ],
   "source": [
    "torch.manual_seed(42)\n",
    "\n",
    "device = torch.device('cuda:0' if torch.cuda.is_available() else 'cpu')\n",
    "print(f'device: {device}')"
   ]
  }
 ],
 "metadata": {
  "kernelspec": {
   "display_name": "Python 3",
   "language": "python",
   "name": "python3"
  },
  "language_info": {
   "codemirror_mode": {
    "name": "ipython",
    "version": 3
   },
   "file_extension": ".py",
   "mimetype": "text/x-python",
   "name": "python",
   "nbconvert_exporter": "python",
   "pygments_lexer": "ipython3",
   "version": "3.10.12"
  }
 },
 "nbformat": 4,
 "nbformat_minor": 5
}
