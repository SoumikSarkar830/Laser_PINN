{
 "cells": [
  {
   "cell_type": "code",
   "execution_count": 1,
   "id": "1c419421",
   "metadata": {},
   "outputs": [],
   "source": [
    "import torch\n",
    "import torch.nn as nn\n",
    "import torch.optim as optim\n",
    "import torch.autograd as autograd \n",
    "import numpy as np\n",
    "import matplotlib.pyplot as plt\n",
    "\n",
    "import time"
   ]
  },
  {
   "cell_type": "code",
   "execution_count": 2,
   "id": "4aef2d08",
   "metadata": {},
   "outputs": [],
   "source": [
    "# torch.manual_seed(42)"
   ]
  },
  {
   "cell_type": "code",
   "execution_count": 2,
   "id": "a95418f6",
   "metadata": {},
   "outputs": [
    {
     "name": "stdout",
     "output_type": "stream",
     "text": [
      "device: cpu\n"
     ]
    }
   ],
   "source": [
    "# device = torch.device('cuda:0' if torch.cuda.is_available() else 'cpu')\n",
    "device = 'cpu'\n",
    "print(f'device: {device}')"
   ]
  },
  {
   "cell_type": "code",
   "execution_count": 3,
   "id": "9281fdc8",
   "metadata": {},
   "outputs": [],
   "source": [
    "class Sequentialmodel(nn.Module):\n",
    "    \n",
    "    def __init__(self,layers):\n",
    "        super().__init__() #call __init__ from parent class \n",
    "              \n",
    "    \n",
    "        self.activation = nn.Tanh()\n",
    "        self.loss_function = nn.MSELoss(reduction ='mean')\n",
    "\n",
    "        self.layers = layers\n",
    "        \n",
    "        'Initialise neural network as a list using nn.Modulelist'  \n",
    "        self.linears = nn.ModuleList([nn.Linear(layers[i], layers[i+1]) for i in range(len(layers)-1)])\n",
    "        \n",
    "        for i in range(len(layers)-1):\n",
    "            nn.init.xavier_normal_(self.linears[i].weight.data, gain=1.0)\n",
    "            # set biases to zero\n",
    "            nn.init.zeros_(self.linears[i].bias.data)\n",
    "\n",
    "        self.H1 = self.linears[0]\n",
    "\n",
    "        \n",
    "    'forward pass'\n",
    "    def forward(self,x,y):              \n",
    "        \n",
    "        # for i in range(len(self.layers)-2):\n",
    "        #     z = self.linears[i](a)\n",
    "        #     a = self.activation(z)\n",
    "\n",
    "        a = torch.cat([x,y], dim = 1)    #(N,2)\n",
    "\n",
    "        for i in range(len(self.layers)-2):\n",
    "            z = self.linears[i](a)\n",
    "            a = self.activation(z)\n",
    "\n",
    "\n",
    "            \n",
    "        b = self.linears[-1](a) \n",
    "         \n",
    "        return b\n",
    "    \n",
    "    # def forward_direct(self, x):\n",
    "        \n",
    "    #     z = x.float()\n",
    "    #     H = self.linears[0].weight\n",
    "\n",
    "    #     for i in range(len(self.layers)-2):\n",
    "    #         L = self.linears[i](z)\n",
    "    #         z = self.activation(L)\n",
    "    #         G = (1-torch.square(z))*H.t() #\\sigma'(L)*H\n",
    "    #         H = torch.matmul(self.linears[i+1].weight,G.t())\n",
    "\n",
    "    #     z = self.linears[-1](z)\n",
    "         \n",
    "    #     return z,H"
   ]
  },
  {
   "cell_type": "code",
   "execution_count": 4,
   "id": "38d4f566",
   "metadata": {},
   "outputs": [],
   "source": [
    "# layers = np.array([2,50,50,50,50,50,1])\n",
    "layers = np.array([2,20,20,20,20,20,1])\n",
    "# PINN = Sequentialmodel(layers).to(device)"
   ]
  },
  {
   "cell_type": "code",
   "execution_count": 6,
   "id": "574a7217",
   "metadata": {},
   "outputs": [],
   "source": [
    "# Resetting to ensure the reported peak truly reflects the training loop, rather than including earlier setup.\n",
    "\n",
    "# if device.type == 'cuda':\n",
    "#     torch.cuda.reset_peak_memory_stats(device)"
   ]
  },
  {
   "cell_type": "code",
   "execution_count": 5,
   "id": "e78b42ff",
   "metadata": {},
   "outputs": [],
   "source": [
    "# Create the training data\n",
    "\n",
    "x = torch.linspace(0,1,300, requires_grad = True).view(-1,1)\n",
    "y = torch.linspace(0,1,300, requires_grad = True).view(-1,1)\n",
    "\n",
    "\n",
    "\n",
    "if torch.is_tensor(x) != True:         \n",
    "    x = torch.from_numpy(x)  \n",
    "if torch.is_tensor(y) != True:         \n",
    "    y = torch.from_numpy(y) \n",
    "\n",
    "\n",
    "#convert to float\n",
    "x = x.float()\n",
    "y = y.float()\n",
    "\n",
    "\n",
    "    \n",
    "x_train,y_train = torch.meshgrid(x.squeeze(),y.squeeze(), indexing = 'xy')\n",
    "\n",
    "# x_train = x_train.reshape(-1,1).to(device).requires_grad_(True)     \n",
    "# y_train = y_train.reshape(-1,1).to(device).requires_grad_(True) \n",
    "     \n",
    "\n",
    "x_train = x_train.reshape(-1,1).requires_grad_(True)     \n",
    "y_train = y_train.reshape(-1,1).requires_grad_(True) \n",
    "     \n",
    "\n"
   ]
  },
  {
   "cell_type": "code",
   "execution_count": 6,
   "id": "099854b8",
   "metadata": {},
   "outputs": [],
   "source": [
    "# Create boundary points\n",
    "\n",
    "def generate_boundary_points(N = 10000):\n",
    "    x_0 = torch.zeros(N,1) ; x_1 = torch.ones(N,1); ylr = torch.linspace(0,1.,N).unsqueeze(-1)\n",
    "    # b_l = torch.cat([x_0,ylr], dim = 1); b_r = torch.cat([x_1,ylr], dim = 1)\n",
    "\n",
    "    y_0 = torch.zeros(N,1); y_1 = torch.ones(N,1); xbt = torch.linspace(0,1.,N).unsqueeze(-1)\n",
    "    # b_b = torch.cat([xbt,y_0], dim = 1); b_t = torch.cat([xbt,y_1], dim = 1)\n",
    "\n",
    "    # x_0 = x_0.to(device)\n",
    "    # x_1 = x_1.to(device)\n",
    "    # ylr = ylr.to(device)\n",
    "    \n",
    "\n",
    "\n",
    "    # y_0 = y_0.to(device)\n",
    "    # y_1 = y_1.to(device)\n",
    "    # xbt = xbt.to(device)\n",
    "\n",
    "    return x_0, x_1, ylr, y_0, y_1, xbt\n",
    "\n",
    "\n",
    "\n",
    "\n",
    "\n",
    "\n",
    "\n"
   ]
  },
  {
   "cell_type": "code",
   "execution_count": 7,
   "id": "6b4d3c07",
   "metadata": {},
   "outputs": [],
   "source": [
    "def pde_residual(x, y):\n",
    "    u = PINN(x,y)\n",
    "\n",
    "    du_dx = torch.autograd.grad(u, x, torch.ones_like(u), create_graph=True)[0]\n",
    "    du_dy = torch.autograd.grad(u, y, torch.ones_like(u), create_graph=True)[0]\n",
    "    \n",
    "\n",
    "    du_dx_x = torch.autograd.grad(du_dx, x, torch.ones_like(du_dx), create_graph=True)[0]\n",
    "    du_dy_y = torch.autograd.grad(du_dy, y, torch.ones_like(du_dy), create_graph=True)[0]\n",
    "    \n",
    "\n",
    "    res_pde = du_dx_x + du_dy_y\n",
    "\n",
    "    return res_pde\n",
    "\n",
    "\n",
    "    "
   ]
  },
  {
   "cell_type": "code",
   "execution_count": 9,
   "id": "efe8c4b3",
   "metadata": {},
   "outputs": [],
   "source": [
    "def boundary_condition(x,y):\n",
    "\n",
    "    x_0, x_1, ylr, y_0, y_1, xbt = generate_boundary_points()\n",
    "\n",
    "    u_x_0 = PINN(x_0, ylr)\n",
    "    u_x_1 = PINN(x_1,ylr)\n",
    "\n",
    "    u_y_0 = PINN(xbt,y_0)\n",
    "    u_y_1 = PINN(xbt,y_1)\n",
    "\n",
    "   \n",
    "\n",
    "    res_x_0 = u_x_0 - torch.zeros_like(ylr)\n",
    "    res_x_1 = u_x_1 - torch.sin(np.pi * ylr)\n",
    "    res_y_0 = u_y_0 - torch.zeros_like(xbt)\n",
    "    res_y_1 = u_y_1 - torch.zeros_like(xbt)\n",
    "    \n",
    "\n",
    "    return res_x_0,res_x_1,res_y_0,res_y_1"
   ]
  },
  {
   "cell_type": "code",
   "execution_count": 10,
   "id": "1355c354",
   "metadata": {},
   "outputs": [],
   "source": [
    "def compute_losses():\n",
    "   res_pde = pde_residual(x_train, y_train) \n",
    "   \n",
    "   res_x_0,res_x_1,res_y_0,res_y_1 = boundary_condition(x_train, y_train)\n",
    "\n",
    "   loss_pde = torch.mean(res_pde**2)\n",
    "   \n",
    "   loss_bc = torch.mean(res_x_0**2) + torch.mean(res_x_1**2) + torch.mean(res_y_0**2) + torch.mean(res_y_1**2)\n",
    "\n",
    "   total_loss = loss_pde + loss_bc\n",
    "\n",
    "   return total_loss"
   ]
  },
  {
   "cell_type": "code",
   "execution_count": 37,
   "id": "86f47570",
   "metadata": {},
   "outputs": [],
   "source": [
    "# optimizer = torch.optim.Adam(PINN.parameters(), lr=0.01)"
   ]
  },
  {
   "cell_type": "code",
   "execution_count": null,
   "id": "21f18e4f",
   "metadata": {},
   "outputs": [],
   "source": [
    "# No. of epochs\n",
    "\n",
    "\n",
    "# start_time = time.time()\n",
    "\n",
    "# num_epochs = 10000\n",
    "\n",
    "\n",
    "\n",
    "# for epoch in range(num_epochs):\n",
    "#     optimizer.zero_grad()\n",
    "\n",
    "#     total_loss = compute_losses()\n",
    "\n",
    "    \n",
    "#     total_loss.backward()\n",
    "\n",
    "#     optimizer.step()\n",
    "\n",
    "#     if (epoch) % 200 == 0:\n",
    "#      print(f'Epoch {epoch}, Loss: {total_loss.item()}')\n",
    "\n",
    "\n",
    "# end_time = time.time()\n",
    "\n",
    "# print(f'Total Training Time: {(end_time - start_time): .4f}seconds')\n",
    "\n",
    "\n",
    "    \n",
    "\n",
    "\n",
    "\n",
    "\n",
    "\n",
    "\n"
   ]
  },
  {
   "cell_type": "code",
   "execution_count": 11,
   "id": "5e1ea8ab",
   "metadata": {},
   "outputs": [],
   "source": [
    "torch.manual_seed(42)\n",
    "# PINN = Sequentialmodel(layers).to(device)\n",
    "PINN = Sequentialmodel(layers)"
   ]
  },
  {
   "cell_type": "code",
   "execution_count": 39,
   "id": "0d2d28b6",
   "metadata": {},
   "outputs": [],
   "source": [
    "# if device.type == 'cuda':\n",
    "#     torch.cuda.reset_peak_memory_stats(device)"
   ]
  },
  {
   "cell_type": "code",
   "execution_count": null,
   "id": "b5640e16",
   "metadata": {},
   "outputs": [],
   "source": [
    "# optimizer = torch.optim.Adam(PINN.parameters(), lr=0.01)"
   ]
  },
  {
   "cell_type": "code",
   "execution_count": null,
   "id": "44b3a816",
   "metadata": {},
   "outputs": [],
   "source": [
    "# # Threshold loss as the stopping criteria\n",
    "\n",
    "# max_epochs = 15000\n",
    "# threshold = 0.002\n",
    "\n",
    "\n",
    "\n",
    "# start_time = time.time()\n",
    "\n",
    "# ep = 0\n",
    "# while ep < max_epochs:\n",
    "#     optimizer.zero_grad()\n",
    "\n",
    "#     total_loss = compute_losses()\n",
    "\n",
    "    \n",
    "#     total_loss.backward()\n",
    "\n",
    "#     optimizer.step()\n",
    "\n",
    "\n",
    "#     if total_loss.item() < threshold:\n",
    "#         print(f\"Reached threshold loss {threshold} at epoch {ep}\")\n",
    "#         break\n",
    "\n",
    "#     if (ep) % 200 == 0:\n",
    "#      print(f'Epoch {ep}, Loss: {total_loss.item()}')\n",
    "\n",
    "#     ep += 1\n",
    "\n",
    "\n",
    "# print(f\"Training stopped at epoch {ep}, total time {time.time() - start_time:.2f} s\")\n",
    "\n",
    "\n",
    "\n"
   ]
  },
  {
   "cell_type": "code",
   "execution_count": 12,
   "id": "2e53cc69",
   "metadata": {},
   "outputs": [
    {
     "name": "stdout",
     "output_type": "stream",
     "text": [
      "Outer 0, Loss: 0.8002806901931763\n",
      "Reached threshold loss 0.002 at outer step 34\n",
      "Training stopped at outer step 34, total time 126.28 s\n"
     ]
    }
   ],
   "source": [
    "# Using LBFGS\n",
    "\n",
    "optimizer = torch.optim.LBFGS(PINN.parameters(), lr=0.05,max_iter=20,history_size=50,tolerance_grad=1e-9,tolerance_change=1e-9,line_search_fn='strong_wolfe')\n",
    "\n",
    "max_outer_steps = 15000\n",
    "threshold = 0.002\n",
    "\n",
    "start_time = time.time()\n",
    "ep = 0\n",
    "\n",
    "\n",
    "def closure():\n",
    "\n",
    "    optimizer.zero_grad()\n",
    "    total_loss = compute_losses()\n",
    "    total_loss.backward()\n",
    "\n",
    "    return total_loss\n",
    "\n",
    "while ep < max_outer_steps:\n",
    "\n",
    "    total_loss = optimizer.step(closure)\n",
    "\n",
    "    if total_loss.item() < threshold:\n",
    "        print(f\"Reached threshold loss {threshold} at outer step {ep}\")\n",
    "        break\n",
    "\n",
    "    if ep % 200 == 0:\n",
    "        print(f'Outer {ep}, Loss: {total_loss.item()}')\n",
    "\n",
    "    ep += 1\n",
    "\n",
    "print(f\"Training stopped at outer step {ep}, total time {time.time() - start_time:.2f} s\")\n",
    "    "
   ]
  },
  {
   "cell_type": "code",
   "execution_count": 28,
   "id": "b292a75f",
   "metadata": {},
   "outputs": [],
   "source": [
    "# # Memory usage after training\n",
    "\n",
    "# if device.type == 'cuda':\n",
    "#     peak_mem = torch.cuda.max_memory_allocated(device)\n",
    "#     print(f'Peak GPU Memory Usage: {peak_mem / 1e6: .2f} MB')"
   ]
  },
  {
   "cell_type": "code",
   "execution_count": 15,
   "id": "d42c316e",
   "metadata": {},
   "outputs": [],
   "source": [
    "import math\n",
    "\n",
    "def u_closed_form(x, y):\n",
    "    pi = torch.tensor(math.pi)\n",
    "    den = torch.sinh(pi)\n",
    "    sol = (torch.sinh(pi * x) / den) * torch.sin(torch.pi * y)\n",
    "    return sol"
   ]
  },
  {
   "cell_type": "code",
   "execution_count": 16,
   "id": "d7b80b4e",
   "metadata": {},
   "outputs": [
    {
     "name": "stdout",
     "output_type": "stream",
     "text": [
      "MSE vs closed-form: 1.117e-04\n"
     ]
    }
   ],
   "source": [
    "x_test = torch.linspace(0,1,60).view(-1,1)\n",
    "y_test = torch.linspace(0,1,60).view(-1,1)\n",
    "\n",
    "\n",
    "\n",
    "# if torch.is_tensor(x_test) != True:         \n",
    "#     x_test = torch.from_numpy(x_test)  \n",
    "# if torch.is_tensor(y_test) != True:         \n",
    "#     y_test = torch.from_numpy(y_test) \n",
    "\n",
    "\n",
    "# #convert to float\n",
    "# x = x_test.float()\n",
    "# y = y_test.float()\n",
    "\n",
    "\n",
    "    \n",
    "# x_test,y_test = torch.meshgrid(x.squeeze(),y.squeeze(), indexing = 'xy')\n",
    "x_test,y_test = torch.meshgrid(x_test.squeeze(),y_test.squeeze(), indexing = 'ij')\n",
    "\n",
    "# x_train = x_train.reshape(-1,1).to(device)     \n",
    "# y_train = y_train.reshape(-1,1).to(device) \n",
    "\n",
    "\n",
    "x_test = x_test.reshape(-1,1)     \n",
    "y_test = y_test.reshape(-1,1) \n",
    "\n",
    "\n",
    "u_true = u_closed_form(x_test, y_test) \n",
    "\n",
    "\n",
    "u_pred = PINN(x_test,y_test)\n",
    "\n",
    "mse = torch.mean((u_pred - u_true)**2).item()\n",
    "print(f\"MSE vs closed-form: {mse:.3e}\")"
   ]
  },
  {
   "cell_type": "code",
   "execution_count": 23,
   "id": "7a09fa63",
   "metadata": {},
   "outputs": [],
   "source": [
    "def compare(PINN):\n",
    "    PINN.eval()\n",
    "\n",
    "\n",
    "    x_test = torch.linspace(0,1,60).view(-1,1)\n",
    "    y_test = torch.linspace(0,1,60).view(-1,1)\n",
    "\n",
    "\n",
    "\n",
    "    # if torch.is_tensor(x_test) != True:  \n",
    "    #     x_test = torch.from_numpy(x_test)\n",
    "    # if torch.is_tensor(y_test) != True:  \n",
    "    #     y_test = torch.from_numpy(y_test)   \n",
    "\n",
    "\n",
    "    # #convert to float\n",
    "    # x = x_test.float()\n",
    "    # y = y_test.float()    \n",
    "    \n",
    "\n",
    "    \n",
    "    x_test,y_test = torch.meshgrid(x_test.squeeze(),y_test.squeeze(), indexing = 'xy')\n",
    "\n",
    "# x_train = x_train.reshape(-1,1).to(device)     \n",
    "# y_train = y_train.reshape(-1,1).to(device) \n",
    "\n",
    "\n",
    "    x_test = x_test.reshape(-1,1)     \n",
    "    y_test = y_test.reshape(-1,1) \n",
    "\n",
    "\n",
    "    u_true = u_closed_form(x_test, y_test).reshape(60,60) \n",
    "\n",
    "\n",
    "    u_pred = PINN(x_test,y_test)\n",
    "\n",
    "    u_pred_np = u_pred.reshape(60,60).detach().cpu()\n",
    "\n",
    "\n",
    "    fig, axs = plt.subplots(1, 2, figsize=(12, 3.6), constrained_layout=True)\n",
    "    im0 = axs[0].imshow(u_true.cpu(), origin='lower', extent=[0,1,0,1])\n",
    "    axs[0].set_title(\"Closed-form\")\n",
    "    axs[0].set_xlabel('x'); axs[0].set_ylabel('y'); fig.colorbar(im0, ax=axs[0])\n",
    "\n",
    "    im1 = axs[1].imshow(u_pred_np.cpu(), origin='lower', extent=[0,1,0,1])\n",
    "    axs[1].set_title(\"PINN Prediction\")\n",
    "    axs[1].set_xlabel('x'); axs[1].set_ylabel('y'); fig.colorbar(im1, ax=axs[1])\n",
    "\n",
    "  \n",
    "\n",
    "    plt.show()\n",
    "\n",
    "\n",
    "  \n",
    "\n",
    "\n",
    "   "
   ]
  },
  {
   "cell_type": "code",
   "execution_count": 24,
   "id": "6e36269f",
   "metadata": {},
   "outputs": [
    {
     "data": {
      "image/png": "[encoded data removed]",
      "text/plain": [
       "<Figure size 1200x360 with 4 Axes>"
      ]
     },
     "metadata": {},
     "output_type": "display_data"
    }
   ],
   "source": [
    "compare(PINN)"
   ]
  },
  {
   "cell_type": "code",
   "execution_count": 25,
   "id": "731e726b",
   "metadata": {},
   "outputs": [
    {
     "name": "stdout",
     "output_type": "stream",
     "text": [
      "u(0, 0.5) = 0.0   (expect ~0.000)\n",
      "u(1, 0.5) = 1.0   (expect ~1.000)\n",
      "var across x at y=0.5 = 0.16341644525527954  (should be > 0)\n"
     ]
    }
   ],
   "source": [
    "import math, torch\n",
    "def u_closed_torch(x, y):\n",
    "    pi = torch.tensor(math.pi, device=x.device, dtype=x.dtype)\n",
    "    den = torch.sinh(pi)\n",
    "    return torch.sinh(pi*x)/den * torch.sin(pi*y)\n",
    "\n",
    "# tiny grid\n",
    "xs = torch.linspace(0.,1.,5)\n",
    "ys = torch.linspace(0.,1.,5)\n",
    "X, Y = torch.meshgrid(xs, ys, indexing='ij')\n",
    "U = u_closed_torch(X, Y)\n",
    "\n",
    "print(\"u(0, 0.5) =\", U[0, 2].item(), \"  (expect ~0.000)\")\n",
    "print(\"u(1, 0.5) =\", U[-1,2].item(), \"  (expect ~1.000)\")\n",
    "print(\"var across x at y=0.5 =\", U[:,2].var().item(), \" (should be > 0)\")"
   ]
  }
 ],
 "metadata": {
  "kernelspec": {
   "display_name": "pyro_env",
   "language": "python",
   "name": "python3"
  },
  "language_info": {
   "codemirror_mode": {
    "name": "ipython",
    "version": 3
   },
   "file_extension": ".py",
   "mimetype": "text/x-python",
   "name": "python",
   "nbconvert_exporter": "python",
   "pygments_lexer": "ipython3",
   "version": "3.10.18"
  }
 },
 "nbformat": 4,
 "nbformat_minor": 5
}
