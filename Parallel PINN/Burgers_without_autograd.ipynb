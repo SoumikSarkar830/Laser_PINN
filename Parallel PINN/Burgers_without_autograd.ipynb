{
 "cells": [
  {
   "cell_type": "code",
   "execution_count": 16,
   "id": "64e48fe6",
   "metadata": {},
   "outputs": [],
   "source": [
    "import torch\n",
    "import torch.nn as nn\n",
    "import torch.optim as optim\n",
    "import torch.autograd as autograd \n",
    "import numpy as np\n",
    "import matplotlib.pyplot as plt\n",
    "\n",
    "import time"
   ]
  },
  {
   "cell_type": "code",
   "execution_count": 17,
   "id": "f5b52965",
   "metadata": {},
   "outputs": [
    {
     "data": {
      "text/plain": [
       "<torch._C.Generator at 0x7f1e8bf9e070>"
      ]
     },
     "execution_count": 17,
     "metadata": {},
     "output_type": "execute_result"
    }
   ],
   "source": [
    "torch.manual_seed(42)"
   ]
  },
  {
   "cell_type": "code",
   "execution_count": 18,
   "id": "f42892f9",
   "metadata": {},
   "outputs": [
    {
     "name": "stdout",
     "output_type": "stream",
     "text": [
      "device: cuda:0\n"
     ]
    }
   ],
   "source": [
    "device = torch.device('cuda:0' if torch.cuda.is_available() else 'cpu')\n",
    "\n",
    "print(f'device: {device}')"
   ]
  },
  {
   "cell_type": "code",
   "execution_count": 19,
   "id": "bf45593f",
   "metadata": {},
   "outputs": [],
   "source": [
    "class Sequentialmodel(nn.Module):\n",
    "    \n",
    "    def __init__(self,layers):\n",
    "        super().__init__() #call __init__ from parent class \n",
    "              \n",
    "    \n",
    "        self.activation = nn.Tanh()\n",
    "        self.loss_function = nn.MSELoss(reduction ='mean')\n",
    "\n",
    "        self.layers = layers\n",
    "        \n",
    "        'Initialise neural network as a list using nn.Modulelist'  \n",
    "        self.linears = nn.ModuleList([nn.Linear(layers[i], layers[i+1]) for i in range(len(layers)-1)])\n",
    "        \n",
    "        for i in range(len(layers)-1):\n",
    "            nn.init.xavier_normal_(self.linears[i].weight.data, gain=1.0)\n",
    "            # set biases to zero\n",
    "            nn.init.zeros_(self.linears[i].bias.data)\n",
    "\n",
    "        self.H1 = self.linears[0]\n",
    "\n",
    "        \n",
    "    'forward pass'\n",
    "    def forward(self,x,t):              \n",
    "        \n",
    "        # for i in range(len(self.layers)-2):\n",
    "        #     z = self.linears[i](a)\n",
    "        #     a = self.activation(z)\n",
    "\n",
    "        a = torch.cat([x,t], dim = 1)    #(10000,2)\n",
    "\n",
    "        for i in range(len(self.layers)-2):\n",
    "            z = self.linears[i](a)\n",
    "            a = self.activation(z)\n",
    "\n",
    "\n",
    "            \n",
    "        b = self.linears[-1](a) \n",
    "         \n",
    "        return b\n",
    "    \n",
    "    def forward_direct(self, x,t):\n",
    "        \n",
    "        z = torch.cat([x,t], dim = 1)    #(10000,2)\n",
    "\n",
    "        W1 = self.linears[0].weight    # (50,2)\n",
    "\n",
    "        H_x = W1[:, 0].unsqueeze(0)      # (1,50)\n",
    "        F_x = torch.zeros_like(H_x)\n",
    "\n",
    "        H_t = W1[:, 1].unsqueeze(0)      # (1,50)\n",
    "        F_t = torch.zeros_like(H_t)\n",
    "        \n",
    "\n",
    "        for i in range(len(self.layers)-2):\n",
    "            L = self.linears[i](z)            # (10000,50)\n",
    "            z = self.activation(L)            # (10000,50)\n",
    "            z_1 = 1.0-torch.square(z)         # (10000,50)\n",
    "\n",
    "            G_x = z_1*H_x     #\\sigma'(L)*H   # (10000,50)\n",
    "            G_t = z_1*H_t                     # (10000,50)\n",
    "\n",
    "            C_x = (-2*z + 2*torch.pow(z,3))*H_x*H_x\n",
    "            C_t = (-2*z + 2*torch.pow(z,3))*H_t*H_t\n",
    "\n",
    "            E_x = C_x + z_1*F_x    # (10000,50)\n",
    "            E_t = C_t + z_1*F_t    # (10000,50)\n",
    "\n",
    "\n",
    "            H_x = torch.matmul(G_x,self.linears[i+1].weight.t())\n",
    "            F_x = torch.matmul(E_x,self.linears[i+1].weight.t())\n",
    "\n",
    "            H_t = torch.matmul(G_t,self.linears[i+1].weight.t())\n",
    "            F_t = torch.matmul(E_t,self.linears[i+1].weight.t())\n",
    "\n",
    "        z = self.linears[-1](z)\n",
    "         \n",
    "        return z, H_x, H_t, F_x, F_t\n",
    "    \n"
   ]
  },
  {
   "cell_type": "code",
   "execution_count": 20,
   "id": "c650d447",
   "metadata": {},
   "outputs": [],
   "source": [
    "layers = np.array([2,50,50,50,50,50,1])\n",
    "PINN = Sequentialmodel(layers).to(device)"
   ]
  },
  {
   "cell_type": "code",
   "execution_count": 22,
   "id": "c98a9a8f",
   "metadata": {},
   "outputs": [],
   "source": [
    "# Resetting to ensure the reported peak truly reflects the training loop, rather than including earlier setup.\n",
    "\n",
    "if device.type == 'cuda':\n",
    "    torch.cuda.reset_peak_memory_stats(device)"
   ]
  },
  {
   "cell_type": "code",
   "execution_count": 23,
   "id": "808e2059",
   "metadata": {},
   "outputs": [],
   "source": [
    "# Create the training data\n",
    "\n",
    "x = torch.linspace(-1,1,100).view(-1,1)\n",
    "t = torch.linspace(0,1,100).view(-1,1)\n",
    "\n",
    "\n",
    "if torch.is_tensor(x) != True:         \n",
    "    x = torch.from_numpy(x)  \n",
    "if torch.is_tensor(t) != True:         \n",
    "    t = torch.from_numpy(t) \n",
    "\n",
    "#convert to float\n",
    "x = x.float()\n",
    "t = t.float()\n",
    "\n",
    "    \n",
    "x_train,t_train = torch.meshgrid(x.squeeze(),t.squeeze(), indexing = 'xy')\n",
    "x_train = x_train.reshape(-1,1).to(device)     # 10000 x 1\n",
    "t_train = t_train.reshape(-1,1).to(device)    # 10000 x 1\n",
    "\n"
   ]
  },
  {
   "cell_type": "code",
   "execution_count": 24,
   "id": "a7b17d33",
   "metadata": {},
   "outputs": [],
   "source": [
    "def pde_residual(x, t, nu):\n",
    "    u = PINN(x,t)\n",
    "\n",
    "    z, H_x, H_t, F_x, F_t = PINN.forward_direct(x,t)\n",
    "\n",
    "    du_dx = H_x\n",
    "    du_dt = H_t\n",
    "    du_dx_x = F_x\n",
    "\n",
    "    res_pde = du_dt - (nu / (np.pi)) * du_dx_x + u * du_dx\n",
    "\n",
    "    return res_pde\n",
    "\n",
    "\n",
    "    "
   ]
  },
  {
   "cell_type": "code",
   "execution_count": 25,
   "id": "1fdf71d1",
   "metadata": {},
   "outputs": [],
   "source": [
    "\n",
    "def initial_condition(x):\n",
    "  u_ic = PINN(x, torch.zeros_like(x))\n",
    "  res_ic = u_ic - (-torch.sin(np.pi * x))\n",
    "  return res_ic"
   ]
  },
  {
   "cell_type": "code",
   "execution_count": 26,
   "id": "6348f7a9",
   "metadata": {},
   "outputs": [],
   "source": [
    "def boundary_condition(t):\n",
    "    u_left = PINN(torch.full_like(t, -1), t)\n",
    "    u_right = PINN(torch.full_like(t, 1), t)\n",
    "\n",
    "    res_left = u_left - torch.zeros_like(t)\n",
    "    res_right = u_right - torch.zeros_like(t)\n",
    "\n",
    "    return res_left, res_right"
   ]
  },
  {
   "cell_type": "code",
   "execution_count": 27,
   "id": "c59aa5fd",
   "metadata": {},
   "outputs": [],
   "source": [
    "def compute_losses():\n",
    "   res_pde = pde_residual(x_train, t_train, nu = 0.01) \n",
    "   res_ic = initial_condition(x_train)\n",
    "   res_left, res_right = boundary_condition(t_train)\n",
    "\n",
    "   loss_pde = torch.mean(res_pde**2)\n",
    "   loss_ic = torch.mean(res_ic**2)\n",
    "   loss_bc = torch.mean(res_left**2) + torch.mean(res_right**2)\n",
    "\n",
    "   total_loss = loss_pde + loss_ic + loss_bc\n",
    "\n",
    "   return total_loss\n",
    "\n"
   ]
  },
  {
   "cell_type": "code",
   "execution_count": 28,
   "id": "97e82bfa",
   "metadata": {},
   "outputs": [],
   "source": [
    "optimizer = torch.optim.Adam(PINN.parameters(), lr=0.01)"
   ]
  },
  {
   "cell_type": "code",
   "execution_count": 29,
   "id": "bd582e31",
   "metadata": {},
   "outputs": [
    {
     "name": "stdout",
     "output_type": "stream",
     "text": [
      "Epoch 0, Loss: 0.8078573942184448\n",
      "Epoch 200, Loss: 0.13373775780200958\n",
      "Epoch 400, Loss: 0.07351125031709671\n",
      "Epoch 600, Loss: 0.2378992736339569\n",
      "Epoch 800, Loss: 0.079620361328125\n",
      "Epoch 1000, Loss: 0.14781087636947632\n",
      "Epoch 1200, Loss: 0.09145744889974594\n",
      "Epoch 1400, Loss: 0.13851171731948853\n",
      "Epoch 1600, Loss: 0.10893180966377258\n",
      "Epoch 1800, Loss: 0.06411129236221313\n",
      "Epoch 2000, Loss: 0.1261257529258728\n",
      "Epoch 2200, Loss: 0.12274902313947678\n",
      "Epoch 2400, Loss: 0.08011792600154877\n",
      "Epoch 2600, Loss: 0.05653169006109238\n",
      "Epoch 2800, Loss: 0.1245642825961113\n",
      "Epoch 3000, Loss: 0.05560198798775673\n",
      "Epoch 3200, Loss: 0.04587823525071144\n",
      "Epoch 3400, Loss: 0.06280567497015\n",
      "Epoch 3600, Loss: 0.18344134092330933\n",
      "Epoch 3800, Loss: 0.03637256100773811\n",
      "Epoch 4000, Loss: 0.04317952319979668\n",
      "Epoch 4200, Loss: 0.09464959800243378\n",
      "Epoch 4400, Loss: 0.06819763779640198\n",
      "Epoch 4600, Loss: 0.07321979850530624\n",
      "Epoch 4800, Loss: 0.14432699978351593\n",
      "Epoch 5000, Loss: 0.12394885718822479\n",
      "Epoch 5200, Loss: 0.08118893206119537\n",
      "Epoch 5400, Loss: 0.09274539351463318\n",
      "Epoch 5600, Loss: 0.056326840072870255\n",
      "Epoch 5800, Loss: 0.05524906888604164\n",
      "Epoch 6000, Loss: 0.1856955885887146\n",
      "Epoch 6200, Loss: 0.08139912039041519\n",
      "Epoch 6400, Loss: 0.171800896525383\n",
      "Epoch 6600, Loss: 0.12551867961883545\n",
      "Epoch 6800, Loss: 0.15160073339939117\n",
      "Epoch 7000, Loss: 0.18063583970069885\n",
      "Epoch 7200, Loss: 0.05717577785253525\n",
      "Epoch 7400, Loss: 0.09028595685958862\n",
      "Epoch 7600, Loss: 0.09217483550310135\n",
      "Epoch 7800, Loss: 0.08106254786252975\n",
      "Epoch 8000, Loss: 0.04333250969648361\n",
      "Epoch 8200, Loss: 0.08091883361339569\n",
      "Epoch 8400, Loss: 0.06518153101205826\n",
      "Epoch 8600, Loss: 0.053879715502262115\n",
      "Epoch 8800, Loss: 0.03606425225734711\n",
      "Epoch 9000, Loss: 0.09729127585887909\n",
      "Epoch 9200, Loss: 0.0483638197183609\n",
      "Epoch 9400, Loss: 0.029470084235072136\n",
      "Epoch 9600, Loss: 0.04462432488799095\n",
      "Epoch 9800, Loss: 0.02880660444498062\n",
      "Total Training Time:  127.7938seconds\n"
     ]
    }
   ],
   "source": [
    "# No. of epochs\n",
    "\n",
    "\n",
    "start_time = time.time()\n",
    "\n",
    "num_epochs = 10000\n",
    "\n",
    "\n",
    "\n",
    "for epoch in range(num_epochs):\n",
    "    optimizer.zero_grad()\n",
    "\n",
    "    total_loss = compute_losses()\n",
    "\n",
    "    \n",
    "    total_loss.backward()\n",
    "\n",
    "    optimizer.step()\n",
    "\n",
    "    if (epoch) % 200 == 0:\n",
    "     print(f'Epoch {epoch}, Loss: {total_loss.item()}')\n",
    "\n",
    "\n",
    "end_time = time.time()\n",
    "\n",
    "print(f'Total Training Time: {(end_time - start_time): .4f}seconds')\n",
    "\n",
    "\n",
    "    \n",
    "\n",
    "\n",
    "\n",
    "\n",
    "\n",
    "\n"
   ]
  },
  {
   "cell_type": "code",
   "execution_count": null,
   "id": "a4651c8b",
   "metadata": {},
   "outputs": [],
   "source": [
    "# max_epochs = 15000\n",
    "# threshold = 1e-3\n",
    "\n",
    "\n",
    "\n",
    "# start_time = time.time()\n",
    "\n",
    "# ep = 0\n",
    "# while ep < max_epochs:\n",
    "#     optimizer.zero_grad()\n",
    "\n",
    "#     total_loss = compute_losses()\n",
    "\n",
    "    \n",
    "#     total_loss.backward()\n",
    "\n",
    "#     optimizer.step()\n",
    "\n",
    "\n",
    "#     if total_loss.item() < threshold:\n",
    "#         print(f\"Reached threshold loss {threshold} at epoch {ep}\")\n",
    "#         break\n",
    "\n",
    "#     if (ep) % 200 == 0:\n",
    "#      print(f'Epoch {ep}, Loss: {total_loss.item()}')\n",
    "\n",
    "#     ep += 1\n",
    "\n",
    "\n",
    "# print(f\"Training stopped at epoch {ep}, total time {time.time() - start_time:.2f} s\")\n",
    "\n",
    "\n",
    "\n"
   ]
  },
  {
   "cell_type": "code",
   "execution_count": 30,
   "id": "34e20280",
   "metadata": {},
   "outputs": [
    {
     "name": "stdout",
     "output_type": "stream",
     "text": [
      "Peak GPU Memory Usage:  174.19 MB\n"
     ]
    }
   ],
   "source": [
    "# Memory usage after training\n",
    "\n",
    "if device.type == 'cuda':\n",
    "    peak_mem = torch.cuda.max_memory_allocated(device)\n",
    "    print(f'Peak GPU Memory Usage: {peak_mem / 1e6: .2f} MB')"
   ]
  },
  {
   "cell_type": "code",
   "execution_count": 15,
   "id": "c6654f10",
   "metadata": {},
   "outputs": [
    {
     "data": {
      "image/png": "[encoded data removed]",
      "text/plain": [
       "<Figure size 800x600 with 2 Axes>"
      ]
     },
     "metadata": {},
     "output_type": "display_data"
    }
   ],
   "source": [
    "# Evaluate the model\n",
    "\n",
    "x_test = torch.linspace(-1,1,130, requires_grad = False).to(device).view(-1,1)\n",
    "t_test = torch.linspace(0,1,130, requires_grad = False).to(device).view(-1,1)\n",
    "x_test,t_test = torch.meshgrid(x_test.squeeze(),t_test.squeeze(), indexing = 'xy')\n",
    "x_test = x_test.reshape(-1,1)\n",
    "t_test = t_test.reshape(-1,1)\n",
    "\n",
    "PINN.eval()\n",
    "\n",
    "with torch.no_grad():\n",
    "  u_test = PINN(x_test, t_test)\n",
    "\n",
    "# Reshape the predicted u values for contour plotting\n",
    "x_test = x_test.cpu()\n",
    "t_test = t_test.cpu()\n",
    "u_test = u_test.cpu()\n",
    "\n",
    "x_test = x_test.reshape(130,130)\n",
    "t_test = t_test.reshape(130,130)\n",
    "u_test = u_test.reshape(130,130)\n",
    "\n",
    "# Plot the PINN solution as a contour plot\n",
    "\n",
    "plt.figure(figsize=(8,6))\n",
    "plt.contourf(x_test, t_test, u_test, cmap='viridis')\n",
    "plt.colorbar(label='u')\n",
    "plt.xlabel('x')\n",
    "plt.ylabel('t')\n",
    "plt.title('PINN Solution')\n",
    "plt.show()"
   ]
  }
 ],
 "metadata": {
  "kernelspec": {
   "display_name": "pyro_env",
   "language": "python",
   "name": "python3"
  },
  "language_info": {
   "codemirror_mode": {
    "name": "ipython",
    "version": 3
   },
   "file_extension": ".py",
   "mimetype": "text/x-python",
   "name": "python",
   "nbconvert_exporter": "python",
   "pygments_lexer": "ipython3",
   "version": "3.10.18"
  }
 },
 "nbformat": 4,
 "nbformat_minor": 5
}
