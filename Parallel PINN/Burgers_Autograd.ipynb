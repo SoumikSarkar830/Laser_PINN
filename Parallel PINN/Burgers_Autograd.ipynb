{
 "cells": [
  {
   "cell_type": "code",
   "execution_count": 74,
   "id": "75a4762b",
   "metadata": {},
   "outputs": [],
   "source": [
    "import torch\n",
    "import torch.nn as nn\n",
    "import torch.optim as optim\n",
    "import torch.autograd as autograd \n",
    "import numpy as np\n",
    "import matplotlib.pyplot as plt\n",
    "\n",
    "import time"
   ]
  },
  {
   "cell_type": "code",
   "execution_count": 75,
   "id": "07ace8b1",
   "metadata": {},
   "outputs": [
    {
     "data": {
      "text/plain": [
       "<torch._C.Generator at 0x7fcaaff9a070>"
      ]
     },
     "execution_count": 75,
     "metadata": {},
     "output_type": "execute_result"
    }
   ],
   "source": [
    "torch.manual_seed(42)"
   ]
  },
  {
   "cell_type": "code",
   "execution_count": 76,
   "id": "9f28ad3f",
   "metadata": {},
   "outputs": [
    {
     "name": "stdout",
     "output_type": "stream",
     "text": [
      "device: cuda:0\n"
     ]
    }
   ],
   "source": [
    "device = torch.device('cuda:0' if torch.cuda.is_available() else 'cpu')\n",
    "\n",
    "print(f'device: {device}')"
   ]
  },
  {
   "cell_type": "code",
   "execution_count": 77,
   "id": "107306b6",
   "metadata": {},
   "outputs": [],
   "source": [
    "class Sequentialmodel(nn.Module):\n",
    "    \n",
    "    def __init__(self,layers):\n",
    "        super().__init__() #call __init__ from parent class \n",
    "              \n",
    "    \n",
    "        self.activation = nn.Tanh()\n",
    "        self.loss_function = nn.MSELoss(reduction ='mean')\n",
    "\n",
    "        self.layers = layers\n",
    "        \n",
    "        'Initialise neural network as a list using nn.Modulelist'  \n",
    "        self.linears = nn.ModuleList([nn.Linear(layers[i], layers[i+1]) for i in range(len(layers)-1)])\n",
    "        \n",
    "        for i in range(len(layers)-1):\n",
    "            nn.init.xavier_normal_(self.linears[i].weight.data, gain=1.0)\n",
    "            # set biases to zero\n",
    "            nn.init.zeros_(self.linears[i].bias.data)\n",
    "\n",
    "        self.H1 = self.linears[0]\n",
    "\n",
    "        \n",
    "    'forward pass'\n",
    "    def forward(self,x,t):              \n",
    "        \n",
    "        # for i in range(len(self.layers)-2):\n",
    "        #     z = self.linears[i](a)\n",
    "        #     a = self.activation(z)\n",
    "\n",
    "        a = torch.cat([x,t], dim = 1)    #(10000,2)\n",
    "\n",
    "        for i in range(len(self.layers)-2):\n",
    "            z = self.linears[i](a)\n",
    "            a = self.activation(z)\n",
    "\n",
    "\n",
    "            \n",
    "        b = self.linears[-1](a) \n",
    "         \n",
    "        return b\n",
    "    \n",
    "    # def forward_direct(self, x):\n",
    "        \n",
    "    #     z = x.float()\n",
    "    #     H = self.linears[0].weight\n",
    "\n",
    "    #     for i in range(len(self.layers)-2):\n",
    "    #         L = self.linears[i](z)\n",
    "    #         z = self.activation(L)\n",
    "    #         G = (1-torch.square(z))*H.t() #\\sigma'(L)*H\n",
    "    #         H = torch.matmul(self.linears[i+1].weight,G.t())\n",
    "\n",
    "    #     z = self.linears[-1](z)\n",
    "         \n",
    "    #     return z,H"
   ]
  },
  {
   "cell_type": "code",
   "execution_count": 78,
   "id": "77edc9c3",
   "metadata": {},
   "outputs": [],
   "source": [
    "layers = np.array([2,50,50,50,50,50,1])\n",
    "PINN = Sequentialmodel(layers).to(device)"
   ]
  },
  {
   "cell_type": "code",
   "execution_count": 79,
   "id": "bb202ef1",
   "metadata": {},
   "outputs": [],
   "source": [
    "# Resetting to ensure the reported peak truly reflects the training loop, rather than including earlier setup.\n",
    "\n",
    "if device.type == 'cuda':\n",
    "    torch.cuda.reset_peak_memory_stats(device)"
   ]
  },
  {
   "cell_type": "code",
   "execution_count": 80,
   "id": "cbddcbb7",
   "metadata": {},
   "outputs": [],
   "source": [
    "# Create the training data\n",
    "\n",
    "x = torch.linspace(-1,1,100, requires_grad = True).view(-1,1)\n",
    "t = torch.linspace(0,1,100, requires_grad = True).view(-1,1)\n",
    "\n",
    "\n",
    "if torch.is_tensor(x) != True:         \n",
    "    x = torch.from_numpy(x)  \n",
    "if torch.is_tensor(t) != True:         \n",
    "    t = torch.from_numpy(t) \n",
    "\n",
    "#convert to float\n",
    "x = x.float()\n",
    "t = t.float()\n",
    "\n",
    "    \n",
    "x_train,t_train = torch.meshgrid(x.squeeze(),t.squeeze(), indexing = 'xy')\n",
    "x_train = x_train.reshape(-1,1).to(device).requires_grad_(True)     # 10000 x 1\n",
    "t_train = t_train.reshape(-1,1).to(device).requires_grad_(True)     # 10000 x 1\n",
    "\n"
   ]
  },
  {
   "cell_type": "code",
   "execution_count": 81,
   "id": "79ad5c9f",
   "metadata": {},
   "outputs": [],
   "source": [
    "def pde_residual(x, t, nu):\n",
    "    u = PINN(x,t)\n",
    "\n",
    "    du_dx = torch.autograd.grad(u, x, torch.ones_like(u), create_graph=True)[0]\n",
    "    du_dt = torch.autograd.grad(u, t, torch.ones_like(u), create_graph=True)[0]\n",
    "    du_dx_x = torch.autograd.grad(du_dx, x, torch.ones_like(du_dx), create_graph=True)[0]\n",
    "\n",
    "    res_pde = du_dt - (nu / (np.pi)) * du_dx_x + u * du_dx\n",
    "\n",
    "    return res_pde\n",
    "\n",
    "\n",
    "    "
   ]
  },
  {
   "cell_type": "code",
   "execution_count": 82,
   "id": "0acfb89f",
   "metadata": {},
   "outputs": [],
   "source": [
    "\n",
    "def initial_condition(x):\n",
    "  u_ic = PINN(x, torch.zeros_like(x))\n",
    "  res_ic = u_ic - (-torch.sin(np.pi * x))\n",
    "  return res_ic"
   ]
  },
  {
   "cell_type": "code",
   "execution_count": 83,
   "id": "33de6491",
   "metadata": {},
   "outputs": [],
   "source": [
    "def boundary_condition(t):\n",
    "    u_left = PINN(torch.full_like(t, -1), t)\n",
    "    u_right = PINN(torch.full_like(t, 1), t)\n",
    "\n",
    "    res_left = u_left - torch.zeros_like(t)\n",
    "    res_right = u_right - torch.zeros_like(t)\n",
    "\n",
    "    return res_left, res_right"
   ]
  },
  {
   "cell_type": "code",
   "execution_count": 84,
   "id": "7cde8597",
   "metadata": {},
   "outputs": [],
   "source": [
    "def compute_losses():\n",
    "   res_pde = pde_residual(x_train, t_train, nu = 0.01) \n",
    "   res_ic = initial_condition(x_train)\n",
    "   res_left, res_right = boundary_condition(t_train)\n",
    "\n",
    "   loss_pde = torch.mean(res_pde**2)\n",
    "   loss_ic = torch.mean(res_ic**2)\n",
    "   loss_bc = torch.mean(res_left**2) + torch.mean(res_right**2)\n",
    "\n",
    "   total_loss = loss_pde + loss_ic + loss_bc\n",
    "\n",
    "   return total_loss\n",
    "\n"
   ]
  },
  {
   "cell_type": "code",
   "execution_count": 85,
   "id": "85f5210e",
   "metadata": {},
   "outputs": [],
   "source": [
    "optimizer = torch.optim.Adam(PINN.parameters(), lr=0.01)"
   ]
  },
  {
   "cell_type": "code",
   "execution_count": 86,
   "id": "7d9769c7",
   "metadata": {},
   "outputs": [
    {
     "name": "stdout",
     "output_type": "stream",
     "text": [
      "Epoch 0, Loss: 0.8078573942184448\n",
      "Epoch 200, Loss: 0.1330307573080063\n",
      "Epoch 400, Loss: 0.10940802842378616\n",
      "Epoch 600, Loss: 0.06939719617366791\n",
      "Epoch 800, Loss: 0.10845814645290375\n",
      "Epoch 1000, Loss: 0.05622204393148422\n",
      "Epoch 1200, Loss: 0.19560980796813965\n",
      "Epoch 1400, Loss: 0.07170343399047852\n",
      "Epoch 1600, Loss: 0.20102903246879578\n",
      "Epoch 1800, Loss: 0.12149399518966675\n",
      "Epoch 2000, Loss: 0.2110915184020996\n",
      "Epoch 2200, Loss: 0.060275670140981674\n",
      "Epoch 2400, Loss: 0.08964341878890991\n",
      "Epoch 2600, Loss: 0.1610204130411148\n",
      "Epoch 2800, Loss: 0.026023177430033684\n",
      "Epoch 3000, Loss: 0.1063586100935936\n",
      "Epoch 3200, Loss: 0.04712590575218201\n",
      "Epoch 3400, Loss: 0.17666521668434143\n",
      "Epoch 3600, Loss: 0.06978660076856613\n",
      "Epoch 3800, Loss: 0.11354005336761475\n",
      "Epoch 4000, Loss: 0.11380163580179214\n",
      "Epoch 4200, Loss: 0.04873565584421158\n",
      "Epoch 4400, Loss: 0.059562161564826965\n",
      "Epoch 4600, Loss: 0.027526339516043663\n",
      "Epoch 4800, Loss: 0.06669050455093384\n",
      "Epoch 5000, Loss: 0.08269819617271423\n",
      "Epoch 5200, Loss: 0.09228679537773132\n",
      "Epoch 5400, Loss: 0.05534929037094116\n",
      "Epoch 5600, Loss: 0.06472743302583694\n",
      "Epoch 5800, Loss: 0.09618687629699707\n",
      "Epoch 6000, Loss: 0.07488127797842026\n",
      "Epoch 6200, Loss: 0.058052100241184235\n",
      "Epoch 6400, Loss: 0.04387043043971062\n",
      "Epoch 6600, Loss: 0.1341763585805893\n",
      "Epoch 6800, Loss: 0.2727808952331543\n",
      "Epoch 7000, Loss: 0.22408252954483032\n",
      "Epoch 7200, Loss: 0.08813151717185974\n",
      "Epoch 7400, Loss: 0.07990974187850952\n",
      "Epoch 7600, Loss: 0.09923326224088669\n",
      "Epoch 7800, Loss: 0.06473593413829803\n",
      "Epoch 8000, Loss: 0.06133735179901123\n",
      "Epoch 8200, Loss: 0.07342132180929184\n",
      "Epoch 8400, Loss: 0.06643282622098923\n",
      "Epoch 8600, Loss: 0.06831512600183487\n",
      "Epoch 8800, Loss: 0.08309603482484818\n",
      "Epoch 9000, Loss: 0.05383988469839096\n",
      "Epoch 9200, Loss: 0.07487118989229202\n",
      "Epoch 9400, Loss: 0.05189855396747589\n",
      "Epoch 9600, Loss: 0.0772479847073555\n",
      "Epoch 9800, Loss: 0.05045747011899948\n",
      "Total Training Time:  138.4909seconds\n"
     ]
    }
   ],
   "source": [
    "# No. of epochs\n",
    "\n",
    "\n",
    "start_time = time.time()\n",
    "\n",
    "num_epochs = 10000\n",
    "\n",
    "\n",
    "\n",
    "for epoch in range(num_epochs):\n",
    "    optimizer.zero_grad()\n",
    "\n",
    "    total_loss = compute_losses()\n",
    "\n",
    "    \n",
    "    total_loss.backward()\n",
    "\n",
    "    optimizer.step()\n",
    "\n",
    "    if (epoch) % 200 == 0:\n",
    "     print(f'Epoch {epoch}, Loss: {total_loss.item()}')\n",
    "\n",
    "\n",
    "end_time = time.time()\n",
    "\n",
    "print(f'Total Training Time: {(end_time - start_time): .4f}seconds')\n",
    "\n",
    "\n",
    "    \n",
    "\n",
    "\n",
    "\n",
    "\n",
    "\n",
    "\n"
   ]
  },
  {
   "cell_type": "code",
   "execution_count": null,
   "id": "602e57cd",
   "metadata": {},
   "outputs": [
    {
     "name": "stdout",
     "output_type": "stream",
     "text": [
      "Epoch 0, Loss: 0.026826733723282814\n",
      "Epoch 200, Loss: 0.028432678431272507\n",
      "Epoch 400, Loss: 0.01621878519654274\n",
      "Epoch 600, Loss: 0.06432148814201355\n",
      "Epoch 800, Loss: 0.03756109997630119\n",
      "Epoch 1000, Loss: 0.027309630066156387\n",
      "Epoch 1200, Loss: 0.020014416426420212\n",
      "Epoch 1400, Loss: 0.030255602672696114\n",
      "Epoch 1600, Loss: 0.02435862086713314\n",
      "Epoch 1800, Loss: 0.2199375480413437\n",
      "Epoch 2000, Loss: 0.03977234661579132\n",
      "Epoch 2200, Loss: 0.02266869880259037\n",
      "Epoch 2400, Loss: 0.021550768986344337\n",
      "Epoch 2600, Loss: 0.02205558866262436\n",
      "Epoch 2800, Loss: 0.039477404206991196\n",
      "Epoch 3000, Loss: 0.15049710869789124\n",
      "Epoch 3200, Loss: 0.07146553695201874\n",
      "Epoch 3400, Loss: 0.06265582889318466\n",
      "Epoch 3600, Loss: 0.043726492673158646\n",
      "Epoch 3800, Loss: 0.1899096816778183\n",
      "Epoch 4000, Loss: 0.03626653552055359\n",
      "Epoch 4200, Loss: 0.02307419665157795\n",
      "Epoch 4400, Loss: 0.047695860266685486\n",
      "Epoch 4600, Loss: 0.014935458078980446\n",
      "Epoch 4800, Loss: 0.015467964112758636\n",
      "Epoch 5000, Loss: 0.020450755953788757\n",
      "Epoch 5200, Loss: 0.010206944309175014\n",
      "Epoch 5400, Loss: 0.008383115753531456\n",
      "Epoch 5600, Loss: 0.050491735339164734\n",
      "Epoch 5800, Loss: 0.007028817664831877\n",
      "Epoch 6000, Loss: 0.03775506094098091\n",
      "Epoch 6200, Loss: 0.006729532033205032\n",
      "Epoch 6400, Loss: 0.01310922671109438\n",
      "Epoch 6600, Loss: 0.008374394848942757\n",
      "Epoch 6800, Loss: 0.05544252321124077\n",
      "Epoch 7000, Loss: 0.024025732651352882\n",
      "Epoch 7200, Loss: 0.018619980663061142\n",
      "Epoch 7400, Loss: 0.04492058604955673\n",
      "Epoch 7600, Loss: 0.03341585770249367\n",
      "Epoch 7800, Loss: 0.023370902985334396\n",
      "Epoch 8000, Loss: 0.03338520601391792\n",
      "Epoch 8200, Loss: 0.07084588706493378\n",
      "Epoch 8400, Loss: 0.01699984073638916\n",
      "Epoch 8600, Loss: 0.015373069792985916\n",
      "Epoch 8800, Loss: 0.015015916898846626\n",
      "Epoch 9000, Loss: 0.19545207917690277\n",
      "Epoch 9200, Loss: 0.03640969842672348\n",
      "Epoch 9400, Loss: 0.023197107017040253\n",
      "Epoch 9600, Loss: 0.022961575537919998\n",
      "Epoch 9800, Loss: 0.022855177521705627\n",
      "Epoch 10000, Loss: 0.019587118178606033\n",
      "Epoch 10200, Loss: 0.052850935608148575\n",
      "Epoch 10400, Loss: 0.12122797966003418\n",
      "Epoch 10600, Loss: 0.03724166378378868\n",
      "Epoch 10800, Loss: 0.21250249445438385\n",
      "Epoch 11000, Loss: 0.036789074540138245\n",
      "Epoch 11200, Loss: 0.02758174203336239\n",
      "Epoch 11400, Loss: 0.025026284158229828\n",
      "Epoch 11600, Loss: 0.03180278465151787\n",
      "Epoch 11800, Loss: 0.02979799173772335\n",
      "Epoch 12000, Loss: 0.025598308071494102\n",
      "Epoch 12200, Loss: 0.0279830489307642\n",
      "Epoch 12400, Loss: 0.02740228734910488\n",
      "Epoch 12600, Loss: 0.011169243603944778\n",
      "Epoch 12800, Loss: 0.0150521919131279\n",
      "Epoch 13000, Loss: 0.007011066656559706\n",
      "Epoch 13200, Loss: 0.0145203722640872\n",
      "Epoch 13400, Loss: 0.01782338321208954\n",
      "Epoch 13600, Loss: 0.014399859122931957\n",
      "Epoch 13800, Loss: 0.008208784274756908\n",
      "Epoch 14000, Loss: 0.007613467052578926\n",
      "Epoch 14200, Loss: 0.05880427360534668\n",
      "Epoch 14400, Loss: 0.0768376886844635\n",
      "Epoch 14600, Loss: 0.005519140046089888\n",
      "Epoch 14800, Loss: 0.05117619037628174\n",
      "Training stopped at epoch 15000, total time 146.15 s\n"
     ]
    }
   ],
   "source": [
    "# max_epochs = 15000\n",
    "# threshold = 1e-3\n",
    "\n",
    "\n",
    "\n",
    "# start_time = time.time()\n",
    "\n",
    "# ep = 0\n",
    "# while ep < max_epochs:\n",
    "#     optimizer.zero_grad()\n",
    "\n",
    "#     total_loss = compute_losses()\n",
    "\n",
    "    \n",
    "#     total_loss.backward()\n",
    "\n",
    "#     optimizer.step()\n",
    "\n",
    "\n",
    "#     if total_loss.item() < threshold:\n",
    "#         print(f\"Reached threshold loss {threshold} at epoch {ep}\")\n",
    "#         break\n",
    "\n",
    "#     if (ep) % 200 == 0:\n",
    "#      print(f'Epoch {ep}, Loss: {total_loss.item()}')\n",
    "\n",
    "#     ep += 1\n",
    "\n",
    "\n",
    "# print(f\"Training stopped at epoch {ep}, total time {time.time() - start_time:.2f} s\")\n",
    "\n",
    "\n",
    "\n"
   ]
  },
  {
   "cell_type": "code",
   "execution_count": 88,
   "id": "45390dc6",
   "metadata": {},
   "outputs": [
    {
     "name": "stdout",
     "output_type": "stream",
     "text": [
      "Peak GPU Memory Usage:  166.31 MB\n"
     ]
    }
   ],
   "source": [
    "# Memory usage after training\n",
    "\n",
    "if device.type == 'cuda':\n",
    "    peak_mem = torch.cuda.max_memory_allocated(device)\n",
    "    print(f'Peak GPU Memory Usage: {peak_mem / 1e6: .2f} MB')"
   ]
  },
  {
   "cell_type": "code",
   "execution_count": 89,
   "id": "5ae463b2",
   "metadata": {},
   "outputs": [
    {
     "data": {
      "image/png": "[encoded data removed]",
      "text/plain": [
       "<Figure size 800x600 with 2 Axes>"
      ]
     },
     "metadata": {},
     "output_type": "display_data"
    }
   ],
   "source": [
    "# Evaluate the model\n",
    "\n",
    "x_test = torch.linspace(-1,1,130, requires_grad = False).to(device).view(-1,1)\n",
    "t_test = torch.linspace(0,1,130, requires_grad = False).to(device).view(-1,1)\n",
    "x_test,t_test = torch.meshgrid(x_test.squeeze(),t_test.squeeze(), indexing = 'xy')\n",
    "x_test = x_test.reshape(-1,1)\n",
    "t_test = t_test.reshape(-1,1)\n",
    "\n",
    "PINN.eval()\n",
    "\n",
    "with torch.no_grad():\n",
    "  u_test = PINN(x_test, t_test)\n",
    "\n",
    "# Reshape the predicted u values for contour plotting\n",
    "x_test = x_test.cpu()\n",
    "t_test = t_test.cpu()\n",
    "u_test = u_test.cpu()\n",
    "\n",
    "x_test = x_test.reshape(130,130)\n",
    "t_test = t_test.reshape(130,130)\n",
    "u_test = u_test.reshape(130,130)\n",
    "\n",
    "# Plot the PINN solution as a contour plot\n",
    "\n",
    "plt.figure(figsize=(8,6))\n",
    "plt.contourf(x_test, t_test, u_test, cmap='viridis')\n",
    "plt.colorbar(label='u')\n",
    "plt.xlabel('x')\n",
    "plt.ylabel('t')\n",
    "plt.title('PINN Solution')\n",
    "plt.show()"
   ]
  }
 ],
 "metadata": {
  "kernelspec": {
   "display_name": "pyro_env",
   "language": "python",
   "name": "python3"
  },
  "language_info": {
   "codemirror_mode": {
    "name": "ipython",
    "version": 3
   },
   "file_extension": ".py",
   "mimetype": "text/x-python",
   "name": "python",
   "nbconvert_exporter": "python",
   "pygments_lexer": "ipython3",
   "version": "3.10.18"
  }
 },
 "nbformat": 4,
 "nbformat_minor": 5
}
