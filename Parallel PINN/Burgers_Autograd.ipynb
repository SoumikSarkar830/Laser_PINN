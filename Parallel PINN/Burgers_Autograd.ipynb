{
 "cells": [
  {
   "cell_type": "code",
   "execution_count": 124,
   "id": "75a4762b",
   "metadata": {},
   "outputs": [],
   "source": [
    "import torch\n",
    "import torch.nn as nn\n",
    "import torch.optim as optim\n",
    "import torch.autograd as autograd \n",
    "import numpy as np\n",
    "import matplotlib.pyplot as plt\n",
    "\n",
    "import time"
   ]
  },
  {
   "cell_type": "code",
   "execution_count": 125,
   "id": "07ace8b1",
   "metadata": {},
   "outputs": [],
   "source": [
    "# torch.manual_seed(42)"
   ]
  },
  {
   "cell_type": "code",
   "execution_count": 126,
   "id": "9f28ad3f",
   "metadata": {},
   "outputs": [
    {
     "name": "stdout",
     "output_type": "stream",
     "text": [
      "device: cuda:1\n"
     ]
    }
   ],
   "source": [
    "device = torch.device('cuda:1' if torch.cuda.is_available() else 'cpu')\n",
    "# device = 'cpu'\n",
    "print(f'device: {device}')"
   ]
  },
  {
   "cell_type": "code",
   "execution_count": 127,
   "id": "107306b6",
   "metadata": {},
   "outputs": [],
   "source": [
    "class Sequentialmodel(nn.Module):\n",
    "    \n",
    "    def __init__(self,layers):\n",
    "        super().__init__() #call __init__ from parent class \n",
    "              \n",
    "    \n",
    "        self.activation = nn.Tanh()\n",
    "        self.loss_function = nn.MSELoss(reduction ='mean')\n",
    "\n",
    "        self.layers = layers\n",
    "        \n",
    "        'Initialise neural network as a list using nn.Modulelist'  \n",
    "        self.linears = nn.ModuleList([nn.Linear(layers[i], layers[i+1]) for i in range(len(layers)-1)])\n",
    "        \n",
    "        for i in range(len(layers)-1):\n",
    "            nn.init.xavier_normal_(self.linears[i].weight.data, gain=1.0)\n",
    "            # set biases to zero\n",
    "            nn.init.zeros_(self.linears[i].bias.data)\n",
    "\n",
    "        self.H1 = self.linears[0]\n",
    "\n",
    "        \n",
    "    'forward pass'\n",
    "    def forward(self,x,t):              \n",
    "        \n",
    "        # for i in range(len(self.layers)-2):\n",
    "        #     z = self.linears[i](a)\n",
    "        #     a = self.activation(z)\n",
    "\n",
    "        a = torch.cat([x,t], dim = 1)    #(10000,2)\n",
    "\n",
    "        for i in range(len(self.layers)-2):\n",
    "            z = self.linears[i](a)\n",
    "            a = self.activation(z)\n",
    "\n",
    "\n",
    "            \n",
    "        b = self.linears[-1](a) \n",
    "         \n",
    "        return b\n",
    "    \n",
    "    # def forward_direct(self, x):\n",
    "        \n",
    "    #     z = x.float()\n",
    "    #     H = self.linears[0].weight\n",
    "\n",
    "    #     for i in range(len(self.layers)-2):\n",
    "    #         L = self.linears[i](z)\n",
    "    #         z = self.activation(L)\n",
    "    #         G = (1-torch.square(z))*H.t() #\\sigma'(L)*H\n",
    "    #         H = torch.matmul(self.linears[i+1].weight,G.t())\n",
    "\n",
    "    #     z = self.linears[-1](z)\n",
    "         \n",
    "    #     return z,H"
   ]
  },
  {
   "cell_type": "code",
   "execution_count": 128,
   "id": "77edc9c3",
   "metadata": {},
   "outputs": [],
   "source": [
    "# layers = np.array([2,50,50,50,50,50,1])\n",
    "layers = np.array([2,20,20,20,20,20,1])\n",
    "# PINN = Sequentialmodel(layers).to(device)"
   ]
  },
  {
   "cell_type": "code",
   "execution_count": 129,
   "id": "bb202ef1",
   "metadata": {},
   "outputs": [],
   "source": [
    "# Resetting to ensure the reported peak truly reflects the training loop, rather than including earlier setup.\n",
    "\n",
    "# if device.type == 'cuda':\n",
    "#     torch.cuda.reset_peak_memory_stats(device)"
   ]
  },
  {
   "cell_type": "code",
   "execution_count": 130,
   "id": "cbddcbb7",
   "metadata": {},
   "outputs": [],
   "source": [
    "# Create the training data\n",
    "\n",
    "x = torch.linspace(-1,1,300, requires_grad = True).view(-1,1)\n",
    "t = torch.linspace(0,1,300, requires_grad = True).view(-1,1)\n",
    "\n",
    "\n",
    "if torch.is_tensor(x) != True:         \n",
    "    x = torch.from_numpy(x)  \n",
    "if torch.is_tensor(t) != True:         \n",
    "    t = torch.from_numpy(t) \n",
    "\n",
    "#convert to float\n",
    "x = x.float()\n",
    "t = t.float()\n",
    "\n",
    "    \n",
    "x_train,t_train = torch.meshgrid(x.squeeze(),t.squeeze(), indexing = 'xy')\n",
    "x_train = x_train.reshape(-1,1).to(device).requires_grad_(True)     # 10000 x 1\n",
    "t_train = t_train.reshape(-1,1).to(device).requires_grad_(True)     # 10000 x 1\n",
    "\n",
    "# x_train = x_train.reshape(-1,1).requires_grad_(True)     # 10000 x 1\n",
    "# t_train = t_train.reshape(-1,1).requires_grad_(True)     # 10000 x 1\n",
    "\n"
   ]
  },
  {
   "cell_type": "code",
   "execution_count": 131,
   "id": "79ad5c9f",
   "metadata": {},
   "outputs": [],
   "source": [
    "def pde_residual(x, t, nu):\n",
    "    u = PINN(x,t)\n",
    "\n",
    "    du_dx = torch.autograd.grad(u, x, torch.ones_like(u), create_graph=True)[0]\n",
    "    du_dt = torch.autograd.grad(u, t, torch.ones_like(u), create_graph=True)[0]\n",
    "    du_dx_x = torch.autograd.grad(du_dx, x, torch.ones_like(du_dx), create_graph=True)[0]\n",
    "\n",
    "    res_pde = du_dt - (nu / (np.pi)) * du_dx_x + u * du_dx\n",
    "\n",
    "    return res_pde\n",
    "\n",
    "\n",
    "    "
   ]
  },
  {
   "cell_type": "code",
   "execution_count": 132,
   "id": "0acfb89f",
   "metadata": {},
   "outputs": [],
   "source": [
    "\n",
    "def initial_condition(x):\n",
    "  u_ic = PINN(x, torch.zeros_like(x))\n",
    "  res_ic = u_ic - (-torch.sin(np.pi * x))\n",
    "  return res_ic"
   ]
  },
  {
   "cell_type": "code",
   "execution_count": 133,
   "id": "33de6491",
   "metadata": {},
   "outputs": [],
   "source": [
    "def boundary_condition(t):\n",
    "    u_left = PINN(torch.full_like(t, -1), t)\n",
    "    u_right = PINN(torch.full_like(t, 1), t)\n",
    "\n",
    "    res_left = u_left - torch.zeros_like(t)\n",
    "    res_right = u_right - torch.zeros_like(t)\n",
    "\n",
    "    return res_left, res_right"
   ]
  },
  {
   "cell_type": "code",
   "execution_count": 134,
   "id": "7cde8597",
   "metadata": {},
   "outputs": [],
   "source": [
    "def compute_losses():\n",
    "   res_pde = pde_residual(x_train, t_train, nu = 0.01) \n",
    "   res_ic = initial_condition(x_train)\n",
    "   res_left, res_right = boundary_condition(t_train)\n",
    "\n",
    "   loss_pde = torch.mean(res_pde**2)\n",
    "   loss_ic = torch.mean(res_ic**2)\n",
    "   loss_bc = torch.mean(res_left**2) + torch.mean(res_right**2)\n",
    "\n",
    "   total_loss = loss_pde + loss_ic + loss_bc\n",
    "\n",
    "   return total_loss\n",
    "\n"
   ]
  },
  {
   "cell_type": "code",
   "execution_count": 177,
   "id": "85f5210e",
   "metadata": {},
   "outputs": [],
   "source": [
    "# optimizer = torch.optim.Adam(PINN.parameters(), lr=0.01)"
   ]
  },
  {
   "cell_type": "code",
   "execution_count": null,
   "id": "7d9769c7",
   "metadata": {},
   "outputs": [
    {
     "name": "stdout",
     "output_type": "stream",
     "text": [
      "Epoch 0, Loss: 0.8078573942184448\n",
      "Epoch 200, Loss: 0.1330307573080063\n",
      "Epoch 400, Loss: 0.10940802842378616\n",
      "Epoch 600, Loss: 0.06939719617366791\n",
      "Epoch 800, Loss: 0.10845814645290375\n",
      "Epoch 1000, Loss: 0.05622204393148422\n",
      "Epoch 1200, Loss: 0.19560980796813965\n",
      "Epoch 1400, Loss: 0.07170343399047852\n",
      "Epoch 1600, Loss: 0.20102903246879578\n",
      "Epoch 1800, Loss: 0.12149399518966675\n",
      "Epoch 2000, Loss: 0.2110915184020996\n",
      "Epoch 2200, Loss: 0.060275670140981674\n",
      "Epoch 2400, Loss: 0.08964341878890991\n",
      "Epoch 2600, Loss: 0.1610204130411148\n",
      "Epoch 2800, Loss: 0.026023177430033684\n",
      "Epoch 3000, Loss: 0.1063586100935936\n",
      "Epoch 3200, Loss: 0.04712590575218201\n",
      "Epoch 3400, Loss: 0.17666521668434143\n",
      "Epoch 3600, Loss: 0.06978660076856613\n",
      "Epoch 3800, Loss: 0.11354005336761475\n",
      "Epoch 4000, Loss: 0.11380163580179214\n",
      "Epoch 4200, Loss: 0.04873565584421158\n",
      "Epoch 4400, Loss: 0.059562161564826965\n",
      "Epoch 4600, Loss: 0.027526339516043663\n",
      "Epoch 4800, Loss: 0.06669050455093384\n",
      "Epoch 5000, Loss: 0.08269819617271423\n",
      "Epoch 5200, Loss: 0.09228679537773132\n",
      "Epoch 5400, Loss: 0.05534929037094116\n",
      "Epoch 5600, Loss: 0.06472743302583694\n",
      "Epoch 5800, Loss: 0.09618687629699707\n",
      "Epoch 6000, Loss: 0.07488127797842026\n",
      "Epoch 6200, Loss: 0.058052100241184235\n",
      "Epoch 6400, Loss: 0.04387043043971062\n",
      "Epoch 6600, Loss: 0.1341763585805893\n",
      "Epoch 6800, Loss: 0.2727808952331543\n",
      "Epoch 7000, Loss: 0.22408252954483032\n",
      "Epoch 7200, Loss: 0.08813151717185974\n",
      "Epoch 7400, Loss: 0.07990974187850952\n",
      "Epoch 7600, Loss: 0.09923326224088669\n",
      "Epoch 7800, Loss: 0.06473593413829803\n",
      "Epoch 8000, Loss: 0.06133735179901123\n",
      "Epoch 8200, Loss: 0.07342132180929184\n",
      "Epoch 8400, Loss: 0.06643282622098923\n",
      "Epoch 8600, Loss: 0.06831512600183487\n",
      "Epoch 8800, Loss: 0.08309603482484818\n",
      "Epoch 9000, Loss: 0.05383988469839096\n",
      "Epoch 9200, Loss: 0.07487118989229202\n",
      "Epoch 9400, Loss: 0.05189855396747589\n",
      "Epoch 9600, Loss: 0.0772479847073555\n",
      "Epoch 9800, Loss: 0.05045747011899948\n",
      "Total Training Time:  138.4909seconds\n"
     ]
    }
   ],
   "source": [
    "# No. of epochs\n",
    "\n",
    "\n",
    "# start_time = time.time()\n",
    "\n",
    "# num_epochs = 10000\n",
    "\n",
    "\n",
    "\n",
    "# for epoch in range(num_epochs):\n",
    "#     optimizer.zero_grad()\n",
    "\n",
    "#     total_loss = compute_losses()\n",
    "\n",
    "    \n",
    "#     total_loss.backward()\n",
    "\n",
    "#     optimizer.step()\n",
    "\n",
    "#     if (epoch) % 200 == 0:\n",
    "#      print(f'Epoch {epoch}, Loss: {total_loss.item()}')\n",
    "\n",
    "\n",
    "# end_time = time.time()\n",
    "\n",
    "# print(f'Total Training Time: {(end_time - start_time): .4f}seconds')\n",
    "\n",
    "\n",
    "    \n",
    "\n",
    "\n",
    "\n",
    "\n",
    "\n",
    "\n"
   ]
  },
  {
   "cell_type": "code",
   "execution_count": 135,
   "id": "07a86c3a",
   "metadata": {},
   "outputs": [],
   "source": [
    "torch.manual_seed(42)\n",
    "PINN = Sequentialmodel(layers).to(device)\n",
    "# PINN = Sequentialmodel(layers)\n"
   ]
  },
  {
   "cell_type": "code",
   "execution_count": 136,
   "id": "f49c4da6",
   "metadata": {},
   "outputs": [],
   "source": [
    "if device.type == 'cuda':\n",
    "    torch.cuda.reset_peak_memory_stats(device)"
   ]
  },
  {
   "cell_type": "code",
   "execution_count": 106,
   "id": "e4b327c0",
   "metadata": {},
   "outputs": [],
   "source": [
    "# optimizer = torch.optim.Adam(PINN.parameters(), lr=0.01)"
   ]
  },
  {
   "cell_type": "code",
   "execution_count": null,
   "id": "602e57cd",
   "metadata": {},
   "outputs": [
    {
     "name": "stdout",
     "output_type": "stream",
     "text": [
      "Epoch 0, Loss: 0.5907533168792725\n",
      "Epoch 200, Loss: 0.08202001452445984\n",
      "Epoch 400, Loss: 0.04619643837213516\n",
      "Epoch 600, Loss: 0.010318565182387829\n",
      "Epoch 800, Loss: 0.00702840369194746\n",
      "Epoch 1000, Loss: 0.00388238113373518\n",
      "Epoch 1200, Loss: 0.0028023982886224985\n",
      "Epoch 1400, Loss: 0.00284369639120996\n",
      "Reached threshold loss 0.002 at epoch 1441\n",
      "Training stopped at epoch 1441, total time 228.04 s\n"
     ]
    }
   ],
   "source": [
    "# # Threshold loss as the stopping criteria\n",
    "\n",
    "# max_epochs = 15000\n",
    "# threshold = 0.002\n",
    "\n",
    "\n",
    "\n",
    "# start_time = time.time()\n",
    "\n",
    "# ep = 0\n",
    "# while ep < max_epochs:\n",
    "#     optimizer.zero_grad()\n",
    "\n",
    "#     total_loss = compute_losses()\n",
    "\n",
    "    \n",
    "#     total_loss.backward()\n",
    "\n",
    "#     optimizer.step()\n",
    "\n",
    "\n",
    "#     if total_loss.item() < threshold:\n",
    "#         print(f\"Reached threshold loss {threshold} at epoch {ep}\")\n",
    "#         break\n",
    "\n",
    "#     if (ep) % 200 == 0:\n",
    "#      print(f'Epoch {ep}, Loss: {total_loss.item()}')\n",
    "\n",
    "#     ep += 1\n",
    "\n",
    "\n",
    "# print(f\"Training stopped at epoch {ep}, total time {time.time() - start_time:.2f} s\")\n",
    "\n",
    "\n",
    "\n"
   ]
  },
  {
   "cell_type": "code",
   "execution_count": 137,
   "id": "c1e8fccc",
   "metadata": {},
   "outputs": [
    {
     "name": "stdout",
     "output_type": "stream",
     "text": [
      "Outer 0, Loss: 0.5907533168792725\n",
      "Reached threshold loss 0.002 at outer step 48\n",
      "Training stopped at outer step 48, total time 19.99 s\n"
     ]
    }
   ],
   "source": [
    "# Using LBFGS\n",
    "\n",
    "optimizer = torch.optim.LBFGS(PINN.parameters(), lr=0.05,max_iter=20,history_size=50,tolerance_grad=1e-9,tolerance_change=1e-9,line_search_fn='strong_wolfe')\n",
    "\n",
    "max_outer_steps = 15000\n",
    "threshold = 0.002\n",
    "\n",
    "start_time = time.time()\n",
    "ep = 0\n",
    "\n",
    "\n",
    "def closure():\n",
    "\n",
    "    optimizer.zero_grad()\n",
    "    total_loss = compute_losses()\n",
    "    total_loss.backward()\n",
    "\n",
    "    return total_loss\n",
    "\n",
    "while ep < max_outer_steps:\n",
    "\n",
    "    total_loss = optimizer.step(closure)\n",
    "\n",
    "    if total_loss.item() < threshold:\n",
    "        print(f\"Reached threshold loss {threshold} at outer step {ep}\")\n",
    "        break\n",
    "\n",
    "    if ep % 200 == 0:\n",
    "        print(f'Outer {ep}, Loss: {total_loss.item()}')\n",
    "\n",
    "    ep += 1\n",
    "\n",
    "print(f\"Training stopped at outer step {ep}, total time {time.time() - start_time:.2f} s\")\n",
    "    "
   ]
  },
  {
   "cell_type": "code",
   "execution_count": 138,
   "id": "45390dc6",
   "metadata": {},
   "outputs": [
    {
     "name": "stdout",
     "output_type": "stream",
     "text": [
      "Peak GPU Memory Usage:  536.89 MB\n"
     ]
    }
   ],
   "source": [
    "# Memory usage after training\n",
    "\n",
    "if device.type == 'cuda':\n",
    "    peak_mem = torch.cuda.max_memory_allocated(device)\n",
    "    print(f'Peak GPU Memory Usage: {peak_mem / 1e6: .2f} MB')"
   ]
  },
  {
   "cell_type": "code",
   "execution_count": 139,
   "id": "803ba396",
   "metadata": {},
   "outputs": [
    {
     "data": {
      "text/plain": [
       "Text(0.5, 1.0, 'PINN Solution')"
      ]
     },
     "execution_count": 139,
     "metadata": {},
     "output_type": "execute_result"
    },
    {
     "data": {
      "image/png": "[encoded data removed]",
      "text/plain": [
       "<Figure size 800x600 with 2 Axes>"
      ]
     },
     "metadata": {},
     "output_type": "display_data"
    }
   ],
   "source": [
    "# Evaluate the model\n",
    "\n",
    "x_test = torch.linspace(-1,1,130, requires_grad = False).to(device).view(-1,1)\n",
    "t_test = torch.linspace(0,1,130, requires_grad = False).to(device).view(-1,1)\n",
    "x_test,t_test = torch.meshgrid(x_test.squeeze(),t_test.squeeze(), indexing = 'xy')\n",
    "x_test = x_test.reshape(-1,1)\n",
    "t_test = t_test.reshape(-1,1)\n",
    "\n",
    "PINN.eval()\n",
    "\n",
    "with torch.no_grad():\n",
    "  u_test = PINN(x_test, t_test)\n",
    "\n",
    "# Reshape the predicted u values for contour plotting\n",
    "x_test = x_test.cpu()\n",
    "t_test = t_test.cpu()\n",
    "u_test = u_test.cpu()\n",
    "\n",
    "x_test = x_test.reshape(130,130)\n",
    "t_test = t_test.reshape(130,130)\n",
    "u_test = u_test.reshape(130,130)\n",
    "\n",
    "# Plot the PINN solution as a contour plot\n",
    "\n",
    "plt.figure(figsize=(8,6))\n",
    "plt.contourf(x_test, t_test, u_test, cmap='viridis')\n",
    "plt.colorbar(label='u')\n",
    "plt.xlabel('x')\n",
    "plt.ylabel('t')\n",
    "plt.title('PINN Solution')"
   ]
  },
  {
   "cell_type": "code",
   "execution_count": null,
   "id": "5ae463b2",
   "metadata": {},
   "outputs": [
    {
     "ename": "TypeError",
     "evalue": "Input z must be at least a (2, 2) shaped array, but has shape (16900, 1)",
     "output_type": "error",
     "traceback": [
      "\u001b[0;31m---------------------------------------------------------------------------\u001b[0m",
      "\u001b[0;31mTypeError\u001b[0m                                 Traceback (most recent call last)",
      "Cell \u001b[0;32mIn[123], line 30\u001b[0m\n\u001b[1;32m     23\u001b[0m \u001b[38;5;66;03m# x_test = x_test.reshape(130,130)\u001b[39;00m\n\u001b[1;32m     24\u001b[0m \u001b[38;5;66;03m# t_test = t_test.reshape(130,130)\u001b[39;00m\n\u001b[1;32m     25\u001b[0m \u001b[38;5;66;03m# u_test = u_test.reshape(130,130)\u001b[39;00m\n\u001b[1;32m     26\u001b[0m \n\u001b[1;32m     27\u001b[0m \u001b[38;5;66;03m# Plot the PINN solution as a contour plot\u001b[39;00m\n\u001b[1;32m     29\u001b[0m plt\u001b[38;5;241m.\u001b[39mfigure(figsize\u001b[38;5;241m=\u001b[39m(\u001b[38;5;241m8\u001b[39m,\u001b[38;5;241m6\u001b[39m))\n\u001b[0;32m---> 30\u001b[0m \u001b[43mplt\u001b[49m\u001b[38;5;241;43m.\u001b[39;49m\u001b[43mcontourf\u001b[49m\u001b[43m(\u001b[49m\u001b[43mx_test\u001b[49m\u001b[43m,\u001b[49m\u001b[43m \u001b[49m\u001b[43mt_test\u001b[49m\u001b[43m,\u001b[49m\u001b[43m \u001b[49m\u001b[43mu_test\u001b[49m\u001b[43m,\u001b[49m\u001b[43m \u001b[49m\u001b[43mcmap\u001b[49m\u001b[38;5;241;43m=\u001b[39;49m\u001b[38;5;124;43m'\u001b[39;49m\u001b[38;5;124;43mviridis\u001b[39;49m\u001b[38;5;124;43m'\u001b[39;49m\u001b[43m)\u001b[49m\n\u001b[1;32m     31\u001b[0m plt\u001b[38;5;241m.\u001b[39mcolorbar(label\u001b[38;5;241m=\u001b[39m\u001b[38;5;124m'\u001b[39m\u001b[38;5;124mu\u001b[39m\u001b[38;5;124m'\u001b[39m)\n\u001b[1;32m     32\u001b[0m plt\u001b[38;5;241m.\u001b[39mxlabel(\u001b[38;5;124m'\u001b[39m\u001b[38;5;124mx\u001b[39m\u001b[38;5;124m'\u001b[39m)\n",
      "File \u001b[0;32m~/.local/lib/python3.10/site-packages/matplotlib/pyplot.py:3190\u001b[0m, in \u001b[0;36mcontourf\u001b[0;34m(data, *args, **kwargs)\u001b[0m\n\u001b[1;32m   3188\u001b[0m \u001b[38;5;129m@_copy_docstring_and_deprecators\u001b[39m(Axes\u001b[38;5;241m.\u001b[39mcontourf)\n\u001b[1;32m   3189\u001b[0m \u001b[38;5;28;01mdef\u001b[39;00m\u001b[38;5;250m \u001b[39m\u001b[38;5;21mcontourf\u001b[39m(\u001b[38;5;241m*\u001b[39margs, data\u001b[38;5;241m=\u001b[39m\u001b[38;5;28;01mNone\u001b[39;00m, \u001b[38;5;241m*\u001b[39m\u001b[38;5;241m*\u001b[39mkwargs) \u001b[38;5;241m-\u001b[39m\u001b[38;5;241m>\u001b[39m QuadContourSet:\n\u001b[0;32m-> 3190\u001b[0m     __ret \u001b[38;5;241m=\u001b[39m \u001b[43mgca\u001b[49m\u001b[43m(\u001b[49m\u001b[43m)\u001b[49m\u001b[38;5;241;43m.\u001b[39;49m\u001b[43mcontourf\u001b[49m\u001b[43m(\u001b[49m\n\u001b[1;32m   3191\u001b[0m \u001b[43m        \u001b[49m\u001b[38;5;241;43m*\u001b[39;49m\u001b[43margs\u001b[49m\u001b[43m,\u001b[49m\u001b[43m \u001b[49m\u001b[38;5;241;43m*\u001b[39;49m\u001b[38;5;241;43m*\u001b[39;49m\u001b[43m(\u001b[49m\u001b[43m{\u001b[49m\u001b[38;5;124;43m\"\u001b[39;49m\u001b[38;5;124;43mdata\u001b[39;49m\u001b[38;5;124;43m\"\u001b[39;49m\u001b[43m:\u001b[49m\u001b[43m \u001b[49m\u001b[43mdata\u001b[49m\u001b[43m}\u001b[49m\u001b[43m \u001b[49m\u001b[38;5;28;43;01mif\u001b[39;49;00m\u001b[43m \u001b[49m\u001b[43mdata\u001b[49m\u001b[43m \u001b[49m\u001b[38;5;129;43;01mis\u001b[39;49;00m\u001b[43m \u001b[49m\u001b[38;5;129;43;01mnot\u001b[39;49;00m\u001b[43m \u001b[49m\u001b[38;5;28;43;01mNone\u001b[39;49;00m\u001b[43m \u001b[49m\u001b[38;5;28;43;01melse\u001b[39;49;00m\u001b[43m \u001b[49m\u001b[43m{\u001b[49m\u001b[43m}\u001b[49m\u001b[43m)\u001b[49m\u001b[43m,\u001b[49m\u001b[43m \u001b[49m\u001b[38;5;241;43m*\u001b[39;49m\u001b[38;5;241;43m*\u001b[39;49m\u001b[43mkwargs\u001b[49m\n\u001b[1;32m   3192\u001b[0m \u001b[43m    \u001b[49m\u001b[43m)\u001b[49m\n\u001b[1;32m   3193\u001b[0m     \u001b[38;5;28;01mif\u001b[39;00m __ret\u001b[38;5;241m.\u001b[39m_A \u001b[38;5;129;01mis\u001b[39;00m \u001b[38;5;129;01mnot\u001b[39;00m \u001b[38;5;28;01mNone\u001b[39;00m:  \u001b[38;5;66;03m# type: ignore[attr-defined]\u001b[39;00m\n\u001b[1;32m   3194\u001b[0m         sci(__ret)\n",
      "File \u001b[0;32m~/.local/lib/python3.10/site-packages/matplotlib/__init__.py:1521\u001b[0m, in \u001b[0;36m_preprocess_data.<locals>.inner\u001b[0;34m(ax, data, *args, **kwargs)\u001b[0m\n\u001b[1;32m   1518\u001b[0m \u001b[38;5;129m@functools\u001b[39m\u001b[38;5;241m.\u001b[39mwraps(func)\n\u001b[1;32m   1519\u001b[0m \u001b[38;5;28;01mdef\u001b[39;00m\u001b[38;5;250m \u001b[39m\u001b[38;5;21minner\u001b[39m(ax, \u001b[38;5;241m*\u001b[39margs, data\u001b[38;5;241m=\u001b[39m\u001b[38;5;28;01mNone\u001b[39;00m, \u001b[38;5;241m*\u001b[39m\u001b[38;5;241m*\u001b[39mkwargs):\n\u001b[1;32m   1520\u001b[0m     \u001b[38;5;28;01mif\u001b[39;00m data \u001b[38;5;129;01mis\u001b[39;00m \u001b[38;5;28;01mNone\u001b[39;00m:\n\u001b[0;32m-> 1521\u001b[0m         \u001b[38;5;28;01mreturn\u001b[39;00m \u001b[43mfunc\u001b[49m\u001b[43m(\u001b[49m\n\u001b[1;32m   1522\u001b[0m \u001b[43m            \u001b[49m\u001b[43max\u001b[49m\u001b[43m,\u001b[49m\n\u001b[1;32m   1523\u001b[0m \u001b[43m            \u001b[49m\u001b[38;5;241;43m*\u001b[39;49m\u001b[38;5;28;43mmap\u001b[39;49m\u001b[43m(\u001b[49m\u001b[43mcbook\u001b[49m\u001b[38;5;241;43m.\u001b[39;49m\u001b[43msanitize_sequence\u001b[49m\u001b[43m,\u001b[49m\u001b[43m \u001b[49m\u001b[43margs\u001b[49m\u001b[43m)\u001b[49m\u001b[43m,\u001b[49m\n\u001b[1;32m   1524\u001b[0m \u001b[43m            \u001b[49m\u001b[38;5;241;43m*\u001b[39;49m\u001b[38;5;241;43m*\u001b[39;49m\u001b[43m{\u001b[49m\u001b[43mk\u001b[49m\u001b[43m:\u001b[49m\u001b[43m \u001b[49m\u001b[43mcbook\u001b[49m\u001b[38;5;241;43m.\u001b[39;49m\u001b[43msanitize_sequence\u001b[49m\u001b[43m(\u001b[49m\u001b[43mv\u001b[49m\u001b[43m)\u001b[49m\u001b[43m \u001b[49m\u001b[38;5;28;43;01mfor\u001b[39;49;00m\u001b[43m \u001b[49m\u001b[43mk\u001b[49m\u001b[43m,\u001b[49m\u001b[43m \u001b[49m\u001b[43mv\u001b[49m\u001b[43m \u001b[49m\u001b[38;5;129;43;01min\u001b[39;49;00m\u001b[43m \u001b[49m\u001b[43mkwargs\u001b[49m\u001b[38;5;241;43m.\u001b[39;49m\u001b[43mitems\u001b[49m\u001b[43m(\u001b[49m\u001b[43m)\u001b[49m\u001b[43m}\u001b[49m\u001b[43m)\u001b[49m\n\u001b[1;32m   1526\u001b[0m     bound \u001b[38;5;241m=\u001b[39m new_sig\u001b[38;5;241m.\u001b[39mbind(ax, \u001b[38;5;241m*\u001b[39margs, \u001b[38;5;241m*\u001b[39m\u001b[38;5;241m*\u001b[39mkwargs)\n\u001b[1;32m   1527\u001b[0m     auto_label \u001b[38;5;241m=\u001b[39m (bound\u001b[38;5;241m.\u001b[39marguments\u001b[38;5;241m.\u001b[39mget(label_namer)\n\u001b[1;32m   1528\u001b[0m                   \u001b[38;5;129;01mor\u001b[39;00m bound\u001b[38;5;241m.\u001b[39mkwargs\u001b[38;5;241m.\u001b[39mget(label_namer))\n",
      "File \u001b[0;32m~/.local/lib/python3.10/site-packages/matplotlib/axes/_axes.py:6794\u001b[0m, in \u001b[0;36mAxes.contourf\u001b[0;34m(self, *args, **kwargs)\u001b[0m\n\u001b[1;32m   6783\u001b[0m \u001b[38;5;250m\u001b[39m\u001b[38;5;124;03m\"\"\"\u001b[39;00m\n\u001b[1;32m   6784\u001b[0m \u001b[38;5;124;03mPlot filled contours.\u001b[39;00m\n\u001b[1;32m   6785\u001b[0m \n\u001b[0;32m   (...)\u001b[0m\n\u001b[1;32m   6791\u001b[0m \u001b[38;5;124;03m%(contour_doc)s\u001b[39;00m\n\u001b[1;32m   6792\u001b[0m \u001b[38;5;124;03m\"\"\"\u001b[39;00m\n\u001b[1;32m   6793\u001b[0m kwargs[\u001b[38;5;124m'\u001b[39m\u001b[38;5;124mfilled\u001b[39m\u001b[38;5;124m'\u001b[39m] \u001b[38;5;241m=\u001b[39m \u001b[38;5;28;01mTrue\u001b[39;00m\n\u001b[0;32m-> 6794\u001b[0m contours \u001b[38;5;241m=\u001b[39m \u001b[43mmcontour\u001b[49m\u001b[38;5;241;43m.\u001b[39;49m\u001b[43mQuadContourSet\u001b[49m\u001b[43m(\u001b[49m\u001b[38;5;28;43mself\u001b[39;49m\u001b[43m,\u001b[49m\u001b[43m \u001b[49m\u001b[38;5;241;43m*\u001b[39;49m\u001b[43margs\u001b[49m\u001b[43m,\u001b[49m\u001b[43m \u001b[49m\u001b[38;5;241;43m*\u001b[39;49m\u001b[38;5;241;43m*\u001b[39;49m\u001b[43mkwargs\u001b[49m\u001b[43m)\u001b[49m\n\u001b[1;32m   6795\u001b[0m \u001b[38;5;28mself\u001b[39m\u001b[38;5;241m.\u001b[39m_request_autoscale_view()\n\u001b[1;32m   6796\u001b[0m \u001b[38;5;28;01mreturn\u001b[39;00m contours\n",
      "File \u001b[0;32m~/.local/lib/python3.10/site-packages/matplotlib/contour.py:701\u001b[0m, in \u001b[0;36mContourSet.__init__\u001b[0;34m(self, ax, levels, filled, linewidths, linestyles, hatches, alpha, origin, extent, cmap, colors, norm, vmin, vmax, colorizer, extend, antialiased, nchunk, locator, transform, negative_linestyles, clip_path, *args, **kwargs)\u001b[0m\n\u001b[1;32m    697\u001b[0m \u001b[38;5;28;01mif\u001b[39;00m \u001b[38;5;28mself\u001b[39m\u001b[38;5;241m.\u001b[39mnegative_linestyles \u001b[38;5;129;01mis\u001b[39;00m \u001b[38;5;28;01mNone\u001b[39;00m:\n\u001b[1;32m    698\u001b[0m     \u001b[38;5;28mself\u001b[39m\u001b[38;5;241m.\u001b[39mnegative_linestyles \u001b[38;5;241m=\u001b[39m \\\n\u001b[1;32m    699\u001b[0m         mpl\u001b[38;5;241m.\u001b[39mrcParams[\u001b[38;5;124m'\u001b[39m\u001b[38;5;124mcontour.negative_linestyle\u001b[39m\u001b[38;5;124m'\u001b[39m]\n\u001b[0;32m--> 701\u001b[0m kwargs \u001b[38;5;241m=\u001b[39m \u001b[38;5;28;43mself\u001b[39;49m\u001b[38;5;241;43m.\u001b[39;49m\u001b[43m_process_args\u001b[49m\u001b[43m(\u001b[49m\u001b[38;5;241;43m*\u001b[39;49m\u001b[43margs\u001b[49m\u001b[43m,\u001b[49m\u001b[43m \u001b[49m\u001b[38;5;241;43m*\u001b[39;49m\u001b[38;5;241;43m*\u001b[39;49m\u001b[43mkwargs\u001b[49m\u001b[43m)\u001b[49m\n\u001b[1;32m    702\u001b[0m \u001b[38;5;28mself\u001b[39m\u001b[38;5;241m.\u001b[39m_process_levels()\n\u001b[1;32m    704\u001b[0m \u001b[38;5;28mself\u001b[39m\u001b[38;5;241m.\u001b[39m_extend_min \u001b[38;5;241m=\u001b[39m \u001b[38;5;28mself\u001b[39m\u001b[38;5;241m.\u001b[39mextend \u001b[38;5;129;01min\u001b[39;00m [\u001b[38;5;124m'\u001b[39m\u001b[38;5;124mmin\u001b[39m\u001b[38;5;124m'\u001b[39m, \u001b[38;5;124m'\u001b[39m\u001b[38;5;124mboth\u001b[39m\u001b[38;5;124m'\u001b[39m]\n",
      "File \u001b[0;32m~/.local/lib/python3.10/site-packages/matplotlib/contour.py:1319\u001b[0m, in \u001b[0;36mQuadContourSet._process_args\u001b[0;34m(self, corner_mask, algorithm, *args, **kwargs)\u001b[0m\n\u001b[1;32m   1316\u001b[0m         corner_mask \u001b[38;5;241m=\u001b[39m mpl\u001b[38;5;241m.\u001b[39mrcParams[\u001b[38;5;124m'\u001b[39m\u001b[38;5;124mcontour.corner_mask\u001b[39m\u001b[38;5;124m'\u001b[39m]\n\u001b[1;32m   1317\u001b[0m \u001b[38;5;28mself\u001b[39m\u001b[38;5;241m.\u001b[39m_corner_mask \u001b[38;5;241m=\u001b[39m corner_mask\n\u001b[0;32m-> 1319\u001b[0m x, y, z \u001b[38;5;241m=\u001b[39m \u001b[38;5;28;43mself\u001b[39;49m\u001b[38;5;241;43m.\u001b[39;49m\u001b[43m_contour_args\u001b[49m\u001b[43m(\u001b[49m\u001b[43margs\u001b[49m\u001b[43m,\u001b[49m\u001b[43m \u001b[49m\u001b[43mkwargs\u001b[49m\u001b[43m)\u001b[49m\n\u001b[1;32m   1321\u001b[0m contour_generator \u001b[38;5;241m=\u001b[39m contourpy\u001b[38;5;241m.\u001b[39mcontour_generator(\n\u001b[1;32m   1322\u001b[0m     x, y, z, name\u001b[38;5;241m=\u001b[39m\u001b[38;5;28mself\u001b[39m\u001b[38;5;241m.\u001b[39m_algorithm, corner_mask\u001b[38;5;241m=\u001b[39m\u001b[38;5;28mself\u001b[39m\u001b[38;5;241m.\u001b[39m_corner_mask,\n\u001b[1;32m   1323\u001b[0m     line_type\u001b[38;5;241m=\u001b[39mcontourpy\u001b[38;5;241m.\u001b[39mLineType\u001b[38;5;241m.\u001b[39mSeparateCode,\n\u001b[1;32m   1324\u001b[0m     fill_type\u001b[38;5;241m=\u001b[39mcontourpy\u001b[38;5;241m.\u001b[39mFillType\u001b[38;5;241m.\u001b[39mOuterCode,\n\u001b[1;32m   1325\u001b[0m     chunk_size\u001b[38;5;241m=\u001b[39m\u001b[38;5;28mself\u001b[39m\u001b[38;5;241m.\u001b[39mnchunk)\n\u001b[1;32m   1327\u001b[0m t \u001b[38;5;241m=\u001b[39m \u001b[38;5;28mself\u001b[39m\u001b[38;5;241m.\u001b[39mget_transform()\n",
      "File \u001b[0;32m~/.local/lib/python3.10/site-packages/matplotlib/contour.py:1359\u001b[0m, in \u001b[0;36mQuadContourSet._contour_args\u001b[0;34m(self, args, kwargs)\u001b[0m\n\u001b[1;32m   1357\u001b[0m \u001b[38;5;28;01melif\u001b[39;00m \u001b[38;5;241m2\u001b[39m \u001b[38;5;241m<\u001b[39m nargs \u001b[38;5;241m<\u001b[39m\u001b[38;5;241m=\u001b[39m \u001b[38;5;241m4\u001b[39m:\n\u001b[1;32m   1358\u001b[0m     x, y, z_orig, \u001b[38;5;241m*\u001b[39margs \u001b[38;5;241m=\u001b[39m args\n\u001b[0;32m-> 1359\u001b[0m     x, y, z \u001b[38;5;241m=\u001b[39m \u001b[38;5;28;43mself\u001b[39;49m\u001b[38;5;241;43m.\u001b[39;49m\u001b[43m_check_xyz\u001b[49m\u001b[43m(\u001b[49m\u001b[43mx\u001b[49m\u001b[43m,\u001b[49m\u001b[43m \u001b[49m\u001b[43my\u001b[49m\u001b[43m,\u001b[49m\u001b[43m \u001b[49m\u001b[43mz_orig\u001b[49m\u001b[43m,\u001b[49m\u001b[43m \u001b[49m\u001b[43mkwargs\u001b[49m\u001b[43m)\u001b[49m\n\u001b[1;32m   1361\u001b[0m \u001b[38;5;28;01melse\u001b[39;00m:\n\u001b[1;32m   1362\u001b[0m     \u001b[38;5;28;01mraise\u001b[39;00m _api\u001b[38;5;241m.\u001b[39mnargs_error(fn, takes\u001b[38;5;241m=\u001b[39m\u001b[38;5;124m\"\u001b[39m\u001b[38;5;124mfrom 1 to 4\u001b[39m\u001b[38;5;124m\"\u001b[39m, given\u001b[38;5;241m=\u001b[39mnargs)\n",
      "File \u001b[0;32m~/.local/lib/python3.10/site-packages/matplotlib/contour.py:1387\u001b[0m, in \u001b[0;36mQuadContourSet._check_xyz\u001b[0;34m(self, x, y, z, kwargs)\u001b[0m\n\u001b[1;32m   1385\u001b[0m     \u001b[38;5;28;01mraise\u001b[39;00m \u001b[38;5;167;01mTypeError\u001b[39;00m(\u001b[38;5;124mf\u001b[39m\u001b[38;5;124m\"\u001b[39m\u001b[38;5;124mInput z must be 2D, not \u001b[39m\u001b[38;5;132;01m{\u001b[39;00mz\u001b[38;5;241m.\u001b[39mndim\u001b[38;5;132;01m}\u001b[39;00m\u001b[38;5;124mD\u001b[39m\u001b[38;5;124m\"\u001b[39m)\n\u001b[1;32m   1386\u001b[0m \u001b[38;5;28;01mif\u001b[39;00m z\u001b[38;5;241m.\u001b[39mshape[\u001b[38;5;241m0\u001b[39m] \u001b[38;5;241m<\u001b[39m \u001b[38;5;241m2\u001b[39m \u001b[38;5;129;01mor\u001b[39;00m z\u001b[38;5;241m.\u001b[39mshape[\u001b[38;5;241m1\u001b[39m] \u001b[38;5;241m<\u001b[39m \u001b[38;5;241m2\u001b[39m:\n\u001b[0;32m-> 1387\u001b[0m     \u001b[38;5;28;01mraise\u001b[39;00m \u001b[38;5;167;01mTypeError\u001b[39;00m(\u001b[38;5;124mf\u001b[39m\u001b[38;5;124m\"\u001b[39m\u001b[38;5;124mInput z must be at least a (2, 2) shaped array, \u001b[39m\u001b[38;5;124m\"\u001b[39m\n\u001b[1;32m   1388\u001b[0m                     \u001b[38;5;124mf\u001b[39m\u001b[38;5;124m\"\u001b[39m\u001b[38;5;124mbut has shape \u001b[39m\u001b[38;5;132;01m{\u001b[39;00mz\u001b[38;5;241m.\u001b[39mshape\u001b[38;5;132;01m}\u001b[39;00m\u001b[38;5;124m\"\u001b[39m)\n\u001b[1;32m   1389\u001b[0m Ny, Nx \u001b[38;5;241m=\u001b[39m z\u001b[38;5;241m.\u001b[39mshape\n\u001b[1;32m   1391\u001b[0m \u001b[38;5;28;01mif\u001b[39;00m x\u001b[38;5;241m.\u001b[39mndim \u001b[38;5;241m!=\u001b[39m y\u001b[38;5;241m.\u001b[39mndim:\n",
      "\u001b[0;31mTypeError\u001b[0m: Input z must be at least a (2, 2) shaped array, but has shape (16900, 1)"
     ]
    },
    {
     "data": {
      "image/png": "[encoded data removed]",
      "text/plain": [
       "<Figure size 800x600 with 1 Axes>"
      ]
     },
     "metadata": {},
     "output_type": "display_data"
    }
   ],
   "source": [
    "# # Evaluate the model\n",
    "\n",
    "# x_test = torch.linspace(-1,1,130, requires_grad = False).to(device).view(-1,1)\n",
    "# t_test = torch.linspace(0,1,130, requires_grad = False).to(device).view(-1,1)\n",
    "\n",
    "\n",
    "# # x_test = torch.linspace(-1,1,130, requires_grad = False).view(-1,1)\n",
    "# # t_test = torch.linspace(0,1,130, requires_grad = False).view(-1,1)\n",
    "# x_test,t_test = torch.meshgrid(x_test.squeeze(),t_test.squeeze(), indexing = 'xy')\n",
    "# x_test = x_test.reshape(-1,1)\n",
    "# t_test = t_test.reshape(-1,1)\n",
    "\n",
    "# PINN.eval()\n",
    "\n",
    "# with torch.no_grad():\n",
    "#   u_test = PINN(x_test, t_test)\n",
    "\n",
    "# # Reshape the predicted u values for contour plotting\n",
    "# x_test = x_test.cpu()\n",
    "# t_test = t_test.cpu()\n",
    "# u_test = u_test.cpu()\n",
    "\n",
    "# # x_test = x_test.reshape(130,130)\n",
    "# # t_test = t_test.reshape(130,130)\n",
    "# # u_test = u_test.reshape(130,130)\n",
    "\n",
    "# # Plot the PINN solution as a contour plot\n",
    "\n",
    "# plt.figure(figsize=(8,6))\n",
    "# plt.contourf(x_test, t_test, u_test, cmap='viridis')\n",
    "# plt.colorbar(label='u')\n",
    "# plt.xlabel('x')\n",
    "# plt.ylabel('t')\n",
    "# plt.title('PINN Solution')\n",
    "# plt.show()"
   ]
  }
 ],
 "metadata": {
  "kernelspec": {
   "display_name": "pyro_env",
   "language": "python",
   "name": "python3"
  },
  "language_info": {
   "codemirror_mode": {
    "name": "ipython",
    "version": 3
   },
   "file_extension": ".py",
   "mimetype": "text/x-python",
   "name": "python",
   "nbconvert_exporter": "python",
   "pygments_lexer": "ipython3",
   "version": "3.10.18"
  }
 },
 "nbformat": 4,
 "nbformat_minor": 5
}
