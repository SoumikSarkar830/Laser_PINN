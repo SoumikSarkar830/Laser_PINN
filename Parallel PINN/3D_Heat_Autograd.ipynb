{
 "cells": [
  {
   "cell_type": "code",
   "execution_count": 2,
   "id": "ceedd0f9",
   "metadata": {},
   "outputs": [],
   "source": [
    "import torch\n",
    "import torch.nn as nn\n",
    "import torch.optim as optim\n",
    "import torch.autograd as autograd \n",
    "import numpy as np\n",
    "import matplotlib.pyplot as plt\n",
    "\n",
    "import time"
   ]
  },
  {
   "cell_type": "code",
   "execution_count": 2,
   "id": "54bc6dc6",
   "metadata": {},
   "outputs": [],
   "source": [
    "# torch.manual_seed(42)"
   ]
  },
  {
   "cell_type": "code",
   "execution_count": 3,
   "id": "2aa1dc85",
   "metadata": {},
   "outputs": [
    {
     "name": "stdout",
     "output_type": "stream",
     "text": [
      "device: cuda:0\n"
     ]
    }
   ],
   "source": [
    "device = torch.device('cuda:0' if torch.cuda.is_available() else 'cpu')\n",
    "# device = 'cpu'\n",
    "print(f'device: {device}')"
   ]
  },
  {
   "cell_type": "code",
   "execution_count": 4,
   "id": "390ce8b4",
   "metadata": {},
   "outputs": [],
   "source": [
    "class Sequentialmodel(nn.Module):\n",
    "    \n",
    "    def __init__(self,layers):\n",
    "        super().__init__() #call __init__ from parent class \n",
    "              \n",
    "    \n",
    "        self.activation = nn.Tanh()\n",
    "        self.loss_function = nn.MSELoss(reduction ='mean')\n",
    "\n",
    "        self.layers = layers\n",
    "        \n",
    "        'Initialise neural network as a list using nn.Modulelist'  \n",
    "        self.linears = nn.ModuleList([nn.Linear(layers[i], layers[i+1]) for i in range(len(layers)-1)])\n",
    "        \n",
    "        for i in range(len(layers)-1):\n",
    "            nn.init.xavier_normal_(self.linears[i].weight.data, gain=1.0)\n",
    "            # set biases to zero\n",
    "            nn.init.zeros_(self.linears[i].bias.data)\n",
    "\n",
    "        self.H1 = self.linears[0]\n",
    "\n",
    "        \n",
    "    'forward pass'\n",
    "    def forward(self,x,y,z,t):              \n",
    "        \n",
    "        # for i in range(len(self.layers)-2):\n",
    "        #     z = self.linears[i](a)\n",
    "        #     a = self.activation(z)\n",
    "\n",
    "        a = torch.cat([x,y,z,t], dim = 1)    #(N,4)\n",
    "\n",
    "        for i in range(len(self.layers)-2):\n",
    "            z = self.linears[i](a)\n",
    "            a = self.activation(z)\n",
    "\n",
    "\n",
    "            \n",
    "        b = self.linears[-1](a) \n",
    "         \n",
    "        return b\n",
    "    \n",
    "    # def forward_direct(self, x):\n",
    "        \n",
    "    #     z = x.float()\n",
    "    #     H = self.linears[0].weight\n",
    "\n",
    "    #     for i in range(len(self.layers)-2):\n",
    "    #         L = self.linears[i](z)\n",
    "    #         z = self.activation(L)\n",
    "    #         G = (1-torch.square(z))*H.t() #\\sigma'(L)*H\n",
    "    #         H = torch.matmul(self.linears[i+1].weight,G.t())\n",
    "\n",
    "    #     z = self.linears[-1](z)\n",
    "         \n",
    "    #     return z,H"
   ]
  },
  {
   "cell_type": "code",
   "execution_count": 5,
   "id": "2b2d8e5b",
   "metadata": {},
   "outputs": [],
   "source": [
    "# layers = np.array([2,50,50,50,50,50,1])\n",
    "layers = np.array([4,20,20,20,20,20,1])\n",
    "# PINN = Sequentialmodel(layers).to(device)"
   ]
  },
  {
   "cell_type": "code",
   "execution_count": 6,
   "id": "b1cbe4a5",
   "metadata": {},
   "outputs": [],
   "source": [
    "# Resetting to ensure the reported peak truly reflects the training loop, rather than including earlier setup.\n",
    "\n",
    "# if device.type == 'cuda':\n",
    "#     torch.cuda.reset_peak_memory_stats(device)"
   ]
  },
  {
   "cell_type": "code",
   "execution_count": 7,
   "id": "835d458a",
   "metadata": {},
   "outputs": [],
   "source": [
    "# Create the training data\n",
    "\n",
    "x = torch.linspace(0,1,30, requires_grad = True).view(-1,1)\n",
    "y = torch.linspace(0,1,30, requires_grad = True).view(-1,1)\n",
    "z = torch.linspace(0,1,30, requires_grad = True).view(-1,1)\n",
    "t = torch.linspace(0,5,30, requires_grad = True).view(-1,1)\n",
    "\n",
    "\n",
    "if torch.is_tensor(x) != True:         \n",
    "    x = torch.from_numpy(x)  \n",
    "if torch.is_tensor(y) != True:         \n",
    "    y = torch.from_numpy(y) \n",
    "if torch.is_tensor(z) != True:         \n",
    "    z = torch.from_numpy(z)\n",
    "if torch.is_tensor(t) != True:         \n",
    "    t = torch.from_numpy(t) \n",
    "\n",
    "#convert to float\n",
    "x = x.float()\n",
    "y = y.float()\n",
    "z = z.float()\n",
    "t = t.float()\n",
    "\n",
    "    \n",
    "x_train,y_train,z_train,t_train = torch.meshgrid(x.squeeze(),y.squeeze(),z.squeeze(),t.squeeze(), indexing = 'xy')\n",
    "x_train = x_train.reshape(-1,1).to(device).requires_grad_(True)     \n",
    "y_train = y_train.reshape(-1,1).to(device).requires_grad_(True) \n",
    "z_train = z_train.reshape(-1,1).to(device).requires_grad_(True)\n",
    "t_train = t_train.reshape(-1,1).to(device).requires_grad_(True)     \n",
    "\n",
    "# x_train = x_train.reshape(-1,1).requires_grad_(True)     \n",
    "# y_train = y_train.reshape(-1,1).requires_grad_(True) \n",
    "# z_train = z_train.reshape(-1,1).requires_grad_(True)\n",
    "# t_train = t_train.reshape(-1,1).requires_grad_(True)     \n",
    "\n"
   ]
  },
  {
   "cell_type": "code",
   "execution_count": 8,
   "id": "34ec3e8a",
   "metadata": {},
   "outputs": [],
   "source": [
    "def pde_residual(x, y,z, t, alpha):\n",
    "    u = PINN(x,y,z,t)\n",
    "\n",
    "    du_dx = torch.autograd.grad(u, x, torch.ones_like(u), create_graph=True)[0]\n",
    "    du_dy = torch.autograd.grad(u, y, torch.ones_like(u), create_graph=True)[0]\n",
    "    du_dz = torch.autograd.grad(u, z, torch.ones_like(u), create_graph=True)[0]\n",
    "    du_dt = torch.autograd.grad(u, t, torch.ones_like(u), create_graph=True)[0]\n",
    "\n",
    "    du_dx_x = torch.autograd.grad(du_dx, x, torch.ones_like(du_dx), create_graph=True)[0]\n",
    "    du_dy_y = torch.autograd.grad(du_dy, y, torch.ones_like(du_dy), create_graph=True)[0]\n",
    "    du_dz_z = torch.autograd.grad(du_dz, z, torch.ones_like(du_dz), create_graph=True)[0]\n",
    "\n",
    "    res_pde = du_dt - alpha * (du_dx_x + du_dy_y + du_dz_z)\n",
    "\n",
    "    return res_pde\n",
    "\n",
    "\n",
    "    "
   ]
  },
  {
   "cell_type": "code",
   "execution_count": 9,
   "id": "8100ef83",
   "metadata": {},
   "outputs": [],
   "source": [
    "def initial_condition(x,y,z):\n",
    "  u_ic = PINN(x, y, z, torch.zeros_like(x))\n",
    "  res_ic = u_ic - ((torch.sin(np.pi * x))*(torch.sin(np.pi * y)) * (torch.sin(np.pi * z)))\n",
    "  return res_ic"
   ]
  },
  {
   "cell_type": "code",
   "execution_count": 10,
   "id": "b7ac7ae7",
   "metadata": {},
   "outputs": [],
   "source": [
    "def boundary_condition(x,y,z,t):\n",
    "    u_x_0 = PINN(torch.full_like(t, 0),y,z, t)\n",
    "    u_x_1 = PINN(torch.full_like(t, 1),y,z, t)\n",
    "\n",
    "    u_y_0 = PINN(x,torch.full_like(t, 0),z, t)\n",
    "    u_y_1 = PINN(x,torch.full_like(t, 1),z, t)\n",
    "\n",
    "    u_z_0 = PINN(x,y,torch.full_like(t, 0), t)\n",
    "    u_z_1 = PINN(x,y,torch.full_like(t, 1), t)\n",
    "\n",
    "    res_x_0 = u_x_0 - torch.zeros_like(t)\n",
    "    res_x_1 = u_x_1 - torch.zeros_like(t)\n",
    "    res_y_0 = u_y_0 - torch.zeros_like(t)\n",
    "    res_y_1 = u_y_1 - torch.zeros_like(t)\n",
    "    res_z_0 = u_z_0 - torch.zeros_like(t)\n",
    "    res_z_1 = u_z_1 - torch.zeros_like(t)\n",
    "\n",
    "    return res_x_0,res_x_1,res_y_0,res_y_1,res_z_0,res_z_1"
   ]
  },
  {
   "cell_type": "code",
   "execution_count": 11,
   "id": "ac60df65",
   "metadata": {},
   "outputs": [],
   "source": [
    "def compute_losses():\n",
    "   res_pde = pde_residual(x_train, y_train, z_train, t_train, alpha = 0.01) \n",
    "   res_ic = initial_condition(x_train,y_train,z_train)\n",
    "   res_x_0,res_x_1,res_y_0,res_y_1,res_z_0,res_z_1 = boundary_condition(x_train, y_train, z_train, t_train)\n",
    "\n",
    "   loss_pde = torch.mean(res_pde**2)\n",
    "   loss_ic = torch.mean(res_ic**2)\n",
    "   loss_bc = torch.mean(res_x_0**2) + torch.mean(res_x_1**2) + torch.mean(res_y_0**2) + torch.mean(res_y_1**2) + torch.mean(res_z_0**2) + torch.mean(res_z_1**2)\n",
    "\n",
    "   total_loss = loss_pde + loss_ic + loss_bc\n",
    "\n",
    "   return total_loss\n",
    "\n"
   ]
  },
  {
   "cell_type": "code",
   "execution_count": null,
   "id": "77e9fed6",
   "metadata": {},
   "outputs": [],
   "source": [
    "# optimizer = torch.optim.Adam(PINN.parameters(), lr=0.01)"
   ]
  },
  {
   "cell_type": "code",
   "execution_count": null,
   "id": "34e8b9b2",
   "metadata": {},
   "outputs": [],
   "source": [
    "# No. of epochs\n",
    "\n",
    "\n",
    "# start_time = time.time()\n",
    "\n",
    "# num_epochs = 10000\n",
    "\n",
    "\n",
    "\n",
    "# for epoch in range(num_epochs):\n",
    "#     optimizer.zero_grad()\n",
    "\n",
    "#     total_loss = compute_losses()\n",
    "\n",
    "    \n",
    "#     total_loss.backward()\n",
    "\n",
    "#     optimizer.step()\n",
    "\n",
    "#     if (epoch) % 200 == 0:\n",
    "#      print(f'Epoch {epoch}, Loss: {total_loss.item()}')\n",
    "\n",
    "\n",
    "# end_time = time.time()\n",
    "\n",
    "# print(f'Total Training Time: {(end_time - start_time): .4f}seconds')\n",
    "\n",
    "\n",
    "    \n",
    "\n",
    "\n",
    "\n",
    "\n",
    "\n",
    "\n"
   ]
  },
  {
   "cell_type": "code",
   "execution_count": 19,
   "id": "ad3745f0",
   "metadata": {},
   "outputs": [],
   "source": [
    "torch.manual_seed(42)\n",
    "PINN = Sequentialmodel(layers).to(device)\n",
    "# PINN = Sequentialmodel(layers)"
   ]
  },
  {
   "cell_type": "code",
   "execution_count": 20,
   "id": "0ad12b36",
   "metadata": {},
   "outputs": [],
   "source": [
    "if device.type == 'cuda':\n",
    "    torch.cuda.reset_peak_memory_stats(device)"
   ]
  },
  {
   "cell_type": "code",
   "execution_count": null,
   "id": "78253882",
   "metadata": {},
   "outputs": [],
   "source": [
    "# optimizer = torch.optim.Adam(PINN.parameters(), lr=0.01)"
   ]
  },
  {
   "cell_type": "code",
   "execution_count": 11,
   "id": "3a7d3ab2",
   "metadata": {},
   "outputs": [],
   "source": [
    "# # Threshold loss as the stopping criteria\n",
    "\n",
    "# max_epochs = 15000\n",
    "# threshold = 0.002\n",
    "\n",
    "\n",
    "\n",
    "# start_time = time.time()\n",
    "\n",
    "# ep = 0\n",
    "# while ep < max_epochs:\n",
    "#     optimizer.zero_grad()\n",
    "\n",
    "#     total_loss = compute_losses()\n",
    "\n",
    "    \n",
    "#     total_loss.backward()\n",
    "\n",
    "#     optimizer.step()\n",
    "\n",
    "\n",
    "#     if total_loss.item() < threshold:\n",
    "#         print(f\"Reached threshold loss {threshold} at epoch {ep}\")\n",
    "#         break\n",
    "\n",
    "#     if (ep) % 200 == 0:\n",
    "#      print(f'Epoch {ep}, Loss: {total_loss.item()}')\n",
    "\n",
    "#     ep += 1\n",
    "\n",
    "\n",
    "# print(f\"Training stopped at epoch {ep}, total time {time.time() - start_time:.2f} s\")\n",
    "\n",
    "\n",
    "\n"
   ]
  },
  {
   "cell_type": "code",
   "execution_count": 21,
   "id": "ca3e79d1",
   "metadata": {},
   "outputs": [
    {
     "name": "stdout",
     "output_type": "stream",
     "text": [
      "Outer 0, Loss: 0.6497296094894409\n",
      "Reached threshold loss 0.002 at outer step 26\n",
      "Training stopped at outer step 26, total time 180.15 s\n"
     ]
    }
   ],
   "source": [
    "# Using LBFGS\n",
    "\n",
    "optimizer = torch.optim.LBFGS(PINN.parameters(), lr=0.05,max_iter=20,history_size=50,tolerance_grad=1e-9,tolerance_change=1e-9,line_search_fn='strong_wolfe')\n",
    "\n",
    "max_outer_steps = 15000\n",
    "threshold = 0.002\n",
    "\n",
    "start_time = time.time()\n",
    "ep = 0\n",
    "\n",
    "\n",
    "def closure():\n",
    "\n",
    "    optimizer.zero_grad()\n",
    "    total_loss = compute_losses()\n",
    "    total_loss.backward()\n",
    "\n",
    "    return total_loss\n",
    "\n",
    "while ep < max_outer_steps:\n",
    "\n",
    "    total_loss = optimizer.step(closure)\n",
    "\n",
    "    if total_loss.item() < threshold:\n",
    "        print(f\"Reached threshold loss {threshold} at outer step {ep}\")\n",
    "        break\n",
    "\n",
    "    if ep % 200 == 0:\n",
    "        print(f'Outer {ep}, Loss: {total_loss.item()}')\n",
    "\n",
    "    ep += 1\n",
    "\n",
    "print(f\"Training stopped at outer step {ep}, total time {time.time() - start_time:.2f} s\")\n",
    "    "
   ]
  },
  {
   "cell_type": "code",
   "execution_count": 22,
   "id": "f066414e",
   "metadata": {},
   "outputs": [
    {
     "name": "stdout",
     "output_type": "stream",
     "text": [
      "Peak GPU Memory Usage:  11024.65 MB\n"
     ]
    }
   ],
   "source": [
    "# Memory usage after training\n",
    "\n",
    "if device.type == 'cuda':\n",
    "    peak_mem = torch.cuda.max_memory_allocated(device)\n",
    "    print(f'Peak GPU Memory Usage: {peak_mem / 1e6: .2f} MB')"
   ]
  }
 ],
 "metadata": {
  "kernelspec": {
   "display_name": "pyro_env",
   "language": "python",
   "name": "python3"
  },
  "language_info": {
   "codemirror_mode": {
    "name": "ipython",
    "version": 3
   },
   "file_extension": ".py",
   "mimetype": "text/x-python",
   "name": "python",
   "nbconvert_exporter": "python",
   "pygments_lexer": "ipython3",
   "version": "3.10.18"
  }
 },
 "nbformat": 4,
 "nbformat_minor": 5
}
