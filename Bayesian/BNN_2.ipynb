{
 "cells": [
  {
   "cell_type": "code",
   "execution_count": 11,
   "id": "1667cd72",
   "metadata": {},
   "outputs": [
    {
     "data": {
      "text/plain": [
       "<torch._C.Generator at 0x7faec409a090>"
      ]
     },
     "execution_count": 11,
     "metadata": {},
     "output_type": "execute_result"
    }
   ],
   "source": [
    "import torch\n",
    "import torch.autograd as autograd\n",
    "import numpy as np\n",
    "import matplotlib.pyplot as plt\n",
    "\n",
    "# Set random seed for reproducibility\n",
    "np.random.seed(42)\n",
    "torch.manual_seed(42)"
   ]
  },
  {
   "cell_type": "code",
   "execution_count": 12,
   "id": "fc67dd84",
   "metadata": {},
   "outputs": [
    {
     "name": "stdout",
     "output_type": "stream",
     "text": [
      "Requirement already satisfied: pyro-ppl in /home/soumik/.local/lib/python3.10/site-packages (1.9.1)\n",
      "Requirement already satisfied: numpy>=1.7 in /home/soumik/.local/lib/python3.10/site-packages (from pyro-ppl) (2.2.6)\n",
      "Requirement already satisfied: opt-einsum>=2.3.2 in /home/soumik/miniconda3/envs/pyro_env/lib/python3.10/site-packages (from pyro-ppl) (3.4.0)\n",
      "Requirement already satisfied: pyro-api>=0.1.1 in /home/soumik/.local/lib/python3.10/site-packages (from pyro-ppl) (0.1.2)\n",
      "Requirement already satisfied: torch>=2.0 in /home/soumik/miniconda3/envs/pyro_env/lib/python3.10/site-packages (from pyro-ppl) (2.7.1)\n",
      "Requirement already satisfied: tqdm>=4.36 in /home/soumik/.local/lib/python3.10/site-packages (from pyro-ppl) (4.67.1)\n",
      "Requirement already satisfied: filelock in /home/soumik/miniconda3/envs/pyro_env/lib/python3.10/site-packages (from torch>=2.0->pyro-ppl) (3.18.0)\n",
      "Requirement already satisfied: typing-extensions>=4.10.0 in /home/soumik/miniconda3/envs/pyro_env/lib/python3.10/site-packages (from torch>=2.0->pyro-ppl) (4.14.0)\n",
      "Requirement already satisfied: sympy>=1.13.3 in /home/soumik/miniconda3/envs/pyro_env/lib/python3.10/site-packages (from torch>=2.0->pyro-ppl) (1.14.0)\n",
      "Requirement already satisfied: networkx in /home/soumik/miniconda3/envs/pyro_env/lib/python3.10/site-packages (from torch>=2.0->pyro-ppl) (3.4.2)\n",
      "Requirement already satisfied: jinja2 in /home/soumik/miniconda3/envs/pyro_env/lib/python3.10/site-packages (from torch>=2.0->pyro-ppl) (3.1.6)\n",
      "Requirement already satisfied: fsspec in /home/soumik/miniconda3/envs/pyro_env/lib/python3.10/site-packages (from torch>=2.0->pyro-ppl) (2025.5.1)\n",
      "Requirement already satisfied: nvidia-cuda-nvrtc-cu12==12.6.77 in /home/soumik/miniconda3/envs/pyro_env/lib/python3.10/site-packages (from torch>=2.0->pyro-ppl) (12.6.77)\n",
      "Requirement already satisfied: nvidia-cuda-runtime-cu12==12.6.77 in /home/soumik/miniconda3/envs/pyro_env/lib/python3.10/site-packages (from torch>=2.0->pyro-ppl) (12.6.77)\n",
      "Requirement already satisfied: nvidia-cuda-cupti-cu12==12.6.80 in /home/soumik/miniconda3/envs/pyro_env/lib/python3.10/site-packages (from torch>=2.0->pyro-ppl) (12.6.80)\n",
      "Requirement already satisfied: nvidia-cudnn-cu12==9.5.1.17 in /home/soumik/miniconda3/envs/pyro_env/lib/python3.10/site-packages (from torch>=2.0->pyro-ppl) (9.5.1.17)\n",
      "Requirement already satisfied: nvidia-cublas-cu12==12.6.4.1 in /home/soumik/miniconda3/envs/pyro_env/lib/python3.10/site-packages (from torch>=2.0->pyro-ppl) (12.6.4.1)\n",
      "Requirement already satisfied: nvidia-cufft-cu12==11.3.0.4 in /home/soumik/miniconda3/envs/pyro_env/lib/python3.10/site-packages (from torch>=2.0->pyro-ppl) (11.3.0.4)\n",
      "Requirement already satisfied: nvidia-curand-cu12==10.3.7.77 in /home/soumik/miniconda3/envs/pyro_env/lib/python3.10/site-packages (from torch>=2.0->pyro-ppl) (10.3.7.77)\n",
      "Requirement already satisfied: nvidia-cusolver-cu12==11.7.1.2 in /home/soumik/miniconda3/envs/pyro_env/lib/python3.10/site-packages (from torch>=2.0->pyro-ppl) (11.7.1.2)\n",
      "Requirement already satisfied: nvidia-cusparse-cu12==12.5.4.2 in /home/soumik/miniconda3/envs/pyro_env/lib/python3.10/site-packages (from torch>=2.0->pyro-ppl) (12.5.4.2)\n",
      "Requirement already satisfied: nvidia-cusparselt-cu12==0.6.3 in /home/soumik/miniconda3/envs/pyro_env/lib/python3.10/site-packages (from torch>=2.0->pyro-ppl) (0.6.3)\n",
      "Requirement already satisfied: nvidia-nccl-cu12==2.26.2 in /home/soumik/miniconda3/envs/pyro_env/lib/python3.10/site-packages (from torch>=2.0->pyro-ppl) (2.26.2)\n",
      "Requirement already satisfied: nvidia-nvtx-cu12==12.6.77 in /home/soumik/miniconda3/envs/pyro_env/lib/python3.10/site-packages (from torch>=2.0->pyro-ppl) (12.6.77)\n",
      "Requirement already satisfied: nvidia-nvjitlink-cu12==12.6.85 in /home/soumik/miniconda3/envs/pyro_env/lib/python3.10/site-packages (from torch>=2.0->pyro-ppl) (12.6.85)\n",
      "Requirement already satisfied: nvidia-cufile-cu12==1.11.1.6 in /home/soumik/miniconda3/envs/pyro_env/lib/python3.10/site-packages (from torch>=2.0->pyro-ppl) (1.11.1.6)\n",
      "Requirement already satisfied: triton==3.3.1 in /home/soumik/miniconda3/envs/pyro_env/lib/python3.10/site-packages (from torch>=2.0->pyro-ppl) (3.3.1)\n",
      "Requirement already satisfied: setuptools>=40.8.0 in /home/soumik/miniconda3/envs/pyro_env/lib/python3.10/site-packages (from triton==3.3.1->torch>=2.0->pyro-ppl) (78.1.1)\n",
      "Requirement already satisfied: mpmath<1.4,>=1.1.0 in /home/soumik/miniconda3/envs/pyro_env/lib/python3.10/site-packages (from sympy>=1.13.3->torch>=2.0->pyro-ppl) (1.3.0)\n",
      "Requirement already satisfied: MarkupSafe>=2.0 in /home/soumik/miniconda3/envs/pyro_env/lib/python3.10/site-packages (from jinja2->torch>=2.0->pyro-ppl) (3.0.2)\n"
     ]
    }
   ],
   "source": [
    "!pip install pyro-ppl"
   ]
  },
  {
   "cell_type": "code",
   "execution_count": 13,
   "id": "c200df3d",
   "metadata": {},
   "outputs": [],
   "source": [
    "import pyro\n",
    "import pyro.distributions as dist\n",
    "from pyro.nn import PyroModule, PyroSample\n",
    "import torch.nn as nn\n",
    "\n",
    "from pyro.infer import MCMC, NUTS, Predictive"
   ]
  },
  {
   "cell_type": "code",
   "execution_count": 14,
   "id": "43e7d0ae",
   "metadata": {},
   "outputs": [],
   "source": [
    "# Real Observations\n",
    "\n",
    "t_obs = torch.linspace(0., 5., 50).unsqueeze(-1)          # 50 × 1\n",
    "u_true = 0.5*t_obs**2 + t_obs\n",
    "noise = 0.1\n",
    "u_obs = u_true + noise * torch.randn_like(u_true)     # 50 X 1\n",
    "u_obs = u_obs.squeeze()\n",
    "\n",
    "\n",
    "# Collocation Points\n",
    "t_f = torch.linspace(0., 5., 70).unsqueeze(-1).requires_grad_(True)\n",
    "\n",
    "# initial condition point\n",
    "t_ic = torch.tensor([[0.0]])"
   ]
  },
  {
   "cell_type": "code",
   "execution_count": 15,
   "id": "95a496de",
   "metadata": {},
   "outputs": [],
   "source": [
    "class PhyBNN(PyroModule):\n",
    "    def __init__(self, in_dim=1, out_dim=1, hid_dim=50, prior_scale=10.):\n",
    "        super().__init__()\n",
    "\n",
    "        self.activation = nn.Tanh()  \n",
    "        self.layer1 = PyroModule[nn.Linear](in_dim, hid_dim)  # Input to hidden layer\n",
    "        self.layer2 = PyroModule[nn.Linear](hid_dim, hid_dim)\n",
    "        self.layer3 = PyroModule[nn.Linear](hid_dim, out_dim)  # Hidden to output layer\n",
    "\n",
    "        # Set layer parameters as random variables\n",
    "        self.layer1.weight = PyroSample(dist.Normal(0., prior_scale).expand([hid_dim, in_dim]).to_event(2))\n",
    "        self.layer1.bias = PyroSample(dist.Normal(0., prior_scale).expand([hid_dim]).to_event(1))\n",
    "        self.layer2.weight = PyroSample(dist.Normal(0., prior_scale).expand([hid_dim, hid_dim]).to_event(2))\n",
    "        self.layer2.bias = PyroSample(dist.Normal(0., prior_scale).expand([hid_dim]).to_event(1))\n",
    "        self.layer3.weight = PyroSample(dist.Normal(0., prior_scale).expand([out_dim, hid_dim]).to_event(2))\n",
    "        self.layer3.bias = PyroSample(dist.Normal(0., prior_scale).expand([out_dim]).to_event(1))\n",
    "\n",
    "    \n",
    "    def neural_net(self,t):\n",
    "        h_1 = self.activation(self.layer1(t))\n",
    "        h_2 = self.activation(self.layer2(h_1))\n",
    "        return self.layer3(h_2).squeeze(-1)\n",
    "    \n",
    "\n",
    "    def forward(self,t_f = None,t_ic = None):\n",
    "        #t_f = t_f.requires_grad_(True)\n",
    "        # u_pred_obs = self.neural_net(t_obs)\n",
    "        # u_ic = self.neural_net(t_ic)\n",
    "        # u_f = self.neural_net(t_f)\n",
    "\n",
    "        # du_dt = autograd.grad(u_f,t_f,grad_outputs=torch.ones_like(u_f),create_graph=True)[0].squeeze(-1)\n",
    "        # res_pde =  du_dt - t_f.squeeze(-1)\n",
    "\n",
    "        # res_ic = u_ic - 0.0\n",
    "        \n",
    "\n",
    "    # def forward(self, t_obs, u_obs=None):\n",
    "    #     t = t_obs.reshape(-1, 1)\n",
    "    #     h_1 = self.activation(self.layer1(t))\n",
    "    #     h_2 = self.activation(self.layer2(h_1))\n",
    "    #     u_pred_obs = self.layer3(h_2).squeeze()\n",
    "\n",
    "        sigma = pyro.sample(\"sigma\", dist.Gamma(.5, 1))  # Infer the response noise\n",
    "        \n",
    "    \n",
    "\n",
    "        # if u_obs is not None:\n",
    "        #     with pyro.plate(\"data\", t_obs.shape[0]):\n",
    "        #         pyro.sample(\"obs\", dist.Normal(u_pred_obs, sigma * sigma), obs=u_obs)\n",
    "\n",
    "        if t_f is not None:\n",
    "            t_f = t_f.requires_grad_(True)\n",
    "            u_pred_f = self.neural_net(t_f).squeeze(-1)\n",
    "            du_dt = autograd.grad(u_pred_f,t_f,grad_outputs=torch.ones_like(u_pred_f),create_graph=True)[0].squeeze(-1)\n",
    "            res_pde =  du_dt - t_f.squeeze(-1)\n",
    "            with pyro.plate(\"physics\",t_f.shape[0]):\n",
    "                pyro.sample(\"pde\", dist.Normal(res_pde, sigma * sigma), obs=torch.zeros_like(res_pde))\n",
    "\n",
    "        if t_ic is not None:\n",
    "            u_pred_ic = self.neural_net(t_ic).squeeze(-1)\n",
    "            res_ic = u_pred_ic - 0.0\n",
    "            with pyro.plate(\"initial\",t_ic.shape[0]):\n",
    "                pyro.sample(\"ic\", dist.Normal(res_ic, sigma * sigma), obs=torch.zeros_like(res_ic))\n",
    "\n",
    "\n",
    "\n",
    "\n",
    "    #     # Data Likelihood\n",
    "        # with pyro.plate(\"data\", t_obs.shape[0]):\n",
    "        #     pyro.sample(\"obs\", dist.Normal(u_pred_obs, sigma * sigma), obs=u_obs)\n",
    "        #       #obs = pyro.sample(\"obs\", dist.Normal(u_pred_obs, sigma * sigma), obs=u_obs)\n",
    "\n",
    "        # IC Likelihood\n",
    "        # with pyro.plate(\"initial\",t_ic.shape[0]):\n",
    "        #     pyro.sample(\"ic\", dist.Normal(res_ic, sigma * sigma), obs=torch.zeros_like(res_ic))\n",
    "\n",
    "        # PDE Likelihood\n",
    "        # with pyro.plate(\"physics\",t_f.shape[0]):\n",
    "        #     pyro.sample(\"pde\", dist.Normal(res_pde, sigma * sigma), obs=torch.zeros_like(res_pde))\n",
    "\n",
    "\n",
    "        #return u_pred_f if t_f is not None else u_pred_obs\n",
    "\n",
    "        if t_f is not None:\n",
    "            return u_pred_f\n",
    "        if t_ic is not None:\n",
    "            return u_pred_ic\n",
    "        return None"
   ]
  },
  {
   "cell_type": "code",
   "execution_count": 16,
   "id": "4f5d4463",
   "metadata": {},
   "outputs": [
    {
     "name": "stderr",
     "output_type": "stream",
     "text": [
      "Sample: 100%|██████████| 150/150 [02:38,  1.05s/it, step size=6.73e-04, acc. prob=0.382]\n"
     ]
    }
   ],
   "source": [
    "model_phy = PhyBNN()\n",
    "\n",
    "pyro.set_rng_seed(42)\n",
    "\n",
    "nuts_kernel = NUTS(model_phy, jit_compile=False)\n",
    "mcmc = MCMC(nuts_kernel, num_samples=100, warmup_steps=50, num_chains=1)\n",
    "\n",
    "with torch.enable_grad():\n",
    "    mcmc.run(t_f, t_ic)\n",
    "\n",
    "\n",
    "\n",
    "#mcmc.run(t_obs,u_obs,t_f, t_ic)\n",
    "\n",
    "posterior_samples = mcmc.get_samples()"
   ]
  },
  {
   "cell_type": "code",
   "execution_count": 17,
   "id": "d4be2635",
   "metadata": {},
   "outputs": [
    {
     "name": "stdout",
     "output_type": "stream",
     "text": [
      "layer1.bias torch.Size([100, 50])\n",
      "layer1.weight torch.Size([100, 50, 1])\n",
      "layer2.bias torch.Size([100, 50])\n",
      "layer2.weight torch.Size([100, 50, 50])\n",
      "layer3.bias torch.Size([100, 1])\n",
      "layer3.weight torch.Size([100, 1, 50])\n",
      "sigma torch.Size([100])\n"
     ]
    }
   ],
   "source": [
    "for name, vals in posterior_samples.items():\n",
    "    print(name, vals.shape)"
   ]
  },
  {
   "cell_type": "code",
   "execution_count": 21,
   "id": "f9c5858a",
   "metadata": {},
   "outputs": [
    {
     "name": "stdout",
     "output_type": "stream",
     "text": [
      "torch.Size([50, 1])\n",
      "torch.Size([50])\n"
     ]
    }
   ],
   "source": [
    "# Stage 2: Condition on data, starting from the physics‐informed posterior\n",
    "\n",
    "\n",
    "mean_w1 = posterior_samples[\"layer1.weight\"].mean(0)\n",
    "std_w1  = posterior_samples[\"layer1.weight\"].std(0)\n",
    "\n",
    "print(mean_w1.shape)\n",
    "\n",
    "mean_b1 = posterior_samples[\"layer1.bias\"].mean(0)\n",
    "std_b1 = posterior_samples[\"layer1.bias\"].std(0)\n",
    "\n",
    "print(mean_b1.shape)\n",
    "\n",
    "\n",
    "\n",
    "\n",
    "\n",
    "mean_w2 = posterior_samples[\"layer2.weight\"].mean(0)\n",
    "std_w2  = posterior_samples[\"layer2.weight\"].std(0)\n",
    "\n",
    "mean_b2 = posterior_samples[\"layer2.bias\"].mean(0)\n",
    "std_b2 = posterior_samples[\"layer2.bias\"].std(0)\n",
    "\n",
    "\n",
    "\n",
    "\n",
    "\n",
    "mean_w3 = posterior_samples[\"layer3.weight\"].mean(0)\n",
    "std_w3  = posterior_samples[\"layer3.weight\"].std(0)\n",
    "\n",
    "mean_b3 = posterior_samples[\"layer3.bias\"].mean(0)\n",
    "std_b3 = posterior_samples[\"layer3.bias\"].std(0)"
   ]
  },
  {
   "cell_type": "code",
   "execution_count": null,
   "id": "336e3f2c",
   "metadata": {},
   "outputs": [],
   "source": []
  }
 ],
 "metadata": {
  "kernelspec": {
   "display_name": "pyro_env",
   "language": "python",
   "name": "python3"
  },
  "language_info": {
   "codemirror_mode": {
    "name": "ipython",
    "version": 3
   },
   "file_extension": ".py",
   "mimetype": "text/x-python",
   "name": "python",
   "nbconvert_exporter": "python",
   "pygments_lexer": "ipython3",
   "version": "3.10.18"
  }
 },
 "nbformat": 4,
 "nbformat_minor": 5
}
