{
 "cells": [
  {
   "cell_type": "code",
   "execution_count": 1,
   "id": "28a5e599",
   "metadata": {},
   "outputs": [
    {
     "data": {
      "text/plain": [
       "<torch._C.Generator at 0x7f0a241320f0>"
      ]
     },
     "execution_count": 1,
     "metadata": {},
     "output_type": "execute_result"
    }
   ],
   "source": [
    "import torch\n",
    "import torch.autograd as autograd\n",
    "import numpy as np\n",
    "import matplotlib.pyplot as plt\n",
    "\n",
    "# Set random seed for reproducibility\n",
    "np.random.seed(42)\n",
    "torch.manual_seed(42)"
   ]
  },
  {
   "cell_type": "code",
   "execution_count": 2,
   "id": "ac3e6926",
   "metadata": {},
   "outputs": [
    {
     "name": "stdout",
     "output_type": "stream",
     "text": [
      "Requirement already satisfied: pyro-ppl in /home/soumik/.local/lib/python3.10/site-packages (1.9.1)\n",
      "Requirement already satisfied: numpy>=1.7 in /home/soumik/.local/lib/python3.10/site-packages (from pyro-ppl) (2.2.6)\n",
      "Requirement already satisfied: opt-einsum>=2.3.2 in /home/soumik/miniconda3/envs/pyro_env/lib/python3.10/site-packages (from pyro-ppl) (3.4.0)\n",
      "Requirement already satisfied: pyro-api>=0.1.1 in /home/soumik/.local/lib/python3.10/site-packages (from pyro-ppl) (0.1.2)\n",
      "Requirement already satisfied: torch>=2.0 in /home/soumik/miniconda3/envs/pyro_env/lib/python3.10/site-packages (from pyro-ppl) (2.7.1)\n",
      "Requirement already satisfied: tqdm>=4.36 in /home/soumik/.local/lib/python3.10/site-packages (from pyro-ppl) (4.67.1)\n",
      "Requirement already satisfied: filelock in /home/soumik/miniconda3/envs/pyro_env/lib/python3.10/site-packages (from torch>=2.0->pyro-ppl) (3.18.0)\n",
      "Requirement already satisfied: typing-extensions>=4.10.0 in /home/soumik/miniconda3/envs/pyro_env/lib/python3.10/site-packages (from torch>=2.0->pyro-ppl) (4.14.0)\n",
      "Requirement already satisfied: sympy>=1.13.3 in /home/soumik/miniconda3/envs/pyro_env/lib/python3.10/site-packages (from torch>=2.0->pyro-ppl) (1.14.0)\n",
      "Requirement already satisfied: networkx in /home/soumik/miniconda3/envs/pyro_env/lib/python3.10/site-packages (from torch>=2.0->pyro-ppl) (3.4.2)\n",
      "Requirement already satisfied: jinja2 in /home/soumik/miniconda3/envs/pyro_env/lib/python3.10/site-packages (from torch>=2.0->pyro-ppl) (3.1.6)\n",
      "Requirement already satisfied: fsspec in /home/soumik/miniconda3/envs/pyro_env/lib/python3.10/site-packages (from torch>=2.0->pyro-ppl) (2025.5.1)\n",
      "Requirement already satisfied: nvidia-cuda-nvrtc-cu12==12.6.77 in /home/soumik/miniconda3/envs/pyro_env/lib/python3.10/site-packages (from torch>=2.0->pyro-ppl) (12.6.77)\n",
      "Requirement already satisfied: nvidia-cuda-runtime-cu12==12.6.77 in /home/soumik/miniconda3/envs/pyro_env/lib/python3.10/site-packages (from torch>=2.0->pyro-ppl) (12.6.77)\n",
      "Requirement already satisfied: nvidia-cuda-cupti-cu12==12.6.80 in /home/soumik/miniconda3/envs/pyro_env/lib/python3.10/site-packages (from torch>=2.0->pyro-ppl) (12.6.80)\n",
      "Requirement already satisfied: nvidia-cudnn-cu12==9.5.1.17 in /home/soumik/miniconda3/envs/pyro_env/lib/python3.10/site-packages (from torch>=2.0->pyro-ppl) (9.5.1.17)\n",
      "Requirement already satisfied: nvidia-cublas-cu12==12.6.4.1 in /home/soumik/miniconda3/envs/pyro_env/lib/python3.10/site-packages (from torch>=2.0->pyro-ppl) (12.6.4.1)\n",
      "Requirement already satisfied: nvidia-cufft-cu12==11.3.0.4 in /home/soumik/miniconda3/envs/pyro_env/lib/python3.10/site-packages (from torch>=2.0->pyro-ppl) (11.3.0.4)\n",
      "Requirement already satisfied: nvidia-curand-cu12==10.3.7.77 in /home/soumik/miniconda3/envs/pyro_env/lib/python3.10/site-packages (from torch>=2.0->pyro-ppl) (10.3.7.77)\n",
      "Requirement already satisfied: nvidia-cusolver-cu12==11.7.1.2 in /home/soumik/miniconda3/envs/pyro_env/lib/python3.10/site-packages (from torch>=2.0->pyro-ppl) (11.7.1.2)\n",
      "Requirement already satisfied: nvidia-cusparse-cu12==12.5.4.2 in /home/soumik/miniconda3/envs/pyro_env/lib/python3.10/site-packages (from torch>=2.0->pyro-ppl) (12.5.4.2)\n",
      "Requirement already satisfied: nvidia-cusparselt-cu12==0.6.3 in /home/soumik/miniconda3/envs/pyro_env/lib/python3.10/site-packages (from torch>=2.0->pyro-ppl) (0.6.3)\n",
      "Requirement already satisfied: nvidia-nccl-cu12==2.26.2 in /home/soumik/miniconda3/envs/pyro_env/lib/python3.10/site-packages (from torch>=2.0->pyro-ppl) (2.26.2)\n",
      "Requirement already satisfied: nvidia-nvtx-cu12==12.6.77 in /home/soumik/miniconda3/envs/pyro_env/lib/python3.10/site-packages (from torch>=2.0->pyro-ppl) (12.6.77)\n",
      "Requirement already satisfied: nvidia-nvjitlink-cu12==12.6.85 in /home/soumik/miniconda3/envs/pyro_env/lib/python3.10/site-packages (from torch>=2.0->pyro-ppl) (12.6.85)\n",
      "Requirement already satisfied: nvidia-cufile-cu12==1.11.1.6 in /home/soumik/miniconda3/envs/pyro_env/lib/python3.10/site-packages (from torch>=2.0->pyro-ppl) (1.11.1.6)\n",
      "Requirement already satisfied: triton==3.3.1 in /home/soumik/miniconda3/envs/pyro_env/lib/python3.10/site-packages (from torch>=2.0->pyro-ppl) (3.3.1)\n",
      "Requirement already satisfied: setuptools>=40.8.0 in /home/soumik/miniconda3/envs/pyro_env/lib/python3.10/site-packages (from triton==3.3.1->torch>=2.0->pyro-ppl) (78.1.1)\n",
      "Requirement already satisfied: mpmath<1.4,>=1.1.0 in /home/soumik/miniconda3/envs/pyro_env/lib/python3.10/site-packages (from sympy>=1.13.3->torch>=2.0->pyro-ppl) (1.3.0)\n",
      "Requirement already satisfied: MarkupSafe>=2.0 in /home/soumik/miniconda3/envs/pyro_env/lib/python3.10/site-packages (from jinja2->torch>=2.0->pyro-ppl) (3.0.2)\n"
     ]
    }
   ],
   "source": [
    "!pip install pyro-ppl"
   ]
  },
  {
   "cell_type": "code",
   "execution_count": 4,
   "id": "47675f94",
   "metadata": {},
   "outputs": [],
   "source": [
    "import pyro\n",
    "import pyro.distributions as dist\n",
    "from pyro.nn import PyroModule, PyroSample\n",
    "import torch.nn as nn\n",
    "\n",
    "from pyro.infer import MCMC, NUTS, Predictive\n",
    "\n",
    "\n",
    "pyro.set_rng_seed(42)"
   ]
  },
  {
   "cell_type": "code",
   "execution_count": 86,
   "id": "f2a08c3c",
   "metadata": {},
   "outputs": [],
   "source": [
    "# Real Observations\n",
    "\n",
    "t_obs = torch.linspace(0., 8., 1500).unsqueeze(-1)          # 1500 × 1\n",
    "u_true = 0.5*t_obs**2 + t_obs\n",
    "noise = 0.1\n",
    "u_obs = u_true + noise * torch.randn_like(u_true)     # 1500 X 1\n",
    "# u_obs = u_obs.squeeze()       # 1500,\n",
    "\n",
    "\n",
    "# Collocation Points\n",
    "t_pde = torch.linspace(0., 8., 1000).unsqueeze(-1).requires_grad_(True)\n",
    "\n",
    "# initial condition point\n",
    "t_ic = torch.tensor([[0.0]])"
   ]
  },
  {
   "cell_type": "code",
   "execution_count": 87,
   "id": "c6cf3ebf",
   "metadata": {},
   "outputs": [],
   "source": [
    "class PhyBNN(PyroModule):\n",
    "    def __init__(self, in_dim=1, out_dim=1, hid_dim=20):\n",
    "        super().__init__()\n",
    "\n",
    "        self.activation = nn.Tanh()  \n",
    "        self.layer1 = PyroModule[nn.Linear](in_dim, hid_dim)  # Input to hidden layer\n",
    "        self.layer2 = PyroModule[nn.Linear](hid_dim, hid_dim)\n",
    "        self.layer3 = PyroModule[nn.Linear](hid_dim, out_dim)  # Hidden to output layer\n",
    "\n",
    "        # Set layer parameters as random variables\n",
    "        self.layer1.weight = PyroSample(dist.Normal(0., 1.).expand([hid_dim, in_dim]).to_event(2))\n",
    "        self.layer1.bias = PyroSample(dist.Normal(0., 10.).expand([hid_dim]).to_event(1))\n",
    "        self.layer2.weight = PyroSample(dist.Normal(0., 1.).expand([hid_dim, hid_dim]).to_event(2))\n",
    "        self.layer2.bias = PyroSample(dist.Normal(0., 10.).expand([hid_dim]).to_event(1))\n",
    "        self.layer3.weight = PyroSample(dist.Normal(0., 1.).expand([out_dim, hid_dim]).to_event(2))\n",
    "        self.layer3.bias = PyroSample(dist.Normal(0., 10.).expand([out_dim]).to_event(1))\n",
    "\n",
    "    def forward(self,t):\n",
    "        h_1 = self.activation(self.layer1(t))\n",
    "        h_2 = self.activation(self.layer2(h_1))\n",
    "        return self.layer3(h_2).squeeze(-1)\n",
    "    \n"
   ]
  },
  {
   "cell_type": "code",
   "execution_count": 89,
   "id": "6fd2445f",
   "metadata": {},
   "outputs": [],
   "source": [
    "def model_pinn(t_pde, t_ic):\n",
    "    \n",
    "    net = PhyBNN()\n",
    "\n",
    "    # t_pde = t_pde.detach().requires_grad_(True)\n",
    "    t_pde = t_pde.requires_grad_()\n",
    "    t_ic  = t_ic.requires_grad_()\n",
    "\n",
    "    t_all = torch.cat([t_pde, t_ic], dim=0).requires_grad_()\n",
    "    \n",
    "    u_all = net(t_all)\n",
    "    u_pde, u_ic = u_all[: len(t_pde)], u_all[len(t_pde) :]\n",
    "\n",
    "    # print(u_pde)\n",
    "    \n",
    "    n_pde = t_pde.shape[0]\n",
    "    \n",
    "    #PDE\n",
    "    # u_pred_pde = net(t_pde)\n",
    "    du_dt_all = torch.autograd.grad(u_all,t_all,grad_outputs=torch.ones_like(u_all), create_graph=True)[0]\n",
    "    du_dt = du_dt_all[:n_pde]\n",
    "    res_pde = du_dt - t_all[:n_pde]\n",
    "    #IC\n",
    "    # u_pred_ic = net(t_ic)\n",
    "    res_ic = u_ic\n",
    "\n",
    "    # Likelihoods\n",
    "    with pyro.plate('pde_plate',len(t_pde)):\n",
    "        pyro.sample('pde_obs', dist.Normal(0.,1e-1), obs = res_pde.squeeze())\n",
    "    with pyro.plate('ic_plate',len(t_ic)):\n",
    "        pyro.sample('ic_obs', dist.Normal(0.,1e-1), obs = res_ic.squeeze())\n",
    "\n",
    "\n",
    "    \n",
    "\n"
   ]
  },
  {
   "cell_type": "code",
   "execution_count": 90,
   "id": "1ee7335d",
   "metadata": {},
   "outputs": [
    {
     "name": "stderr",
     "output_type": "stream",
     "text": [
      "Sample: 100%|██████████| 500/500 [16:24,  1.97s/it, step size=8.81e-04, acc. prob=0.674]\n"
     ]
    }
   ],
   "source": [
    "pyro.clear_param_store()\n",
    "nuts_kernel = NUTS(model_pinn, adapt_step_size=True)\n",
    "mcmc = MCMC(nuts_kernel, num_samples=400, warmup_steps=100, num_chains=1)\n",
    "mcmc.run(t_pde,t_ic)\n",
    "\n",
    "\n",
    "\n"
   ]
  },
  {
   "cell_type": "code",
   "execution_count": 91,
   "id": "24e0bd74",
   "metadata": {},
   "outputs": [
    {
     "name": "stdout",
     "output_type": "stream",
     "text": [
      "layer1.bias torch.Size([400, 20])\n",
      "layer1.weight torch.Size([400, 20, 1])\n",
      "layer2.bias torch.Size([400, 20])\n",
      "layer2.weight torch.Size([400, 20, 20])\n",
      "layer3.bias torch.Size([400, 1])\n",
      "layer3.weight torch.Size([400, 1, 20])\n"
     ]
    }
   ],
   "source": [
    "posterior_samples = mcmc.get_samples()\n",
    "\n",
    "for name, vals in posterior_samples.items():\n",
    "    print(name, vals.shape)"
   ]
  },
  {
   "cell_type": "code",
   "execution_count": 92,
   "id": "e48d17d4",
   "metadata": {},
   "outputs": [],
   "source": [
    "def model_pinn_return(t_pde,t_ic):\n",
    "    net = PhyBNN()\n",
    "    return net(t_pde)"
   ]
  },
  {
   "cell_type": "code",
   "execution_count": 107,
   "id": "46925019",
   "metadata": {},
   "outputs": [
    {
     "name": "stdout",
     "output_type": "stream",
     "text": [
      "dict_keys(['_RETURN'])\n",
      "torch.Size([400, 1000])\n",
      "0.27535831928253174\n"
     ]
    }
   ],
   "source": [
    "t_test = torch.linspace(0., 8., steps=1000).unsqueeze(-1)\n",
    "\n",
    "\n",
    "predictive = Predictive(model_pinn_return,posterior_samples=posterior_samples,return_sites=[\"_RETURN\"])\n",
    "\n",
    "output = predictive(t_test, t_ic)\n",
    "print(output.keys())\n",
    "\n",
    "u_pred_samples = output[\"_RETURN\"]   # shape [S, N]\n",
    "print(u_pred_samples.shape)\n",
    "\n",
    "u_pred_samples = output[\"_RETURN\"]    # shape [num_samples, len(t_test)]\n",
    "\n",
    "mean_pred = u_pred_samples.mean(0)\n",
    "std_pred = u_pred_samples.std(dim=0)\n",
    "lower_90  = u_pred_samples.quantile(0.10, dim=0)\n",
    "upper_90  = u_pred_samples.quantile(0.90, dim=0)\n",
    "\n",
    "print((upper_90 - lower_90).mean().item())"
   ]
  },
  {
   "cell_type": "code",
   "execution_count": 108,
   "id": "486e4183",
   "metadata": {},
   "outputs": [
    {
     "data": {
      "image/png": "[encoded data removed]",
      "text/plain": [
       "<Figure size 640x480 with 1 Axes>"
      ]
     },
     "metadata": {},
     "output_type": "display_data"
    }
   ],
   "source": [
    "x = t_test.squeeze().numpy()\n",
    "plt.plot(x, mean_pred, label=\"Posterior mean\")\n",
    "plt.fill_between(x, lower_90, upper_90, alpha=0.3, label=\"90% CI\")\n",
    "# plt.fill_between(x, mean_pred - 2*std_pred, mean_pred + 2*std_pred, alpha=0.3, label=\"±2 std\")\n",
    "plt.scatter(t_obs.numpy(), u_obs.numpy(), c=\"k\", s=10, label=\"Noisy data\")\n",
    "plt.legend()\n",
    "plt.xlabel(\"t\"); plt.ylabel(\"u(t)\")\n",
    "plt.show()"
   ]
  },
  {
   "cell_type": "code",
   "execution_count": 109,
   "id": "53724095",
   "metadata": {},
   "outputs": [
    {
     "name": "stdout",
     "output_type": "stream",
     "text": [
      "torch.Size([20, 1])\n",
      "torch.Size([20])\n",
      "torch.Size([20, 20])\n",
      "torch.Size([20])\n",
      "torch.Size([1, 20])\n",
      "torch.Size([1])\n"
     ]
    }
   ],
   "source": [
    "# Stage 2: Condition on data, starting from the physics‐informed posterior\n",
    "\n",
    "\n",
    "mean_w1 = posterior_samples[\"layer1.weight\"].mean(0)\n",
    "std_w1  = posterior_samples[\"layer1.weight\"].std(0)\n",
    "\n",
    "print(mean_w1.shape)\n",
    "\n",
    "mean_b1 = posterior_samples[\"layer1.bias\"].mean(0)\n",
    "std_b1 = posterior_samples[\"layer1.bias\"].std(0)\n",
    "\n",
    "print(mean_b1.shape)\n",
    "\n",
    "\n",
    "\n",
    "\n",
    "\n",
    "mean_w2 = posterior_samples[\"layer2.weight\"].mean(0)\n",
    "std_w2  = posterior_samples[\"layer2.weight\"].std(0)\n",
    "\n",
    "mean_b2 = posterior_samples[\"layer2.bias\"].mean(0)\n",
    "std_b2 = posterior_samples[\"layer2.bias\"].std(0)\n",
    "\n",
    "\n",
    "print(mean_w2.shape)\n",
    "print(mean_b2.shape)\n",
    "\n",
    "\n",
    "\n",
    "mean_w3 = posterior_samples[\"layer3.weight\"].mean(0)\n",
    "std_w3  = posterior_samples[\"layer3.weight\"].std(0)\n",
    "\n",
    "mean_b3 = posterior_samples[\"layer3.bias\"].mean(0)\n",
    "std_b3 = posterior_samples[\"layer3.bias\"].std(0)\n",
    "\n",
    "print(mean_w3.shape)\n",
    "print(mean_b3.shape)\n"
   ]
  },
  {
   "cell_type": "code",
   "execution_count": 110,
   "id": "185192bf",
   "metadata": {},
   "outputs": [],
   "source": [
    "class PhyDataBNN(PyroModule):\n",
    "    def __init__(self, in_dim=1, out_dim=1, hid_dim=20):\n",
    "        super().__init__()\n",
    "\n",
    "        self.activation = nn.Tanh()  \n",
    "        self.layer1 = PyroModule[nn.Linear](in_dim, hid_dim)  # Input to hidden layer\n",
    "        self.layer2 = PyroModule[nn.Linear](hid_dim, hid_dim)\n",
    "        self.layer3 = PyroModule[nn.Linear](hid_dim, out_dim)  # Hidden to output layer\n",
    "\n",
    "        # Set layer parameters as random variables\n",
    "        self.layer1.weight = PyroSample(dist.Normal(mean_w1, std_w1).expand([hid_dim, in_dim]).to_event(2))\n",
    "        self.layer1.bias = PyroSample(dist.Normal(mean_b1, std_b1).expand([hid_dim]).to_event(1))\n",
    "        self.layer2.weight = PyroSample(dist.Normal(mean_w2, std_w2).expand([hid_dim, hid_dim]).to_event(2))\n",
    "        self.layer2.bias = PyroSample(dist.Normal(mean_b2, std_b2).expand([hid_dim]).to_event(1))\n",
    "        self.layer3.weight = PyroSample(dist.Normal(mean_w3, std_w3).expand([out_dim, hid_dim]).to_event(2))\n",
    "        self.layer3.bias = PyroSample(dist.Normal(mean_b3, std_b3).expand([out_dim]).to_event(1))\n",
    "\n",
    "    def forward(self,t):\n",
    "        h_1 = self.activation(self.layer1(t))\n",
    "        h_2 = self.activation(self.layer2(h_1))\n",
    "        return self.layer3(h_2).squeeze(-1)\n",
    "    \n"
   ]
  },
  {
   "cell_type": "code",
   "execution_count": 111,
   "id": "1020a9d3",
   "metadata": {},
   "outputs": [],
   "source": [
    "def model_pinn_data(t_pde, t_ic,t_obs):\n",
    "    \n",
    "    net_2 = PhyDataBNN()\n",
    "\n",
    "    # t_pde = t_pde.detach().requires_grad_(True)\n",
    "    t_pde = t_pde.requires_grad_()\n",
    "    t_ic  = t_ic.requires_grad_()\n",
    "    t_obs = t_obs.requires_grad_()\n",
    "\n",
    "    t_all_2 = torch.cat([t_pde, t_ic,t_obs], dim=0).requires_grad_()\n",
    "    \n",
    "    u_all_2 = net_2(t_all_2)\n",
    "    u_pde, u_ic,u_pred_data = u_all_2[: len(t_pde)], u_all_2[len(t_pde) : len(t_pde) + len(t_ic)], u_all_2[len(t_pde) + len(t_ic):]\n",
    "    n_pde = t_pde.shape[0]\n",
    "    \n",
    "    #PDE\n",
    "    # u_pred_pde = net(t_pde)\n",
    "    du_dt_all = torch.autograd.grad(u_all_2,t_all_2,grad_outputs=torch.ones_like(u_all_2), create_graph=True)[0]\n",
    "    du_dt = du_dt_all[:n_pde]\n",
    "    res_pde = du_dt - t_all_2[:n_pde]\n",
    "    #IC\n",
    "    # u_pred_ic = net(t_ic)\n",
    "    res_ic = u_ic\n",
    "\n",
    "    # u_data_pred = net_2(t_obs)\n",
    "\n",
    "    # Likelihoods\n",
    "    with pyro.plate('pde_plate',len(t_pde)):\n",
    "        pyro.sample('pde_obs', dist.Normal(0.,1e-1), obs = res_pde.squeeze())\n",
    "    with pyro.plate('ic_plate',len(t_ic)):\n",
    "        pyro.sample('ic_obs', dist.Normal(0.,1e-1), obs = res_ic.squeeze())\n",
    "    with pyro.plate('data',len(t_obs)):\n",
    "        pyro.sample('obs', dist.Normal(u_pred_data,1e-1), obs = u_obs)\n",
    "    \n",
    "\n"
   ]
  },
  {
   "cell_type": "code",
   "execution_count": 112,
   "id": "df10eecb",
   "metadata": {},
   "outputs": [
    {
     "name": "stderr",
     "output_type": "stream",
     "text": [
      "Sample: 100%|██████████| 500/500 [00:20, 24.47it/s, step size=1.53e-06, acc. prob=0.508]\n"
     ]
    }
   ],
   "source": [
    "pyro.clear_param_store()\n",
    "nuts_kernel_2 = NUTS(model_pinn_data, adapt_step_size=True)\n",
    "mcmc_2 = MCMC(nuts_kernel_2, num_samples=400, warmup_steps=100, num_chains=1)\n",
    "mcmc_2.run(t_pde,t_ic,t_obs)"
   ]
  },
  {
   "cell_type": "code",
   "execution_count": 113,
   "id": "eed26fc9",
   "metadata": {},
   "outputs": [
    {
     "name": "stdout",
     "output_type": "stream",
     "text": [
      "layer1.bias torch.Size([400, 20])\n",
      "layer1.weight torch.Size([400, 20, 1])\n",
      "layer2.bias torch.Size([400, 20])\n",
      "layer2.weight torch.Size([400, 20, 20])\n",
      "layer3.bias torch.Size([400, 1])\n",
      "layer3.weight torch.Size([400, 1, 20])\n"
     ]
    }
   ],
   "source": [
    "posterior_samples_2 = mcmc_2.get_samples()\n",
    "\n",
    "for name, vals in posterior_samples_2.items():\n",
    "    print(name, vals.shape)"
   ]
  },
  {
   "cell_type": "code",
   "execution_count": 114,
   "id": "30aaea00",
   "metadata": {},
   "outputs": [],
   "source": [
    "def model_pinn_data_return(t_pde,t_ic,t_obs):\n",
    "    net_2 = PhyDataBNN()\n",
    "    return net_2(t_pde)"
   ]
  },
  {
   "cell_type": "code",
   "execution_count": 115,
   "id": "b2a0d244",
   "metadata": {},
   "outputs": [
    {
     "name": "stdout",
     "output_type": "stream",
     "text": [
      "dict_keys(['_RETURN'])\n",
      "torch.Size([400, 1000])\n",
      "3.623962356869015e-06\n"
     ]
    }
   ],
   "source": [
    "t_test = torch.linspace(0., 8., steps=1000).unsqueeze(-1)\n",
    "\n",
    "\n",
    "predictive_2 = Predictive(model_pinn_data_return,posterior_samples=posterior_samples_2,return_sites=[\"_RETURN\"])\n",
    "\n",
    "output_2 = predictive_2(t_test, t_ic,t_obs)\n",
    "print(output_2.keys())\n",
    "\n",
    "u_pred_samples_2 = output_2[\"_RETURN\"]    # shape [num_samples, len(t_test)]\n",
    "print(u_pred_samples_2.shape)\n",
    "\n",
    "mean_pred_2 = u_pred_samples_2.mean(0)\n",
    "lower_90_2  = u_pred_samples_2.quantile(0.10, dim=0)\n",
    "upper_90_2  = u_pred_samples_2.quantile(0.90, dim=0)\n",
    "\n",
    "\n",
    "print((upper_90_2 - lower_90_2).mean().item())"
   ]
  },
  {
   "cell_type": "code",
   "execution_count": null,
   "id": "5b072bde",
   "metadata": {},
   "outputs": [
    {
     "data": {
      "image/png": "[encoded data removed]",
      "text/plain": [
       "<Figure size 640x480 with 1 Axes>"
      ]
     },
     "metadata": {},
     "output_type": "display_data"
    }
   ],
   "source": [
    "x = t_test.squeeze().numpy()\n",
    "plt.plot(x, mean_pred_2, label=\"Posterior mean with Data\")\n",
    "plt.fill_between(x, lower_90_2, upper_90_2, alpha=0.3, label=\"90% CI\")\n",
    "plt.scatter(t_obs.numpy(), u_obs.numpy(), c=\"k\", s=10, label=\"Noisy data\")\n",
    "plt.legend()\n",
    "plt.xlabel(\"t\"); plt.ylabel(\"u(t)\")\n",
    "plt.show()"
   ]
  }
 ],
 "metadata": {
  "kernelspec": {
   "display_name": "pyro_env",
   "language": "python",
   "name": "python3"
  },
  "language_info": {
   "codemirror_mode": {
    "name": "ipython",
    "version": 3
   },
   "file_extension": ".py",
   "mimetype": "text/x-python",
   "name": "python",
   "nbconvert_exporter": "python",
   "pygments_lexer": "ipython3",
   "version": "3.10.18"
  }
 },
 "nbformat": 4,
 "nbformat_minor": 5
}
