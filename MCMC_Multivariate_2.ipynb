{
 "cells": [
  {
   "cell_type": "code",
   "execution_count": 1,
   "id": "0401168e",
   "metadata": {},
   "outputs": [],
   "source": [
    "import numpy as np\n",
    "import matplotlib.pyplot as plt\n",
    "from scipy.stats import multivariate_normal, norm"
   ]
  },
  {
   "cell_type": "code",
   "execution_count": 2,
   "id": "5d17ff23",
   "metadata": {},
   "outputs": [],
   "source": [
    "np.random.seed(42)\n",
    "\n",
    "mu_true = np.array([25,60])\n",
    "sigma_true = np.array([[4,8],[8,25]])\n",
    "\n",
    "n = 100\n",
    "\n",
    "data = np.random.multivariate_normal(mu_true, sigma_true, size = n)"
   ]
  },
  {
   "cell_type": "code",
   "execution_count": 7,
   "id": "44b6cfc4",
   "metadata": {},
   "outputs": [],
   "source": [
    "def log_posterior(mu, log_a, b, log_c):\n",
    "    try:\n",
    "        rv = multivariate_normal(mean = mu, cov = sigma)\n",
    "        log_likelihood = np.sum(rv.logpdf(data))\n",
    "    except:\n",
    "        return -np.inf\n",
    "\n",
    "    a = np.exp(log_a)\n",
    "    c = np.exp(log_c)\n",
    "\n",
    "    L = np.array([[a,0],[b,c]])\n",
    "\n",
    "    sigma = L @ L.T\n",
    "\n",
    "    log_prior_mu = np.sum(norm.logpdf(mu,loc = 0, scale = 10))\n",
    "    log_prior = norm.logpdf(log_a,0,1) + norm.logpdf(b,0,1) + norm.logpdf(log_c,0,1)\n",
    "\n",
    "    return log_likelihood + log_prior_mu + log_prior"
   ]
  },
  {
   "cell_type": "code",
   "execution_count": 4,
   "id": "0597f63c",
   "metadata": {},
   "outputs": [],
   "source": [
    "# Metropolis - Hastings Algorithm\n",
    "\n",
    "n_iter = 10000\n",
    "\n",
    "samples = np.zeros((n_iter, 5))\n",
    "\n",
    "mu_current = np.array([0,0])\n",
    "log_a_current = 0\n",
    "b_current = 0\n",
    "log_c_current = 0\n",
    "\n",
    "proposal_sd = np.array([0.5,0.5,0.1,0.3,0.1])\n",
    "\n",
    "for i in range(n_iter):\n",
    "    mu_proposed = mu_current + np.random.normal(0,proposal_sd[:2])\n",
    "    log_a_proposed = log_a_current + np.random.normal(0,proposal_sd[2])\n",
    "    b_proposed = b_current + np.random.normal(0,proposal_sd[3])\n",
    "    log_c_proposed = log_c_current + np.random.normal(0,proposal_sd[4])\n",
    "\n",
    "    log_r = log_posterior(mu_proposed,log_a_proposed,b_proposed,log_c_proposed) - log_posterior(mu_current,log_a_current,b_current,log_c_current)\n",
    "\n",
    "    if np.log(np.random.rand()) < log_r:\n",
    "        mu_current = mu_proposed\n",
    "        log_a_current = log_a_proposed\n",
    "        b_current = b_proposed\n",
    "        log_c_current = log_c_proposed\n",
    "\n",
    "    samples[i,0:2] = mu_current\n",
    "    samples[i,2] = log_a_current\n",
    "    samples[i,3] = b_current\n",
    "    samples[i,4] = log_c_current\n",
    "\n"
   ]
  },
  {
   "cell_type": "code",
   "execution_count": 5,
   "id": "c8dfadb7",
   "metadata": {},
   "outputs": [],
   "source": [
    "mu_samples = samples[:, 0:2]\n",
    "log_a_samples = samples[:, 2]\n",
    "b_samples = samples[:, 3]\n",
    "log_c_samples = samples[:, 4]\n",
    "\n",
    "a_samples = np.exp(log_a_samples)\n",
    "c_samples = np.exp(log_c_samples)\n",
    "\n",
    "\n",
    "Sigma_samples = np.array([\n",
    "    [[a**2 + b**2, b * c],\n",
    "     [b * c,       c**2]]\n",
    "    for a, b, c in zip(a_samples, b_samples, c_samples)\n",
    "])"
   ]
  },
  {
   "cell_type": "code",
   "execution_count": 6,
   "id": "8d0c24c1",
   "metadata": {},
   "outputs": [
    {
     "data": {
      "image/png": "[encoded data removed]",
      "text/plain": [
       "<Figure size 432x432 with 1 Axes>"
      ]
     },
     "metadata": {
      "needs_background": "light"
     },
     "output_type": "display_data"
    }
   ],
   "source": [
    "plt.figure(figsize=(6,6))\n",
    "plt.scatter(mu_samples[:, 0], mu_samples[:, 1], alpha=0.3, s=10, label=\"Posterior μ samples\")\n",
    "plt.plot(mu_true[0], mu_true[1], 'rx', label=\"True μ\", markersize=10)\n",
    "plt.xlabel(\"μ_T\")\n",
    "plt.ylabel(\"μ_H\")\n",
    "plt.title(\"Posterior Samples of μ (MCMC)\")\n",
    "plt.grid(True)\n",
    "plt.legend()\n",
    "plt.axis('equal')\n",
    "plt.show()"
   ]
  }
 ],
 "metadata": {
  "kernelspec": {
   "display_name": "Python 3",
   "language": "python",
   "name": "python3"
  },
  "language_info": {
   "codemirror_mode": {
    "name": "ipython",
    "version": 3
   },
   "file_extension": ".py",
   "mimetype": "text/x-python",
   "name": "python",
   "nbconvert_exporter": "python",
   "pygments_lexer": "ipython3",
   "version": "3.10.12"
  }
 },
 "nbformat": 4,
 "nbformat_minor": 5
}
