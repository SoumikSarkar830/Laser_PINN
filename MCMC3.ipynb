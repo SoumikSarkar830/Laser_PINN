{
 "cells": [
  {
   "cell_type": "code",
   "execution_count": 1,
   "id": "417a0ec2",
   "metadata": {},
   "outputs": [],
   "source": [
    "import numpy as np\n",
    "import matplotlib.pyplot as plt\n",
    "from scipy.stats import norm,invgamma"
   ]
  },
  {
   "cell_type": "code",
   "execution_count": 2,
   "id": "f9fafd5c",
   "metadata": {},
   "outputs": [],
   "source": [
    "np.random.seed(42)\n",
    "\n",
    "n = 40\n",
    "\n",
    "true_mu = 5\n",
    "true_sigma = 2\n",
    "\n",
    "data = np.random.normal(loc = true_mu, scale = true_sigma, size = n)\n",
    "\n",
    "mu_prior_mean = 0\n",
    "mu_prior_sd = 10\n",
    "a = 2\n",
    "b = 2\n",
    "\n",
    "def log_posterior(mu,sigma):\n",
    "    if sigma <=0:\n",
    "        return -np.inf\n",
    "    \n",
    "    log_likelihood = np.sum(norm.logpdf(data,loc = mu, scale = sigma))\n",
    "    log_prior_mu = norm.logpdf(mu, loc = mu_prior_mean, scale = mu_prior_sd)\n",
    "    log_prior_sigma = invgamma.logpdf(sigma**2, a = a, scale = b)\n",
    "\n",
    "    return log_likelihood + log_prior_mu + log_prior_sigma"
   ]
  },
  {
   "cell_type": "code",
   "execution_count": 5,
   "id": "2a145252",
   "metadata": {},
   "outputs": [],
   "source": [
    "# Metropolis-Hastings Algorithm\n",
    "\n",
    "mu_current = 0\n",
    "proposal_sd_mu = 0.5\n",
    "sigma_current = 1\n",
    "proposal_sd_sigma = 0.1\n",
    "\n",
    "samples_mu = []\n",
    "samples_sigma = []\n",
    "\n",
    "accepted = 0\n",
    "\n",
    "for i in range(10000):\n",
    "    mu_proposed = np.random.normal(mu_current,proposal_sd_mu)\n",
    "\n",
    "    log_sigma_proposed = np.log(sigma_current) + np.random.normal(0,proposal_sd_sigma)\n",
    "    sigma_proposed = np.exp(log_sigma_proposed)\n",
    "\n",
    "    log_r = log_posterior(mu_proposed,sigma_proposed) - log_posterior(mu_current, sigma_current)\n",
    "\n",
    "    if np.log(np.random.rand()) < log_r :\n",
    "        mu_current = mu_proposed\n",
    "        sigma_current = sigma_proposed\n",
    "        accepted += 1\n",
    "\n",
    "    samples_mu.append(mu_current)\n",
    "    samples_sigma.append(sigma_current)\n",
    "\n",
    "burn_in = 2000\n",
    "samples_mu = np.array(samples_mu[burn_in:])\n",
    "samples_sigma = np.array(samples_sigma[burn_in:])\n",
    "\n",
    "    \n",
    "   \n",
    "\n",
    "\n",
    "\n",
    "    "
   ]
  },
  {
   "cell_type": "code",
   "execution_count": 6,
   "id": "139785b2",
   "metadata": {},
   "outputs": [
    {
     "data": {
      "image/png": "[encoded data removed]",
      "text/plain": [
       "<Figure size 864x360 with 2 Axes>"
      ]
     },
     "metadata": {
      "needs_background": "light"
     },
     "output_type": "display_data"
    }
   ],
   "source": [
    "plt.figure(figsize=(12, 5))\n",
    "\n",
    "plt.subplot(1, 2, 1)\n",
    "plt.hist(samples_mu, bins=50, density=True, alpha=0.7)\n",
    "plt.axvline(np.mean(samples_mu), color='r', label='Posterior mean')\n",
    "plt.xlabel(r'$\\mu$')\n",
    "plt.title('Posterior of $\\mu$')\n",
    "plt.legend()\n",
    "\n",
    "plt.subplot(1, 2, 2)\n",
    "plt.hist(samples_sigma, bins=50, density=True, alpha=0.7)\n",
    "plt.axvline(np.mean(samples_sigma), color='r', label='Posterior mean')\n",
    "plt.xlabel(r'$\\sigma$')\n",
    "plt.title('Posterior of $\\sigma$')\n",
    "plt.legend()\n",
    "\n",
    "plt.tight_layout()\n",
    "plt.show()"
   ]
  }
 ],
 "metadata": {
  "kernelspec": {
   "display_name": "Python 3",
   "language": "python",
   "name": "python3"
  },
  "language_info": {
   "codemirror_mode": {
    "name": "ipython",
    "version": 3
   },
   "file_extension": ".py",
   "mimetype": "text/x-python",
   "name": "python",
   "nbconvert_exporter": "python",
   "pygments_lexer": "ipython3",
   "version": "3.10.12"
  }
 },
 "nbformat": 4,
 "nbformat_minor": 5
}
