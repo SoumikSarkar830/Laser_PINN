{
 "cells": [
  {
   "cell_type": "code",
   "execution_count": 1,
   "id": "417a0ec2",
   "metadata": {},
   "outputs": [],
   "source": [
    "import numpy as np\n",
    "import matplotlib.pyplot as plt\n",
    "from scipy.stats import norm,invgamma"
   ]
  },
  {
   "cell_type": "code",
   "execution_count": 2,
   "id": "f9fafd5c",
   "metadata": {},
   "outputs": [],
   "source": [
    "np.random.seed(42)\n",
    "\n",
    "n = 50\n",
    "\n",
    "true_mu = 5\n",
    "true_sigma = 2\n",
    "\n",
    "data = np.random.normal(loc = true_mu, scale = true_sigma, size = n)\n",
    "\n",
    "mu_prior_mean = 0\n",
    "mu_prior_sd = 10\n",
    "a = 2\n",
    "b = 2\n",
    "\n",
    "def log_posterior(mu,sigma):\n",
    "    if sigma <=0:\n",
    "        return -np.inf\n",
    "    \n",
    "    log_likelihood = np.sum(norm.logpdf(data,loc = true_mu, scale = true_sigma))\n",
    "    log_prior_mu = norm.logpdf(mu, loc = mu_prior_mean, scale = mu_prior_sd)\n",
    "    log_prior_sigma = invgamma.logpdf(sigma**2, a = a, scale = b)\n",
    "\n",
    "    return log_likelihood + log_prior_mu + log_prior_sigma"
   ]
  },
  {
   "cell_type": "code",
   "execution_count": 3,
   "id": "2a145252",
   "metadata": {},
   "outputs": [
    {
     "ename": "TypeError",
     "evalue": "'builtin_function_or_method' object is not subscriptable",
     "output_type": "error",
     "traceback": [
      "\u001b[0;31m---------------------------------------------------------------------------\u001b[0m",
      "\u001b[0;31mTypeError\u001b[0m                                 Traceback (most recent call last)",
      "\u001b[0;32m/tmp/ipykernel_1243173/1362456833.py\u001b[0m in \u001b[0;36m<module>\u001b[0;34m\u001b[0m\n\u001b[1;32m     24\u001b[0m         \u001b[0maccepted\u001b[0m \u001b[0;34m+=\u001b[0m \u001b[0;36m1\u001b[0m\u001b[0;34m\u001b[0m\u001b[0;34m\u001b[0m\u001b[0m\n\u001b[1;32m     25\u001b[0m \u001b[0;34m\u001b[0m\u001b[0m\n\u001b[0;32m---> 26\u001b[0;31m     \u001b[0msamples_mu\u001b[0m\u001b[0;34m.\u001b[0m\u001b[0mappend\u001b[0m\u001b[0;34m[\u001b[0m\u001b[0mmu_current\u001b[0m\u001b[0;34m]\u001b[0m\u001b[0;34m\u001b[0m\u001b[0;34m\u001b[0m\u001b[0m\n\u001b[0m\u001b[1;32m     27\u001b[0m     \u001b[0msamples_sigma\u001b[0m\u001b[0;34m.\u001b[0m\u001b[0mappend\u001b[0m\u001b[0;34m[\u001b[0m\u001b[0msigma_current\u001b[0m\u001b[0;34m]\u001b[0m\u001b[0;34m\u001b[0m\u001b[0;34m\u001b[0m\u001b[0m\n\u001b[1;32m     28\u001b[0m \u001b[0;34m\u001b[0m\u001b[0m\n",
      "\u001b[0;31mTypeError\u001b[0m: 'builtin_function_or_method' object is not subscriptable"
     ]
    }
   ],
   "source": [
    "# Metropolis-Hastings Algorithm\n",
    "\n",
    "mu_current = 0\n",
    "proposal_sd_mu = 0.5\n",
    "sigma_current = 1\n",
    "proposal_sd_sigma = 0.1\n",
    "\n",
    "samples_mu = []\n",
    "samples_sigma = []\n",
    "\n",
    "accepted = 0\n",
    "\n",
    "for i in range(10000):\n",
    "    mu_proposed = np.random.normal(mu_current,proposal_sd_mu)\n",
    "\n",
    "    log_sigma_proposed = np.log(sigma_current) + np.random.normal(0,proposal_sd_mu)\n",
    "    sigma_proposed = np.exp(log_sigma_proposed)\n",
    "\n",
    "    log_r = log_posterior(mu_proposed,sigma_proposed) - log_posterior(mu_current, sigma_current)\n",
    "\n",
    "    if np.log(np.random.rand()) < log_r :\n",
    "        mu_current = mu_proposed\n",
    "        sigma_current = sigma_proposed\n",
    "        accepted += 1\n",
    "\n",
    "    samples_mu.append[mu_current]\n",
    "    samples_sigma.append[sigma_current]\n",
    "\n",
    "burn_in = 2000\n",
    "samples_mu = np.array(samples_mu[burn_in:])\n",
    "samples_sigma = np.array(samples_sigma[burn_in:])"
   ]
  }
 ],
 "metadata": {
  "kernelspec": {
   "display_name": "Python 3",
   "language": "python",
   "name": "python3"
  },
  "language_info": {
   "codemirror_mode": {
    "name": "ipython",
    "version": 3
   },
   "file_extension": ".py",
   "mimetype": "text/x-python",
   "name": "python",
   "nbconvert_exporter": "python",
   "pygments_lexer": "ipython3",
   "version": "3.10.12"
  }
 },
 "nbformat": 4,
 "nbformat_minor": 5
}
