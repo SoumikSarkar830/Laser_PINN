{
 "cells": [
  {
   "cell_type": "code",
   "execution_count": 18,
   "id": "73f89f83",
   "metadata": {},
   "outputs": [],
   "source": [
    "import numpy as np\n",
    "import matplotlib.pyplot as plt\n",
    "\n",
    "from scipy.stats import norm"
   ]
  },
  {
   "cell_type": "code",
   "execution_count": 19,
   "id": "7be8838f",
   "metadata": {},
   "outputs": [],
   "source": [
    "np.random.seed(0)\n",
    "\n",
    "n = 50\n",
    "\n",
    "data = np.random.normal(loc = 5 ,scale = 1 , size = n)\n",
    "\n",
    "mu_0 = 0\n",
    "tau = 10\n",
    "\n",
    "def log_posterior(mu):\n",
    "    log_likelihood = np.sum(norm.logpdf(data, loc = 5, scale = 1))\n",
    "    log_prior = norm.logpdf(mu,loc = mu_0, scale = tau)\n",
    "\n",
    "    return log_likelihood + log_prior\n",
    "\n"
   ]
  },
  {
   "cell_type": "code",
   "execution_count": 20,
   "id": "048b9ef9",
   "metadata": {},
   "outputs": [],
   "source": [
    "# Metropolis-Hastings Algorithm\n",
    "\n",
    "mu_current = 0\n",
    "proposal_sd = 0.5\n",
    "samples = []\n",
    "accepted = 0\n",
    "\n",
    "for i in range(10000):\n",
    "    mu_proposed = np.random.normal(mu_current, proposal_sd)\n",
    "\n",
    "    log_r = log_posterior(mu_proposed) - log_posterior(mu_current)\n",
    "\n",
    "    if np.log(np.random.rand()) < log_r:\n",
    "        mu_current = mu_proposed\n",
    "        accepted += 1\n",
    "\n",
    "    samples.append(mu_current)\n",
    "\n",
    "samples = np.array(samples)\n",
    "\n",
    "\n",
    "burn_in = 1000\n",
    "samples = samples[burn_in:]\n"
   ]
  },
  {
   "cell_type": "code",
   "execution_count": 21,
   "id": "429b090f",
   "metadata": {},
   "outputs": [],
   "source": [
    "# Analytical PDF\n",
    "\n",
    "y_bar = np.mean(data)\n",
    "\n",
    "tau_n_sq = 1/((n/1**2)+(1/tau**2))\n",
    "mu_n = tau_n_sq * (((n*y_bar)/1**2) + (mu_0 / tau**2))\n",
    "\n",
    "tau_n = np.sqrt(tau_n_sq)\n",
    "\n",
    "x = np.linspace(mu_n - 4*tau_n, mu_n + 4*tau_n,200)\n",
    "posterior_pdf = norm.logpdf(x,loc = mu_n, scale = tau_n)"
   ]
  },
  {
   "cell_type": "code",
   "execution_count": 22,
   "id": "6b87c72b",
   "metadata": {},
   "outputs": [
    {
     "data": {
      "image/png": "[encoded data removed]",
      "text/plain": [
       "<Figure size 432x288 with 1 Axes>"
      ]
     },
     "metadata": {
      "needs_background": "light"
     },
     "output_type": "display_data"
    }
   ],
   "source": [
    "plt.hist(samples, bins = 50, density = True, alpha = 0.7, label = \"Sampled data\")\n",
    "plt.plot(x,posterior_pdf, 'r-', label = \"True PDF\")\n",
    "plt.axvline(np.mean(samples), color='k', linestyle='--', label='MCMC mean')\n",
    "plt.axvline(mu_n, color='r', linestyle='--', label='Analytical mean')\n",
    "plt.title(\"Posterior of $\\mu$ : MCMC vs Analytical\")\n",
    "plt.xlabel(\"$\\mu$\")\n",
    "plt.ylabel(\"Density\")\n",
    "plt.legend()\n",
    "plt.grid(True)\n",
    "plt.show()"
   ]
  }
 ],
 "metadata": {
  "kernelspec": {
   "display_name": "Python 3",
   "language": "python",
   "name": "python3"
  },
  "language_info": {
   "codemirror_mode": {
    "name": "ipython",
    "version": 3
   },
   "file_extension": ".py",
   "mimetype": "text/x-python",
   "name": "python",
   "nbconvert_exporter": "python",
   "pygments_lexer": "ipython3",
   "version": "3.10.12"
  }
 },
 "nbformat": 4,
 "nbformat_minor": 5
}
