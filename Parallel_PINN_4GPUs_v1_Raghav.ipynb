{
 "cells": [
  {
   "cell_type": "code",
   "execution_count": 1,
   "id": "3bb20dd9",
   "metadata": {},
   "outputs": [],
   "source": [
    "import torch\n",
    "import torch.nn as nn\n",
    "import torch.autograd as autograd\n",
    "import numpy as np"
   ]
  },
  {
   "cell_type": "code",
   "execution_count": 2,
   "id": "5f638d3e",
   "metadata": {},
   "outputs": [
    {
     "name": "stdout",
     "output_type": "stream",
     "text": [
      "device_u: cuda:0\n",
      "device_v: cuda:1\n",
      "device_p: cuda:2\n",
      "device_T: cuda:3\n"
     ]
    }
   ],
   "source": [
    "device_u = torch.device('cuda:0' if torch.cuda.is_available() else 'cpu')\n",
    "device_v = torch.device('cuda:1' if torch.cuda.device_count() > 1 else device_u)\n",
    "device_p = torch.device('cuda:2' if torch.cuda.device_count() > 2 else device_u)\n",
    "device_T = torch.device('cuda:3' if torch.cuda.device_count() > 3 else device_u)\n",
    "\n",
    "print(f\"device_u: {device_u}\")\n",
    "print(f\"device_v: {device_v}\")\n",
    "print(f\"device_p: {device_p}\")\n",
    "print(f\"device_T: {device_T}\")"
   ]
  },
  {
   "cell_type": "code",
   "execution_count": 3,
   "id": "780944c3",
   "metadata": {},
   "outputs": [],
   "source": [
    "class FCN(nn.Module):\n",
    "    def __init__(self, in_dim, out_dim, hidden_layers=4, neurons=50):\n",
    "        super(FCN, self).__init__()\n",
    "        layers = [nn.Linear(in_dim, neurons), nn.Tanh()]\n",
    "        for _ in range(hidden_layers - 1):\n",
    "            layers += [nn.Linear(neurons, neurons), nn.Tanh()]\n",
    "        layers.append(nn.Linear(neurons, out_dim))\n",
    "        self.net = nn.Sequential(*layers)\n",
    "\n",
    "    def forward(self, x):\n",
    "        return self.net(x)\n",
    "    \n",
    "\n",
    "net_u = FCN(in_dim=3, out_dim=1).to(device_u)   # For u(x, y, t)\n",
    "net_v = FCN(in_dim=3, out_dim=1).to(device_v)   # For v(x, y, t)\n",
    "net_p = FCN(in_dim=3, out_dim=1).to(device_p)   # For p(x, y, t)\n",
    "net_T = FCN(in_dim=3, out_dim=1).to(device_T)   # For T(x, y, t)"
   ]
  },
  {
   "cell_type": "code",
   "execution_count": 4,
   "id": "ea2f9d8a",
   "metadata": {},
   "outputs": [],
   "source": [
    "def generate_collocation_points(N):\n",
    "    x = np.random.rand(N, 1)\n",
    "    y = np.random.rand(N, 1)\n",
    "    t = np.random.rand(N, 1)\n",
    "    X = np.hstack((x, y, t))\n",
    "    return torch.tensor(X, dtype=torch.float32, requires_grad=True)\n",
    "\n",
    "N_f = 10000\n",
    "X_f = generate_collocation_points(N_f)\n",
    "X_f_u = X_f.clone().detach().to(device_u).requires_grad_(True)\n",
    "X_f_v = X_f.clone().detach().to(device_v).requires_grad_(True)\n",
    "X_f_p = X_f.clone().detach().to(device_p).requires_grad_(True)\n",
    "X_f_T = X_f.clone().detach().to(device_T).requires_grad_(True)"
   ]
  },
  {
   "cell_type": "code",
   "execution_count": 16,
   "id": "d7d76a1c",
   "metadata": {},
   "outputs": [],
   "source": [
    "def compute_residual_u():\n",
    "    # Evaluate u and its derivatives on device_u\n",
    "    u = net_u(X_f_u)\n",
    "    grads_u = autograd.grad(u, X_f_u, grad_outputs=torch.ones_like(u), create_graph=True)[0]\n",
    "    u_t = grads_u[:, 2:3]\n",
    "    u_x = grads_u[:, 0:1]\n",
    "    u_y = grads_u[:, 1:2]\n",
    "    u_xx = autograd.grad(u_x, X_f_u, grad_outputs=torch.ones_like(u_x), create_graph=True)[0][:, 0:1]\n",
    "    u_yy = autograd.grad(u_y, X_f_u, grad_outputs=torch.ones_like(u_y), create_graph=True)[0][:, 1:2]\n",
    "\n",
    "    # Get v and p as constants on device_u\n",
    "    v = net_v(X_f_v).detach().to(device_u)\n",
    "    p = net_p(X_f_p)#.to(device_u)\n",
    "    # Spatial derivatives of pressure\n",
    "    p_x = autograd.grad(p, X_f_p, grad_outputs=torch.ones_like(p), create_graph=True, allow_unused=True)[0][:, 0:1].to(device_u)\n",
    "\n",
    "    nu = 0.01  # kinematic viscosity\n",
    "    # Momentum-u residual\n",
    "    res_u = u_t + u * u_x + v * u_y + p_x - nu * (u_xx + u_yy)\n",
    "    return res_u"
   ]
  },
  {
   "cell_type": "code",
   "execution_count": 21,
   "id": "ffae0df3",
   "metadata": {},
   "outputs": [],
   "source": [
    "def compute_residual_v():\n",
    "    # Evaluate v and its derivatives on device_v\n",
    "    v = net_v(X_f_v)\n",
    "    grads_v = autograd.grad(v, X_f_v, grad_outputs=torch.ones_like(v), create_graph=True)[0]\n",
    "    v_t = grads_v[:, 2:3]\n",
    "    v_x = grads_v[:, 0:1]\n",
    "    v_y = grads_v[:, 1:2]\n",
    "    v_xx = autograd.grad(v_x, X_f_v, grad_outputs=torch.ones_like(v_x), create_graph=True)[0][:, 0:1]\n",
    "    v_yy = autograd.grad(v_y, X_f_v, grad_outputs=torch.ones_like(v_y), create_graph=True)[0][:, 1:2]\n",
    "\n",
    "    # Get u and p as constants on device_v\n",
    "    u = net_u(X_f_u).detach().to(device_v)\n",
    "    p = net_p(X_f_p)#.to(device_v)\n",
    "    # Pressure derivatives\n",
    "    p_y = autograd.grad(p, X_f_p, grad_outputs=torch.ones_like(p), create_graph=True)[0][:, 1:2].to(device_v)\n",
    "\n",
    "    nu = 0.01\n",
    "    # Momentum-v residual\n",
    "    res_v = v_t + u * v_x + v * v_y + p_y - nu * (v_xx + v_yy)\n",
    "    return res_v\n"
   ]
  },
  {
   "cell_type": "code",
   "execution_count": 7,
   "id": "4b666215",
   "metadata": {},
   "outputs": [],
   "source": [
    "def compute_residual_continuity():\n",
    "    # Divergence of velocity field on GPU 0\n",
    "    u = net_u(X_f_u)\n",
    "    v = net_v(X_f_v)\n",
    "    u_x = autograd.grad(u, X_f_u, grad_outputs=torch.ones_like(u), create_graph=True)[0][:, 0:1]\n",
    "    v_y = autograd.grad(v, X_f_v, grad_outputs=torch.ones_like(v), create_graph=True)[0][:, 1:2]\n",
    "    res_c = u_x + v_y.to(device_u)\n",
    "    return res_c"
   ]
  },
  {
   "cell_type": "code",
   "execution_count": 8,
   "id": "d9a8a299",
   "metadata": {},
   "outputs": [],
   "source": [
    "def compute_residual_T():\n",
    "    # Evaluate T and its derivatives on device_T\n",
    "    T = net_T(X_f_T)\n",
    "    grads_T = autograd.grad(T, X_f_T, grad_outputs=torch.ones_like(T), create_graph=True)[0]\n",
    "    T_t = grads_T[:, 2:3]\n",
    "    T_x = grads_T[:, 0:1]\n",
    "    T_y = grads_T[:, 1:2]\n",
    "    T_xx = autograd.grad(T_x, X_f_T, grad_outputs=torch.ones_like(T_x), create_graph=True)[0][:, 0:1]\n",
    "    T_yy = autograd.grad(T_y, X_f_T, grad_outputs=torch.ones_like(T_y), create_graph=True)[0][:, 1:2]\n",
    "\n",
    "    # Get u,v as constants on device_T\n",
    "    u = net_u(X_f_u).detach().to(device_T)\n",
    "    v = net_v(X_f_v).detach().to(device_T)\n",
    "\n",
    "    alpha = 0.01  # thermal diffusivity\n",
    "    # Energy equation residual\n",
    "    res_T = T_t + u * T_x + v * T_y - alpha * (T_xx + T_yy)\n",
    "    return res_T"
   ]
  },
  {
   "cell_type": "code",
   "execution_count": 9,
   "id": "62314774",
   "metadata": {},
   "outputs": [],
   "source": [
    "def compute_losses():\n",
    "    # Compute individual residuals\n",
    "    res_u = compute_residual_u()\n",
    "    res_v = compute_residual_v()\n",
    "    res_c = compute_residual_continuity()\n",
    "    res_T = compute_residual_T()\n",
    "    # Aggregate into per-network losses (MSE) and return\n",
    "    loss_u = torch.mean(res_u**2) + torch.mean(res_c**2)\n",
    "    loss_v = torch.mean(res_v**2)\n",
    "    loss_T = torch.mean(res_T**2)\n",
    "    \n",
    "\n",
    "    loss_v_u = loss_v.to(device_u)\n",
    "    loss_T_u = loss_T.to(device_u)\n",
    "    total_loss = (loss_u + loss_v_u + loss_T_u)\n",
    "\n",
    "\n",
    "    return loss_u, loss_v, loss_T, total_loss"
   ]
  },
  {
   "cell_type": "code",
   "execution_count": 10,
   "id": "4e85b193",
   "metadata": {},
   "outputs": [],
   "source": [
    "optimizer_u = torch.optim.Adam(net_u.parameters(), lr=1e-3)\n",
    "optimizer_v = torch.optim.Adam(net_v.parameters(), lr=1e-3)\n",
    "optimizer_T = torch.optim.Adam(net_T.parameters(), lr=1e-3)"
   ]
  },
  {
   "cell_type": "code",
   "execution_count": 22,
   "id": "0618bc05",
   "metadata": {},
   "outputs": [
    {
     "name": "stdout",
     "output_type": "stream",
     "text": [
      "Epoch 0: loss_u=1.159e-02, loss_v=1.680e-03, loss_T=9.864e-04, total=1.425e-02\n",
      "Epoch 500: loss_u=3.768e-06, loss_v=1.333e-06, loss_T=6.911e-09, total=5.108e-06\n",
      "Epoch 1000: loss_u=1.428e-06, loss_v=3.448e-07, loss_T=3.462e-09, total=1.776e-06\n",
      "Epoch 1500: loss_u=3.518e-07, loss_v=1.162e-07, loss_T=2.159e-09, total=4.701e-07\n",
      "Epoch 2000: loss_u=2.152e-07, loss_v=1.145e-07, loss_T=1.255e-09, total=3.310e-07\n",
      "Epoch 2500: loss_u=1.558e-07, loss_v=1.107e-07, loss_T=9.294e-10, total=2.674e-07\n",
      "Epoch 3000: loss_u=2.498e-07, loss_v=1.288e-07, loss_T=8.930e-10, total=3.794e-07\n",
      "Epoch 3500: loss_u=1.236e-07, loss_v=9.855e-08, loss_T=5.533e-10, total=2.227e-07\n",
      "Epoch 4000: loss_u=2.294e-07, loss_v=1.049e-07, loss_T=3.881e-10, total=3.348e-07\n"
     ]
    },
    {
     "ename": "KeyboardInterrupt",
     "evalue": "",
     "output_type": "error",
     "traceback": [
      "\u001b[31m---------------------------------------------------------------------------\u001b[39m",
      "\u001b[31mKeyboardInterrupt\u001b[39m                         Traceback (most recent call last)",
      "\u001b[36mCell\u001b[39m\u001b[36m \u001b[39m\u001b[32mIn[22]\u001b[39m\u001b[32m, line 7\u001b[39m\n\u001b[32m      4\u001b[39m optimizer_v.zero_grad()\n\u001b[32m      5\u001b[39m optimizer_T.zero_grad()\n\u001b[32m----> \u001b[39m\u001b[32m7\u001b[39m loss_u, loss_v, loss_T, total_loss = \u001b[43mcompute_losses\u001b[49m\u001b[43m(\u001b[49m\u001b[43m)\u001b[49m\n\u001b[32m      9\u001b[39m loss_u.backward(retain_graph=\u001b[38;5;28;01mTrue\u001b[39;00m)\n\u001b[32m     10\u001b[39m loss_v.backward(retain_graph=\u001b[38;5;28;01mTrue\u001b[39;00m)\n",
      "\u001b[36mCell\u001b[39m\u001b[36m \u001b[39m\u001b[32mIn[9]\u001b[39m\u001b[32m, line 3\u001b[39m, in \u001b[36mcompute_losses\u001b[39m\u001b[34m()\u001b[39m\n\u001b[32m      1\u001b[39m \u001b[38;5;28;01mdef\u001b[39;00m\u001b[38;5;250m \u001b[39m\u001b[34mcompute_losses\u001b[39m():\n\u001b[32m      2\u001b[39m     \u001b[38;5;66;03m# Compute individual residuals\u001b[39;00m\n\u001b[32m----> \u001b[39m\u001b[32m3\u001b[39m     res_u = \u001b[43mcompute_residual_u\u001b[49m\u001b[43m(\u001b[49m\u001b[43m)\u001b[49m\n\u001b[32m      4\u001b[39m     res_v = compute_residual_v()\n\u001b[32m      5\u001b[39m     res_c = compute_residual_continuity()\n",
      "\u001b[36mCell\u001b[39m\u001b[36m \u001b[39m\u001b[32mIn[16]\u001b[39m\u001b[32m, line 8\u001b[39m, in \u001b[36mcompute_residual_u\u001b[39m\u001b[34m()\u001b[39m\n\u001b[32m      6\u001b[39m u_x = grads_u[:, \u001b[32m0\u001b[39m:\u001b[32m1\u001b[39m]\n\u001b[32m      7\u001b[39m u_y = grads_u[:, \u001b[32m1\u001b[39m:\u001b[32m2\u001b[39m]\n\u001b[32m----> \u001b[39m\u001b[32m8\u001b[39m u_xx = \u001b[43mautograd\u001b[49m\u001b[43m.\u001b[49m\u001b[43mgrad\u001b[49m\u001b[43m(\u001b[49m\u001b[43mu_x\u001b[49m\u001b[43m,\u001b[49m\u001b[43m \u001b[49m\u001b[43mX_f_u\u001b[49m\u001b[43m,\u001b[49m\u001b[43m \u001b[49m\u001b[43mgrad_outputs\u001b[49m\u001b[43m=\u001b[49m\u001b[43mtorch\u001b[49m\u001b[43m.\u001b[49m\u001b[43mones_like\u001b[49m\u001b[43m(\u001b[49m\u001b[43mu_x\u001b[49m\u001b[43m)\u001b[49m\u001b[43m,\u001b[49m\u001b[43m \u001b[49m\u001b[43mcreate_graph\u001b[49m\u001b[43m=\u001b[49m\u001b[38;5;28;43;01mTrue\u001b[39;49;00m\u001b[43m)\u001b[49m[\u001b[32m0\u001b[39m][:, \u001b[32m0\u001b[39m:\u001b[32m1\u001b[39m]\n\u001b[32m      9\u001b[39m u_yy = autograd.grad(u_y, X_f_u, grad_outputs=torch.ones_like(u_y), create_graph=\u001b[38;5;28;01mTrue\u001b[39;00m)[\u001b[32m0\u001b[39m][:, \u001b[32m1\u001b[39m:\u001b[32m2\u001b[39m]\n\u001b[32m     11\u001b[39m \u001b[38;5;66;03m# Get v and p as constants on device_u\u001b[39;00m\n",
      "\u001b[36mFile \u001b[39m\u001b[32m~/miniconda3/envs/Parallel_PINN_env/lib/python3.12/site-packages/torch/autograd/__init__.py:496\u001b[39m, in \u001b[36mgrad\u001b[39m\u001b[34m(outputs, inputs, grad_outputs, retain_graph, create_graph, only_inputs, allow_unused, is_grads_batched, materialize_grads)\u001b[39m\n\u001b[32m    492\u001b[39m     result = _vmap_internals._vmap(vjp, \u001b[32m0\u001b[39m, \u001b[32m0\u001b[39m, allow_none_pass_through=\u001b[38;5;28;01mTrue\u001b[39;00m)(\n\u001b[32m    493\u001b[39m         grad_outputs_\n\u001b[32m    494\u001b[39m     )\n\u001b[32m    495\u001b[39m \u001b[38;5;28;01melse\u001b[39;00m:\n\u001b[32m--> \u001b[39m\u001b[32m496\u001b[39m     result = \u001b[43m_engine_run_backward\u001b[49m\u001b[43m(\u001b[49m\n\u001b[32m    497\u001b[39m \u001b[43m        \u001b[49m\u001b[43moutputs\u001b[49m\u001b[43m,\u001b[49m\n\u001b[32m    498\u001b[39m \u001b[43m        \u001b[49m\u001b[43mgrad_outputs_\u001b[49m\u001b[43m,\u001b[49m\n\u001b[32m    499\u001b[39m \u001b[43m        \u001b[49m\u001b[43mretain_graph\u001b[49m\u001b[43m,\u001b[49m\n\u001b[32m    500\u001b[39m \u001b[43m        \u001b[49m\u001b[43mcreate_graph\u001b[49m\u001b[43m,\u001b[49m\n\u001b[32m    501\u001b[39m \u001b[43m        \u001b[49m\u001b[43minputs\u001b[49m\u001b[43m,\u001b[49m\n\u001b[32m    502\u001b[39m \u001b[43m        \u001b[49m\u001b[43mallow_unused\u001b[49m\u001b[43m,\u001b[49m\n\u001b[32m    503\u001b[39m \u001b[43m        \u001b[49m\u001b[43maccumulate_grad\u001b[49m\u001b[43m=\u001b[49m\u001b[38;5;28;43;01mFalse\u001b[39;49;00m\u001b[43m,\u001b[49m\n\u001b[32m    504\u001b[39m \u001b[43m    \u001b[49m\u001b[43m)\u001b[49m\n\u001b[32m    505\u001b[39m \u001b[38;5;28;01mif\u001b[39;00m materialize_grads:\n\u001b[32m    506\u001b[39m     \u001b[38;5;28;01mif\u001b[39;00m \u001b[38;5;28many\u001b[39m(\n\u001b[32m    507\u001b[39m         result[i] \u001b[38;5;129;01mis\u001b[39;00m \u001b[38;5;28;01mNone\u001b[39;00m \u001b[38;5;129;01mand\u001b[39;00m \u001b[38;5;129;01mnot\u001b[39;00m is_tensor_like(inputs[i])\n\u001b[32m    508\u001b[39m         \u001b[38;5;28;01mfor\u001b[39;00m i \u001b[38;5;129;01min\u001b[39;00m \u001b[38;5;28mrange\u001b[39m(\u001b[38;5;28mlen\u001b[39m(inputs))\n\u001b[32m    509\u001b[39m     ):\n",
      "\u001b[36mFile \u001b[39m\u001b[32m~/miniconda3/envs/Parallel_PINN_env/lib/python3.12/site-packages/torch/autograd/graph.py:825\u001b[39m, in \u001b[36m_engine_run_backward\u001b[39m\u001b[34m(t_outputs, *args, **kwargs)\u001b[39m\n\u001b[32m    823\u001b[39m     unregister_hooks = _register_logging_hooks_on_whole_graph(t_outputs)\n\u001b[32m    824\u001b[39m \u001b[38;5;28;01mtry\u001b[39;00m:\n\u001b[32m--> \u001b[39m\u001b[32m825\u001b[39m     \u001b[38;5;28;01mreturn\u001b[39;00m \u001b[43mVariable\u001b[49m\u001b[43m.\u001b[49m\u001b[43m_execution_engine\u001b[49m\u001b[43m.\u001b[49m\u001b[43mrun_backward\u001b[49m\u001b[43m(\u001b[49m\u001b[43m  \u001b[49m\u001b[38;5;66;43;03m# Calls into the C++ engine to run the backward pass\u001b[39;49;00m\n\u001b[32m    826\u001b[39m \u001b[43m        \u001b[49m\u001b[43mt_outputs\u001b[49m\u001b[43m,\u001b[49m\u001b[43m \u001b[49m\u001b[43m*\u001b[49m\u001b[43margs\u001b[49m\u001b[43m,\u001b[49m\u001b[43m \u001b[49m\u001b[43m*\u001b[49m\u001b[43m*\u001b[49m\u001b[43mkwargs\u001b[49m\n\u001b[32m    827\u001b[39m \u001b[43m    \u001b[49m\u001b[43m)\u001b[49m  \u001b[38;5;66;03m# Calls into the C++ engine to run the backward pass\u001b[39;00m\n\u001b[32m    828\u001b[39m \u001b[38;5;28;01mfinally\u001b[39;00m:\n\u001b[32m    829\u001b[39m     \u001b[38;5;28;01mif\u001b[39;00m attach_logging_hooks:\n",
      "\u001b[31mKeyboardInterrupt\u001b[39m: "
     ]
    }
   ],
   "source": [
    "num_epochs = 5000\n",
    "for epoch in range(num_epochs):\n",
    "    optimizer_u.zero_grad()\n",
    "    optimizer_v.zero_grad()\n",
    "    optimizer_T.zero_grad()\n",
    "\n",
    "    loss_u, loss_v, loss_T, total_loss = compute_losses()\n",
    "\n",
    "    loss_u.backward(retain_graph=True)\n",
    "    loss_v.backward(retain_graph=True)\n",
    "    loss_T.backward()\n",
    "\n",
    "    optimizer_u.step()\n",
    "    optimizer_v.step()\n",
    "    optimizer_T.step()\n",
    "\n",
    "\n",
    "    if epoch % 500 == 0:\n",
    "        print(f\"Epoch {epoch}: loss_u={loss_u.item():.3e}, loss_v={loss_v.item():.3e}, loss_T={loss_T.item():.3e}, total={total_loss.item():.3e}\")"
   ]
  },
  {
   "cell_type": "code",
   "execution_count": 23,
   "id": "ad511ce1",
   "metadata": {},
   "outputs": [],
   "source": [
    "import matplotlib.pyplot as plt\n",
    "\n"
   ]
  }
 ],
 "metadata": {
  "kernelspec": {
   "display_name": "Parallel_PINN_env",
   "language": "python",
   "name": "python3"
  },
  "language_info": {
   "codemirror_mode": {
    "name": "ipython",
    "version": 3
   },
   "file_extension": ".py",
   "mimetype": "text/x-python",
   "name": "python",
   "nbconvert_exporter": "python",
   "pygments_lexer": "ipython3",
   "version": "3.12.9"
  }
 },
 "nbformat": 4,
 "nbformat_minor": 5
}
