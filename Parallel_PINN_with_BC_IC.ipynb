{
 "cells": [
  {
   "cell_type": "code",
   "execution_count": 2,
   "id": "9f9ba2d3",
   "metadata": {},
   "outputs": [],
   "source": [
    "import torch\n",
    "import torch.nn as nn\n",
    "import torch.autograd as autograd\n",
    "import numpy as np\n",
    "import matplotlib.pyplot as plt"
   ]
  },
  {
   "cell_type": "code",
   "execution_count": 3,
   "id": "089d4b12",
   "metadata": {},
   "outputs": [
    {
     "name": "stdout",
     "output_type": "stream",
     "text": [
      "device_u: cuda:0\n",
      "device_v: cuda:1\n",
      "device_p: cuda:2\n",
      "device_T: cuda:3\n"
     ]
    }
   ],
   "source": [
    "device_u = torch.device('cuda:0' if torch.cuda.is_available() else 'cpu')\n",
    "device_v = torch.device('cuda:1' if torch.cuda.device_count() > 1 else device_u)\n",
    "device_p = torch.device('cuda:2' if torch.cuda.device_count() > 2 else device_u)\n",
    "device_T = torch.device('cuda:3' if torch.cuda.device_count() > 3 else device_u)\n",
    "\n",
    "print(f\"device_u: {device_u}\")\n",
    "print(f\"device_v: {device_v}\")\n",
    "print(f\"device_p: {device_p}\")\n",
    "print(f\"device_T: {device_T}\")"
   ]
  },
  {
   "cell_type": "code",
   "execution_count": 4,
   "id": "d58ed661",
   "metadata": {},
   "outputs": [],
   "source": [
    "class FCN(nn.Module):\n",
    "    def __init__(self, in_dim, out_dim, hidden_layers=4, neurons=50):\n",
    "        super(FCN, self).__init__()\n",
    "        layers = [nn.Linear(in_dim, neurons), nn.Tanh()]\n",
    "        for _ in range(hidden_layers - 1):\n",
    "            layers += [nn.Linear(neurons, neurons), nn.Tanh()]\n",
    "        layers.append(nn.Linear(neurons, out_dim))\n",
    "        self.net = nn.Sequential(*layers)\n",
    "\n",
    "    def forward(self, x):\n",
    "        return self.net(x)\n",
    "    \n",
    "\n",
    "net_u = FCN(in_dim=3, out_dim=1).to(device_u)   # For u(x, y, t)\n",
    "net_v = FCN(in_dim=3, out_dim=1).to(device_v)   # For v(x, y, t)\n",
    "net_p = FCN(in_dim=3, out_dim=1).to(device_p)   # For p(x, y, t)\n",
    "net_T = FCN(in_dim=3, out_dim=1).to(device_T)   # For T(x, y, t)"
   ]
  },
  {
   "cell_type": "code",
   "execution_count": 5,
   "id": "66408f7e",
   "metadata": {},
   "outputs": [],
   "source": [
    "def generate_collocation_points(N):\n",
    "    x = np.random.rand(N,1)\n",
    "    y = np.random.rand(N,1)\n",
    "    t = np.random.rand(N,1)\n",
    "\n",
    "    X = np.hstack((x,y,t))\n",
    "\n",
    "    return torch.tensor(X, dtype = torch.float32, requires_grad= True)\n",
    "\n",
    "N_f = 10000\n",
    "X_f = generate_collocation_points(N_f)\n",
    "\n",
    "X_f_u = X_f.clone().detach().to(device_u).requires_grad_(True)\n",
    "X_f_v = X_f.clone().detach().to(device_v).requires_grad_(True)\n",
    "X_f_p = X_f.clone().detach().to(device_p).requires_grad_(True)\n",
    "X_f_T = X_f.clone().detach().to(device_T).requires_grad_(True)\n"
   ]
  },
  {
   "cell_type": "code",
   "execution_count": 6,
   "id": "c541da37",
   "metadata": {},
   "outputs": [],
   "source": [
    "def generate_boundary_points(N):\n",
    "    x = torch.rand(N,1)\n",
    "    y = torch.rand(N,1)\n",
    "    t = torch.rand(N,1)\n",
    "\n",
    "    # Left / right boundary\n",
    "    b_l = torch.cat([torch.zeros(N,1),y,t], dim = 1)\n",
    "    b_r = torch.cat([torch.ones(N,1),y,t], dim = 1)\n",
    "\n",
    "    # Bottom / top boundary\n",
    "    b_b = torch.cat([x,torch.zeros(N,1),t], dim = 1)\n",
    "    b_t = torch.cat([x,torch.ones(N,1),t], dim = 1)\n",
    "\n",
    "    b = torch.cat([b_l, b_r, b_b, b_t], dim = 0)\n",
    "\n",
    "    return b\n",
    "\n",
    "N_b = 2000\n",
    "X_b = generate_boundary_points(N_b)\n",
    "\n",
    "X_b_u = X_b.clone().detach().to(device_u)\n",
    "X_b_v = X_b.clone().detach().to(device_v)\n",
    "X_b_T = X_b.clone().detach().to(device_T)\n"
   ]
  },
  {
   "cell_type": "code",
   "execution_count": 7,
   "id": "2e2dc4ed",
   "metadata": {},
   "outputs": [],
   "source": [
    "def generate_initial_points(N):\n",
    "    x = torch.rand(N,1)\n",
    "    y = torch.rand(N,1)\n",
    "    t_0 = torch.zeros(N,1)\n",
    "\n",
    "    initial = torch.cat([x,y,t_0], dim = 1)\n",
    "    return initial\n",
    "\n",
    "N_i = 2000\n",
    "X_i = generate_initial_points(N_i)\n",
    "\n",
    "X_i_u = X_i.clone().detach().to(device_u)\n",
    "X_i_v = X_i.clone().detach().to(device_v)\n",
    "X_i_T = X_i.clone().detach().to(device_T)"
   ]
  },
  {
   "cell_type": "code",
   "execution_count": 17,
   "id": "ab37e9b9",
   "metadata": {},
   "outputs": [],
   "source": [
    "def compute_residual_u():\n",
    "    # Evaluate u and its derivatives on device_u\n",
    "    u = net_u(X_f_u)\n",
    "    grads_u = autograd.grad(u, X_f_u, grad_outputs= torch.ones_like(u), create_graph= True)[0]\n",
    "\n",
    "    u_x = grads_u[:,0:1]\n",
    "    u_y = grads_u[:,1:2]\n",
    "    u_t = grads_u[:,2:3]\n",
    "\n",
    "    u_x_x = autograd.grad(u_x,X_f_u,grad_outputs= torch.ones_like(u_x), create_graph= True)[0][:,0:1]\n",
    "    u_y_y = autograd.grad(u_y,X_f_u,grad_outputs= torch.ones_like(u_y), create_graph= True)[0][:,1:2]\n",
    "\n",
    "    # Get v and p as constants on device_u\n",
    "    v = net_v(X_f_v).detach().to(device_u)\n",
    "    p = net_p(X_f_p)\n",
    "\n",
    "    # Spatial derivatives of pressure\n",
    "    p_x = autograd.grad(p,X_f_p, grad_outputs=torch.ones_like(p), create_graph= True, allow_unused= True)[0][:,0:1].to(device_u)\n",
    "\n",
    "    nu = 0.01\n",
    "\n",
    "    res_u = u_t + u * u_x + v * u_y + p_x - nu * (u_x_x + u_y_y)\n",
    "\n",
    "    return res_u\n",
    "\n"
   ]
  },
  {
   "cell_type": "code",
   "execution_count": 9,
   "id": "1946196c",
   "metadata": {},
   "outputs": [],
   "source": [
    "def compute_residual_v():\n",
    "    # Evaluate v and its derivatives on device_v\n",
    "    v = net_v(X_f_v)\n",
    "    grads_v = autograd.grad(v, X_f_v, grad_outputs= torch.ones_like(v), create_graph= True)[0]\n",
    "\n",
    "    v_x = grads_v[:,0:1]\n",
    "    v_y = grads_v[:,1:2]\n",
    "    v_t = grads_v[:,2:3]\n",
    "\n",
    "    v_x_x = autograd.grad(v_x,X_f_v,grad_outputs= torch.ones_like(v_x), create_graph= True)[0][:,0:1]\n",
    "    v_y_y = autograd.grad(v_y,X_f_v,grad_outputs= torch.ones_like(v_y), create_graph= True)[0][:,1:2]\n",
    "\n",
    "    # Get u and p as constants on device_v\n",
    "    u = net_u(X_f_u).detach().to(device_v)\n",
    "    p = net_p(X_f_p)\n",
    "\n",
    "    # Pressure derivatives\n",
    "    p_y = autograd.grad(p, X_f_p, grad_outputs=torch.ones_like(p), create_graph=True)[0][:, 1:2].to(device_v)\n",
    "\n",
    "    nu = 0.01\n",
    "\n",
    "    res_v = v_t + u * v_x + v * v_y + p_y - nu * (v_x_x + v_y_y)\n",
    "\n",
    "    return res_v"
   ]
  },
  {
   "cell_type": "code",
   "execution_count": 18,
   "id": "0129b14e",
   "metadata": {},
   "outputs": [],
   "source": [
    "def compute_residual_continuity():\n",
    "    # Divergence of velocity field on GPU 0\n",
    "    u = net_u(X_f_u)\n",
    "    v = net_v(X_f_v)\n",
    "    u_x = autograd.grad(u, X_f_u, grad_outputs=torch.ones_like(u), create_graph=True)[0][:, 0:1]\n",
    "    v_y = autograd.grad(v, X_f_v, grad_outputs=torch.ones_like(v), create_graph=True)[0][:, 1:2]\n",
    "    res_c = u_x + v_y.to(device_u)\n",
    "    return res_c"
   ]
  },
  {
   "cell_type": "code",
   "execution_count": 19,
   "id": "15ed596c",
   "metadata": {},
   "outputs": [],
   "source": [
    "def compute_residual_T():\n",
    "    # Evaluate T and its derivatives on device_T\n",
    "    T = net_T(X_f_T)\n",
    "    grads_T = autograd.grad(T, X_f_T, grad_outputs= torch.ones_like(T), create_graph=True)[0]\n",
    "\n",
    "    T_x = grads_T[:,0:1]\n",
    "    T_y = grads_T[:,1:2]\n",
    "    T_t = grads_T[:,2:3]\n",
    "\n",
    "    T_x_x = autograd.grad(T_x,X_f_T,grad_outputs= torch.ones_like(T_x), create_graph= True)[0][:,0:1]\n",
    "    T_y_y = autograd.grad(T_y,X_f_T,grad_outputs= torch.ones_like(T_y), create_graph= True)[0][:,1:2]\n",
    "\n",
    "    # Get u,v as constants on device_T\n",
    "    u = net_u(X_f_u).detach().to(device_T)\n",
    "    v = net_v(X_f_v).detach().to(device_T)\n",
    "\n",
    "    alpha = 0.01  # thermal diffusivity\n",
    "    # Energy equation residual\n",
    "    res_T = T_t + u * T_x + v * T_y - alpha * (T_x_x + T_y_y)\n",
    "    return res_T\n",
    "    "
   ]
  },
  {
   "cell_type": "code",
   "execution_count": 12,
   "id": "0050aecd",
   "metadata": {},
   "outputs": [],
   "source": [
    "def compute_bc_residuals():\n",
    "    u_b = net_u(X_b_u)\n",
    "    v_b = net_v(X_b_v)\n",
    "    T_b = net_T(X_b_T)\n",
    "\n",
    "    bc_u = torch.mean((u_b)**2)\n",
    "    bc_v = torch.mean((v_b)**2)\n",
    "    bc_T = torch.mean((T_b - 1.00)**2)\n",
    "\n",
    "    return bc_u, bc_v, bc_T"
   ]
  },
  {
   "cell_type": "code",
   "execution_count": 13,
   "id": "ccde2835",
   "metadata": {},
   "outputs": [],
   "source": [
    "def compute_ic_residuals():\n",
    "    u_i = net_u(X_i_u)\n",
    "    v_i = net_v(X_i_v)\n",
    "    T_i = net_T(X_i_T)\n",
    "\n",
    "    ic_u = torch.mean((u_i)**2)\n",
    "    ic_v = torch.mean((v_i)**2)\n",
    "    ic_T = torch.mean((T_i)**2)\n",
    "\n",
    "    return ic_u, ic_v, ic_T"
   ]
  },
  {
   "cell_type": "code",
   "execution_count": 26,
   "id": "86ed3a07",
   "metadata": {},
   "outputs": [],
   "source": [
    "def compute_losses():\n",
    "    # Compute individual residuals\n",
    "    res_u = compute_residual_u()\n",
    "    res_v = compute_residual_v()\n",
    "    res_c = compute_residual_continuity()\n",
    "    res_T = compute_residual_T()\n",
    "    # Aggregate into per-network losses (MSE) and return\n",
    "    loss_u = torch.mean(res_u**2) + torch.mean(res_c**2)\n",
    "    loss_v = torch.mean(res_v**2)\n",
    "    loss_T = torch.mean(res_T**2)\n",
    "\n",
    "    # Boundary and initial condition losses\n",
    "    bc_u, bc_v, bc_T = compute_bc_residuals()\n",
    "    ic_u, ic_v, ic_T = compute_ic_residuals()\n",
    "\n",
    "    loss_int = loss_u + loss_v.to(device_u) + loss_T.to(device_u)\n",
    "    loss_bc = bc_u + bc_v.to(device_u) + bc_T.to(device_u)\n",
    "    loss_ic = ic_u + ic_v.to(device_u) + ic_T.to(device_u)\n",
    "\n",
    "    total_loss = (loss_int + loss_bc + loss_ic)\n",
    "\n",
    "    return loss_u, loss_v, loss_T,bc_u, bc_v, bc_T, ic_u, ic_v, ic_T, total_loss"
   ]
  },
  {
   "cell_type": "code",
   "execution_count": 25,
   "id": "276c0ebb",
   "metadata": {},
   "outputs": [],
   "source": [
    "optimizer_u = torch.optim.Adam(net_u.parameters(), lr=1e-3)\n",
    "optimizer_v = torch.optim.Adam(net_v.parameters(), lr=1e-3)\n",
    "optimizer_p = torch.optim.Adam(net_p.parameters(), lr=1e-3)\n",
    "optimizer_T = torch.optim.Adam(net_T.parameters(), lr=1e-3)"
   ]
  },
  {
   "cell_type": "code",
   "execution_count": 27,
   "id": "6dba6eb4",
   "metadata": {},
   "outputs": [
    {
     "name": "stdout",
     "output_type": "stream",
     "text": [
      "Epoch 0: loss_u=1.662e-03, loss_v=3.159e-04, loss_T=2.210e-03, total=8.433e-01\n",
      "Epoch 500: loss_u=2.783e-05, loss_v=5.721e-06, loss_T=2.169e-02, total=2.058e-01\n",
      "Epoch 1000: loss_u=2.473e-05, loss_v=5.475e-06, loss_T=1.112e-02, total=7.841e-02\n",
      "Epoch 1500: loss_u=2.378e-05, loss_v=5.513e-06, loss_T=1.020e-02, total=6.207e-02\n",
      "Epoch 2000: loss_u=2.651e-05, loss_v=5.577e-06, loss_T=1.057e-02, total=5.669e-02\n",
      "Epoch 2500: loss_u=2.549e-05, loss_v=5.550e-06, loss_T=1.006e-02, total=5.401e-02\n",
      "Epoch 3000: loss_u=2.539e-05, loss_v=5.732e-06, loss_T=8.316e-03, total=5.145e-02\n",
      "Epoch 3500: loss_u=2.530e-05, loss_v=5.553e-06, loss_T=6.351e-03, total=4.893e-02\n",
      "Epoch 4000: loss_u=2.603e-05, loss_v=5.566e-06, loss_T=5.257e-03, total=4.336e-02\n",
      "Epoch 4500: loss_u=2.541e-05, loss_v=5.500e-06, loss_T=4.792e-03, total=3.989e-02\n"
     ]
    }
   ],
   "source": [
    "num_epochs = 5000\n",
    "\n",
    "loss_u_list, loss_v_list, loss_T_list,bc_u_list, bc_v_list, bc_T_list, ic_u_list, ic_v_list, ic_T_list, total_loss_list = [], [],  [], [],[], [],  [], [], [], []\n",
    "\n",
    "for epoch in range(num_epochs):\n",
    "    optimizer_u.zero_grad()\n",
    "    optimizer_v.zero_grad()\n",
    "    optimizer_T.zero_grad()\n",
    "\n",
    "    loss_u, loss_v, loss_T,bc_u, bc_v, bc_T, ic_u, ic_v, ic_T, total_loss = compute_losses()\n",
    "\n",
    "    loss_u.backward(retain_graph=True)\n",
    "    loss_v.backward(retain_graph=True)\n",
    "    loss_T.backward(retain_graph=True)\n",
    "    bc_u.backward(retain_graph=True)\n",
    "    bc_v.backward(retain_graph=True)\n",
    "    bc_T.backward(retain_graph=True)\n",
    "    ic_u.backward(retain_graph=True)\n",
    "    ic_v.backward(retain_graph=True)\n",
    "    ic_T.backward()\n",
    "\n",
    "    optimizer_u.step()\n",
    "    optimizer_v.step()\n",
    "    optimizer_T.step()\n",
    "\n",
    "    loss_u_list.append(loss_u.item()); loss_v_list.append(loss_v.item()); loss_T_list.append(loss_T.item()); \n",
    "    bc_u_list.append(bc_u.item()); bc_v_list.append(bc_v.item()); bc_T_list.append(bc_T.item()); \n",
    "    ic_u_list.append(ic_u.item()); ic_v_list.append(ic_v.item()); ic_T_list.append(ic_T.item()); \n",
    "    total_loss_list.append(total_loss.item())\n",
    "\n",
    "    if epoch % 500 == 0:\n",
    "        print(f\"Epoch {epoch}: loss_u={loss_u.item():.3e}, loss_v={loss_v.item():.3e}, loss_T={loss_T.item():.3e}, total={total_loss.item():.3e}\")\n",
    "\n",
    "    "
   ]
  },
  {
   "cell_type": "code",
   "execution_count": 29,
   "id": "1bc6f3db",
   "metadata": {},
   "outputs": [
    {
     "data": {
      "image/png": "[encoded data removed]",
      "text/plain": [
       "<Figure size 720x432 with 1 Axes>"
      ]
     },
     "metadata": {
      "needs_background": "light"
     },
     "output_type": "display_data"
    }
   ],
   "source": [
    "plt.figure(figsize=(10,6))\n",
    "plt.plot(loss_u_list, label='loss_u')\n",
    "plt.plot(loss_v_list, label='loss_v')\n",
    "plt.plot(loss_T_list, label='loss_T')\n",
    "plt.plot(total_loss_list, label='total_loss')\n",
    "plt.yscale('log'); plt.xlabel('Epoch'); plt.ylabel('Loss')\n",
    "plt.title('Loss Convergence - Parallel PINN'); plt.legend(); plt.grid(True)\n",
    "plt.show()"
   ]
  }
 ],
 "metadata": {
  "kernelspec": {
   "display_name": "Python 3",
   "language": "python",
   "name": "python3"
  },
  "language_info": {
   "codemirror_mode": {
    "name": "ipython",
    "version": 3
   },
   "file_extension": ".py",
   "mimetype": "text/x-python",
   "name": "python",
   "nbconvert_exporter": "python",
   "pygments_lexer": "ipython3",
   "version": "3.10.12"
  }
 },
 "nbformat": 4,
 "nbformat_minor": 5
}
