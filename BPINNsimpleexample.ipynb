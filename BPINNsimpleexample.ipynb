{
 "cells": [
  {
   "cell_type": "code",
   "execution_count": 39,
   "id": "e372b887",
   "metadata": {},
   "outputs": [],
   "source": [
    "import torch\n",
    "import torch.nn as nn\n",
    "import pyro\n",
    "import pyro.distributions as dist\n",
    "from pyro.infer import HMC,MCMC, NUTS, Predictive\n",
    "from torch.autograd import grad\n",
    "import numpy as np\n",
    "\n",
    "\n",
    "import matplotlib.pyplot as plt"
   ]
  },
  {
   "cell_type": "code",
   "execution_count": 40,
   "id": "80ea3b82",
   "metadata": {},
   "outputs": [
    {
     "name": "stdout",
     "output_type": "stream",
     "text": [
      "device: cuda:0\n"
     ]
    }
   ],
   "source": [
    "device = torch.device('cuda:0' if torch.cuda.is_available() else 'cpu')\n",
    "#device = torch.device('cpu')\n",
    "print(f'device: {device}')"
   ]
  },
  {
   "cell_type": "code",
   "execution_count": 42,
   "id": "4b572b53",
   "metadata": {},
   "outputs": [],
   "source": [
    "class PINN(nn.Module):\n",
    "    def __init__(self):\n",
    "        super().__init__()\n",
    "        self.net = nn.Sequential(\n",
    "            nn.Linear(1, 50), nn.Tanh(),\n",
    "            nn.Linear(50, 50), nn.Tanh(),\n",
    "            nn.Linear(50, 1)\n",
    "        )\n",
    "    def forward(self, t):\n",
    "        return self.net(t)\n",
    "    \n",
    "\n",
    "\n",
    "pinn = PINN()"
   ]
  },
  {
   "cell_type": "code",
   "execution_count": 1,
   "id": "3b52eef4",
   "metadata": {},
   "outputs": [
    {
     "ename": "NameError",
     "evalue": "name 'torch' is not defined",
     "output_type": "error",
     "traceback": [
      "\u001b[0;31m---------------------------------------------------------------------------\u001b[0m",
      "\u001b[0;31mNameError\u001b[0m                                 Traceback (most recent call last)",
      "Cell \u001b[0;32mIn[1], line 2\u001b[0m\n\u001b[1;32m      1\u001b[0m \u001b[38;5;66;03m# sensor data\u001b[39;00m\n\u001b[0;32m----> 2\u001b[0m t_data \u001b[38;5;241m=\u001b[39m \u001b[43mtorch\u001b[49m\u001b[38;5;241m.\u001b[39mlinspace(\u001b[38;5;241m0.\u001b[39m, \u001b[38;5;241m5.\u001b[39m, \u001b[38;5;241m50\u001b[39m)\u001b[38;5;241m.\u001b[39munsqueeze(\u001b[38;5;241m-\u001b[39m\u001b[38;5;241m1\u001b[39m)          \u001b[38;5;66;03m# [50×1]\u001b[39;00m\n\u001b[1;32m      3\u001b[0m u_true \u001b[38;5;241m=\u001b[39m \u001b[38;5;241m0.5\u001b[39m\u001b[38;5;241m*\u001b[39mt_data\u001b[38;5;241m*\u001b[39m\u001b[38;5;241m*\u001b[39m\u001b[38;5;241m2\u001b[39m \u001b[38;5;241m+\u001b[39m t_data\n\u001b[1;32m      4\u001b[0m noise \u001b[38;5;241m=\u001b[39m \u001b[38;5;241m0.1\u001b[39m\n",
      "\u001b[0;31mNameError\u001b[0m: name 'torch' is not defined"
     ]
    }
   ],
   "source": [
    "# sensor data\n",
    "t_data = torch.linspace(0., 5., 50).unsqueeze(-1)          # [50×1]\n",
    "u_true = 0.5*t_data**2 + t_data\n",
    "noise = 0.1\n",
    "u_data = u_true + noise * torch.randn_like(u_true)\n",
    "\n",
    "# collocation for PDE residual\n",
    "t_f = torch.linspace(0., 5., 70).unsqueeze(-1).requires_grad_(True)\n",
    "\n",
    "# initial condition point\n",
    "t_ic = torch.tensor([[0.0]], requires_grad=True)"
   ]
  },
  {
   "cell_type": "code",
   "execution_count": null,
   "id": "9de1d578",
   "metadata": {},
   "outputs": [],
   "source": [
    "def model(t_data, u_data, t_f, t_ic):\n",
    "\n",
    "    # Priors over all NN parameters\n",
    "    priors = {}\n",
    "    for name, param in pinn.named_parameters():\n",
    "        priors[name] = dist.Normal(0., 10.).expand(param.shape).to_event(param.dim())\n",
    "\n",
    "    # create a “randomized” BNN\n",
    "    bnn = pyro.random_module(\"bnn\", pinn, priors)()\n",
    "\n",
    "    # 3.2 Sensor‑data likelihood\n",
    "    sigma_obs = pyro.sample(\"sigma_obs\", dist.Uniform(1e-3, 5.0))\n",
    "    u_pred = bnn(t_data).squeeze(-1)\n",
    "\n",
    "    \n",
    "    with pyro.plate(\"data\", t_data.shape[0]):\n",
    "        pyro.sample(\"obs\",dist.Normal(u_pred, sigma_obs),obs=u_data.squeeze(-1))\n",
    "\n",
    "    # 3.3 Physics residuals: du/dt – t ≈ 0\n",
    "    # u_f = bnn(t_f)\n",
    "    # du_dt = torch.autograd.grad(u_f, t_f,\n",
    "    #                             grad_outputs=torch.ones_like(u_f),\n",
    "    #                             create_graph=True, allow_unused=None)[0]\n",
    "    # r_phy = (du_dt.squeeze(-1) - t_f.squeeze(-1))\n",
    "    # sigma_phy = pyro.sample(\"sigma_phy\", dist.Uniform(1e-3, 1.0))\n",
    "    # with pyro.plate(\"physics\", t_f.shape[0]):\n",
    "    #     pyro.sample(\"phy\",\n",
    "    #                 dist.Normal(r_phy, sigma_phy),\n",
    "    #                 obs=torch.zeros_like(r_phy))\n",
    "\n",
    "\n",
    "    # Physics Residuals\n",
    "\n",
    "    sigma_phy = pyro.sample(\"sigma_phy\", dist.Uniform(1e-3, 5.0))\n",
    "\n",
    "    # make sure t_f is set up for autograd\n",
    "    t_f = t_f.detach().requires_grad_(True)\n",
    "    with torch.enable_grad():\n",
    "        u_f   = bnn(t_f)                           \n",
    "        du_dt = torch.autograd.grad(u_f, t_f,grad_outputs=torch.ones_like(u_f),create_graph=True)[0]\n",
    "\n",
    "    res_pde = (du_dt.squeeze(-1) - t_f.squeeze(-1))\n",
    "\n",
    "    with pyro.plate(\"physics\", t_f.shape[0]):\n",
    "        pyro.sample(\"phy\",dist.Normal(res_pde, sigma_phy).to_event(1),obs=torch.zeros_like(res_pde))\n",
    "\n",
    "\n",
    "\n",
    "    # Initial‐condition residual\n",
    "    sigma_ic = pyro.sample(\"sigma_ic\", dist.Uniform(1e-3, 5.0))\n",
    "    t_ic = t_ic.detach().requires_grad_(True)\n",
    "    with torch.enable_grad():\n",
    "        u0 = bnn(t_ic).squeeze(-1)\n",
    "    pyro.sample(\"ic\",dist.Normal(u0, sigma_ic),obs=torch.tensor(0.0))\n",
    "\n",
    "    # # 3.4 Initial condition residual: u(0) = 0\n",
    "    # u0 = bnn(t_ic).squeeze(-1)\n",
    "    # sigma_ic = pyro.sample(\"sigma_ic\", dist.Uniform(1e-3, 1.0))\n",
    "    # pyro.sample(\"ic\",\n",
    "    #             dist.Normal(u0, sigma_ic),\n",
    "    #             obs=torch.tensor(0.0))\n",
    "\n",
    "\n"
   ]
  },
  {
   "cell_type": "code",
   "execution_count": 46,
   "id": "5640ad29",
   "metadata": {},
   "outputs": [
    {
     "name": "stderr",
     "output_type": "stream",
     "text": [
      "Warmup:   0%|          | 0/300 [00:00, ?it/s]/home/soumik/.local/lib/python3.10/site-packages/pyro/primitives.py:526: FutureWarning: The `random_module` primitive is deprecated, and will be removed in a future release. Use `pyro.nn.Module` to create Bayesian modules from `torch.nn.Module` instances.\n",
      "  warnings.warn(\n",
      "Sample: 100%|██████████| 300/300 [14:56,  2.99s/it, step size=3.94e-05, acc. prob=0.566]\n"
     ]
    }
   ],
   "source": [
    "pyro.clear_param_store()\n",
    "nuts = NUTS(model, adapt_step_size=True)\n",
    "mcmc = MCMC(nuts, num_samples=200, warmup_steps=100)\n",
    "mcmc.run(t_data, u_data, t_f, t_ic)\n",
    "\n",
    "# extract posterior samples\n",
    "posterior_samples = mcmc.get_samples()"
   ]
  },
  {
   "cell_type": "code",
   "execution_count": 47,
   "id": "aa539f11",
   "metadata": {},
   "outputs": [
    {
     "name": "stdout",
     "output_type": "stream",
     "text": [
      "σ_obs: tensor(4.4205)\n",
      "σ_phy: tensor(0.0010)\n",
      "σ_ic : tensor(3.3927)\n"
     ]
    }
   ],
   "source": [
    "print(\"σ_obs:\", posterior_samples['sigma_obs'].mean())\n",
    "print(\"σ_phy:\", posterior_samples['sigma_phy'].mean())\n",
    "print(\"σ_ic :\", posterior_samples['sigma_ic'].mean())"
   ]
  },
  {
   "cell_type": "code",
   "execution_count": 48,
   "id": "93feb6b1",
   "metadata": {},
   "outputs": [
    {
     "name": "stdout",
     "output_type": "stream",
     "text": [
      "Number of posterior draws: 200\n",
      "  unique entries in first weight matrix: 200 distinct samples\n"
     ]
    }
   ],
   "source": [
    "# 1) Check how many draws you actually have:\n",
    "N = posterior_samples[\"bnn$$$net.0.weight\"].shape[0]\n",
    "print(\"Number of posterior draws:\", N)\n",
    "\n",
    "# 2) Make sure there really *are* multiple, different draws:\n",
    "w0 = posterior_samples[\"bnn$$$net.0.weight\"]            # shape [N, hidden, 1]\n",
    "print(\"  unique entries in first weight matrix:\",\n",
    "      w0.view(N, -1)                # flatten each draw\n",
    "        .unique(dim=0)              # row‑wise unique\n",
    "        .shape[0], \"distinct samples\")"
   ]
  },
  {
   "cell_type": "code",
   "execution_count": 49,
   "id": "23aa3326",
   "metadata": {},
   "outputs": [
    {
     "name": "stdout",
     "output_type": "stream",
     "text": [
      "torch.Size([200, 50, 1])\n"
     ]
    },
    {
     "data": {
      "text/plain": [
       "(array([12., 44., 44.,  8., 34., 33., 15.,  4.,  3.,  3.]),\n",
       " array([-0.387712  , -0.38736296, -0.38701388, -0.38666484, -0.38631576,\n",
       "        -0.38596672, -0.38561767, -0.3852686 , -0.38491955, -0.38457048,\n",
       "        -0.38422143]),\n",
       " <BarContainer object of 10 artists>)"
      ]
     },
     "execution_count": 49,
     "metadata": {},
     "output_type": "execute_result"
    },
    {
     "data": {
      "image/png": "[encoded data removed]",
      "text/plain": [
       "<Figure size 640x480 with 1 Axes>"
      ]
     },
     "metadata": {},
     "output_type": "display_data"
    }
   ],
   "source": [
    "\n",
    "print(w0.shape)\n",
    "plt.hist(w0[:,0,:])"
   ]
  },
  {
   "cell_type": "code",
   "execution_count": 51,
   "id": "ce20069a",
   "metadata": {},
   "outputs": [
    {
     "name": "stdout",
     "output_type": "stream",
     "text": [
      "{}\n"
     ]
    }
   ],
   "source": [
    "from pyro.infer import Predictive\n",
    "\n",
    "predictive = Predictive(model=pinn, posterior_samples=mcmc.get_samples())\n",
    "t_test = torch.linspace(0., 5., 100).unsqueeze(-1)\n",
    "preds = predictive(t_test)\n",
    "\n",
    "print(preds)"
   ]
  },
  {
   "cell_type": "code",
   "execution_count": 38,
   "id": "a2528763",
   "metadata": {},
   "outputs": [
    {
     "ename": "TypeError",
     "evalue": "'module' object is not callable",
     "output_type": "error",
     "traceback": [
      "\u001b[0;31m---------------------------------------------------------------------------\u001b[0m",
      "\u001b[0;31mTypeError\u001b[0m                                 Traceback (most recent call last)",
      "Cell \u001b[0;32mIn[38], line 10\u001b[0m\n\u001b[1;32m      8\u001b[0m     sampled_params \u001b[38;5;241m=\u001b[39m {k: posterior_samples[k][i] \u001b[38;5;28;01mfor\u001b[39;00m k \u001b[38;5;129;01min\u001b[39;00m posterior_samples \u001b[38;5;28;01mif\u001b[39;00m k\u001b[38;5;241m.\u001b[39mstartswith(\u001b[38;5;124m\"\u001b[39m\u001b[38;5;124mbnn\u001b[39m\u001b[38;5;124m\"\u001b[39m)}\n\u001b[1;32m      9\u001b[0m     \u001b[38;5;66;03m# sampled_net = pyro.random_module(\"bnn_predict\", pinn, sampled_params)()\u001b[39;00m\n\u001b[0;32m---> 10\u001b[0m     sampled_net \u001b[38;5;241m=\u001b[39m \u001b[43mpyro\u001b[49m\u001b[38;5;241;43m.\u001b[39;49m\u001b[43minfer\u001b[49m\u001b[38;5;241;43m.\u001b[39;49m\u001b[43mpredictive\u001b[49m\u001b[43m(\u001b[49m\u001b[38;5;124;43m\"\u001b[39;49m\u001b[38;5;124;43mbnn_predict\u001b[39;49m\u001b[38;5;124;43m\"\u001b[39;49m\u001b[43m,\u001b[49m\u001b[43m \u001b[49m\u001b[43mpinn\u001b[49m\u001b[43m,\u001b[49m\u001b[43m \u001b[49m\u001b[43msampled_params\u001b[49m\u001b[43m)\u001b[49m()\n\u001b[1;32m     12\u001b[0m     all_u\u001b[38;5;241m.\u001b[39mappend(sampled_net(t_test)\u001b[38;5;241m.\u001b[39mdetach()\u001b[38;5;241m.\u001b[39msqueeze(\u001b[38;5;241m-\u001b[39m\u001b[38;5;241m1\u001b[39m))\n\u001b[1;32m     14\u001b[0m all_u \u001b[38;5;241m=\u001b[39m torch\u001b[38;5;241m.\u001b[39mstack(all_u)  \u001b[38;5;66;03m# [50×100]\u001b[39;00m\n",
      "\u001b[0;31mTypeError\u001b[0m: 'module' object is not callable"
     ]
    }
   ],
   "source": [
    "# sample 50 network parameters from the posterior\n",
    "idx = torch.randperm(posterior_samples[\"bnn$$$net.0.weight\"].shape[0])\n",
    "t_test = torch.linspace(0., 5., 100).unsqueeze(-1)\n",
    "\n",
    "all_u = []\n",
    "for i in idx:\n",
    "    # load one draw into a fresh network\n",
    "    sampled_params = {k: posterior_samples[k][i] for k in posterior_samples if k.startswith(\"bnn\")}\n",
    "    # sampled_net = pyro.random_module(\"bnn_predict\", pinn, sampled_params)()\n",
    "    sampled_net = pyro.infer.predictive(\"bnn_predict\", pinn, sampled_params)()\n",
    "\n",
    "    all_u.append(sampled_net(t_test).detach().squeeze(-1))\n",
    "\n",
    "all_u = torch.stack(all_u)  # [50×100]\n",
    "print(all_u.shape)\n",
    "u_mean = all_u.mean(0)\n",
    "u_std  = all_u.std(0)\n",
    "\n",
    "print(idx)"
   ]
  },
  {
   "cell_type": "code",
   "execution_count": 36,
   "id": "35255692",
   "metadata": {},
   "outputs": [
    {
     "data": {
      "text/plain": [
       "<matplotlib.image.AxesImage at 0x7f33508a7580>"
      ]
     },
     "execution_count": 36,
     "metadata": {},
     "output_type": "execute_result"
    },
    {
     "data": {
      "image/png": "[encoded data removed]",
      "text/plain": [
       "<Figure size 640x480 with 1 Axes>"
      ]
     },
     "metadata": {},
     "output_type": "display_data"
    }
   ],
   "source": [
    "plt.imshow(all_u)"
   ]
  },
  {
   "cell_type": "code",
   "execution_count": 30,
   "id": "98e9568c",
   "metadata": {},
   "outputs": [
    {
     "name": "stdout",
     "output_type": "stream",
     "text": [
      "Posterior mean at test points: tensor([-0.0129, -0.0046,  0.0035,  0.0115,  0.0194,  0.0271,  0.0348,  0.0423,\n",
      "         0.0497,  0.0571,  0.0644,  0.0717,  0.0789,  0.0861,  0.0932,  0.1003,\n",
      "         0.1074,  0.1145,  0.1215,  0.1285,  0.1355,  0.1424,  0.1492,  0.1560,\n",
      "         0.1626,  0.1692,  0.1756,  0.1819,  0.1881,  0.1941,  0.2000,  0.2057,\n",
      "         0.2112,  0.2165,  0.2216,  0.2265,  0.2312,  0.2357,  0.2401,  0.2442,\n",
      "         0.2481,  0.2518,  0.2554,  0.2587,  0.2619,  0.2649,  0.2677,  0.2704,\n",
      "         0.2730,  0.2753,  0.2776,  0.2797,  0.2817,  0.2835,  0.2853,  0.2869,\n",
      "         0.2885,  0.2899,  0.2913,  0.2926,  0.2938,  0.2949,  0.2960,  0.2970,\n",
      "         0.2979,  0.2988,  0.2996,  0.3003,  0.3011,  0.3017,  0.3023,  0.3029,\n",
      "         0.3035,  0.3040,  0.3045,  0.3049,  0.3053,  0.3057,  0.3060,  0.3063,\n",
      "         0.3066,  0.3069,  0.3072,  0.3074,  0.3076,  0.3078,  0.3080,  0.3081,\n",
      "         0.3083,  0.3084,  0.3085,  0.3086,  0.3086,  0.3087,  0.3087,  0.3088,\n",
      "         0.3088,  0.3088,  0.3088,  0.3088])\n",
      "Posterior std at test points: tensor([0., 0., 0., 0., 0., 0., 0., 0., 0., 0., 0., 0., 0., 0., 0., 0., 0., 0., 0., 0., 0., 0., 0., 0.,\n",
      "        0., 0., 0., 0., 0., 0., 0., 0., 0., 0., 0., 0., 0., 0., 0., 0., 0., 0., 0., 0., 0., 0., 0., 0.,\n",
      "        0., 0., 0., 0., 0., 0., 0., 0., 0., 0., 0., 0., 0., 0., 0., 0., 0., 0., 0., 0., 0., 0., 0., 0.,\n",
      "        0., 0., 0., 0., 0., 0., 0., 0., 0., 0., 0., 0., 0., 0., 0., 0., 0., 0., 0., 0., 0., 0., 0., 0.,\n",
      "        0., 0., 0., 0.])\n"
     ]
    }
   ],
   "source": [
    "print(\"Posterior mean at test points:\", u_mean)\n",
    "print(\"Posterior std at test points:\", u_std)"
   ]
  },
  {
   "cell_type": "code",
   "execution_count": 16,
   "id": "055f7cfa",
   "metadata": {},
   "outputs": [
    {
     "data": {
      "image/png": "[encoded data removed]",
      "text/plain": [
       "<Figure size 640x480 with 1 Axes>"
      ]
     },
     "metadata": {},
     "output_type": "display_data"
    }
   ],
   "source": [
    "plt.figure()\n",
    "# predictive mean\n",
    "plt.plot(t_test.numpy(), u_mean.numpy(), label='Predictive mean')\n",
    "# ±2σ uncertainty band\n",
    "plt.fill_between(\n",
    "    t_test.numpy().ravel(),\n",
    "    (u_mean - 2*u_std).numpy(),\n",
    "    (u_mean + 2*u_std).numpy(),\n",
    "    alpha=0.3,\n",
    "    label='Uncertainty (±2σ)'\n",
    ")\n",
    "# sensor data\n",
    "plt.scatter(t_data.numpy(), u_data.numpy(), marker='x', label='Sensor data')\n",
    "\n",
    "plt.xlabel('t')\n",
    "plt.ylabel('u(t)')\n",
    "plt.title('Bayesian PINN Posterior Predictive')\n",
    "plt.legend()\n",
    "plt.show()"
   ]
  }
 ],
 "metadata": {
  "kernelspec": {
   "display_name": "pyro_env",
   "language": "python",
   "name": "python3"
  },
  "language_info": {
   "codemirror_mode": {
    "name": "ipython",
    "version": 3
   },
   "file_extension": ".py",
   "mimetype": "text/x-python",
   "name": "python",
   "nbconvert_exporter": "python",
   "pygments_lexer": "ipython3",
   "version": "3.10.18"
  }
 },
 "nbformat": 4,
 "nbformat_minor": 5
}
