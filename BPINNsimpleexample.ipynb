{
 "cells": [
  {
   "cell_type": "code",
   "execution_count": 48,
   "id": "e372b887",
   "metadata": {},
   "outputs": [],
   "source": [
    "import torch\n",
    "import torch.nn as nn\n",
    "import pyro\n",
    "import pyro.distributions as dist\n",
    "from pyro.infer import HMC,MCMC, NUTS\n",
    "from torch.autograd import grad\n",
    "import numpy as np\n",
    "\n",
    "\n",
    "import matplotlib.pyplot as plt"
   ]
  },
  {
   "cell_type": "code",
   "execution_count": 49,
   "id": "80ea3b82",
   "metadata": {},
   "outputs": [
    {
     "name": "stdout",
     "output_type": "stream",
     "text": [
      "device: cuda:0\n"
     ]
    }
   ],
   "source": [
    "device = torch.device('cuda:0' if torch.cuda.is_available() else 'cpu')\n",
    "#device = torch.device('cpu')\n",
    "print(f'device: {device}')"
   ]
  },
  {
   "cell_type": "code",
   "execution_count": 50,
   "id": "4b572b53",
   "metadata": {},
   "outputs": [],
   "source": [
    "class PINN(nn.Module):\n",
    "    def __init__(self):\n",
    "        super().__init__()\n",
    "        self.net = nn.Sequential(\n",
    "            nn.Linear(1, 50), nn.Tanh(),\n",
    "            nn.Linear(50, 50), nn.Tanh(),\n",
    "            nn.Linear(50, 1)\n",
    "        )\n",
    "    def forward(self, t):\n",
    "        return self.net(t)\n",
    "    \n",
    "\n",
    "\n",
    "pinn = PINN()"
   ]
  },
  {
   "cell_type": "code",
   "execution_count": 51,
   "id": "3b52eef4",
   "metadata": {},
   "outputs": [],
   "source": [
    "# sensor data\n",
    "t_data = torch.linspace(0., 5., 50).unsqueeze(-1)          # [50×1]\n",
    "u_true = 0.5*t_data**2 + t_data\n",
    "noise = 0.1\n",
    "u_data = u_true + noise * torch.randn_like(u_true)\n",
    "\n",
    "# collocation for PDE residual\n",
    "t_f = torch.linspace(0., 5., 70).unsqueeze(-1).requires_grad_(True)\n",
    "\n",
    "# initial condition point\n",
    "t_ic = torch.tensor([[0.0]], requires_grad=True)"
   ]
  },
  {
   "cell_type": "code",
   "execution_count": 53,
   "id": "9de1d578",
   "metadata": {},
   "outputs": [],
   "source": [
    "def model(t_data, u_data, t_f, t_ic):\n",
    "\n",
    "    # Priors over all NN parameters\n",
    "    priors = {}\n",
    "    for name, param in pinn.named_parameters():\n",
    "        priors[name] = dist.Normal(0., 10.).expand(param.shape).to_event(param.dim())\n",
    "\n",
    "    # create a “randomized” BNN\n",
    "    bnn = pyro.random_module(\"bnn\", pinn, priors)()\n",
    "\n",
    "    # 3.2 Sensor‑data likelihood\n",
    "    sigma_obs = pyro.sample(\"sigma_obs\", dist.Uniform(1e-3, 5.0))\n",
    "    u_pred = bnn(t_data).squeeze(-1)\n",
    "    with pyro.plate(\"data\", t_data.shape[0]):\n",
    "        pyro.sample(\"obs\",dist.Normal(u_pred, sigma_obs),obs=u_data.squeeze(-1))\n",
    "\n",
    "    # 3.3 Physics residuals: du/dt – t ≈ 0\n",
    "    # u_f = bnn(t_f)\n",
    "    # du_dt = torch.autograd.grad(u_f, t_f,\n",
    "    #                             grad_outputs=torch.ones_like(u_f),\n",
    "    #                             create_graph=True, allow_unused=None)[0]\n",
    "    # r_phy = (du_dt.squeeze(-1) - t_f.squeeze(-1))\n",
    "    # sigma_phy = pyro.sample(\"sigma_phy\", dist.Uniform(1e-3, 1.0))\n",
    "    # with pyro.plate(\"physics\", t_f.shape[0]):\n",
    "    #     pyro.sample(\"phy\",\n",
    "    #                 dist.Normal(r_phy, sigma_phy),\n",
    "    #                 obs=torch.zeros_like(r_phy))\n",
    "\n",
    "\n",
    "    # Physics Residuals\n",
    "\n",
    "    sigma_phy = pyro.sample(\"sigma_phy\", dist.Uniform(1e-3, 5.0))\n",
    "\n",
    "    # make sure t_f is set up for autograd\n",
    "    t_f = t_f.detach().requires_grad_(True)\n",
    "    with torch.enable_grad():\n",
    "        u_f   = bnn(t_f)                           \n",
    "        du_dt = torch.autograd.grad(u_f, t_f,grad_outputs=torch.ones_like(u_f),create_graph=True)[0]\n",
    "\n",
    "    res_pde = (du_dt.squeeze(-1) - t_f.squeeze(-1))\n",
    "\n",
    "    with pyro.plate(\"physics\", t_f.shape[0]):\n",
    "        pyro.sample(\"phy\",dist.Normal(res_pde, sigma_phy).to_event(1),obs=torch.zeros_like(res_pde))\n",
    "\n",
    "\n",
    "\n",
    "    # Initial‐condition residual\n",
    "    sigma_ic = pyro.sample(\"sigma_ic\", dist.Uniform(1e-3, 5.0))\n",
    "    t_ic = t_ic.detach().requires_grad_(True)\n",
    "    with torch.enable_grad():\n",
    "        u0 = bnn(t_ic).squeeze(-1)\n",
    "    pyro.sample(\"ic\",dist.Normal(u0, sigma_ic),obs=torch.tensor(0.0))\n",
    "\n",
    "    # # 3.4 Initial condition residual: u(0) = 0\n",
    "    # u0 = bnn(t_ic).squeeze(-1)\n",
    "    # sigma_ic = pyro.sample(\"sigma_ic\", dist.Uniform(1e-3, 1.0))\n",
    "    # pyro.sample(\"ic\",\n",
    "    #             dist.Normal(u0, sigma_ic),\n",
    "    #             obs=torch.tensor(0.0))"
   ]
  },
  {
   "cell_type": "code",
   "execution_count": 54,
   "id": "5640ad29",
   "metadata": {},
   "outputs": [
    {
     "name": "stderr",
     "output_type": "stream",
     "text": [
      "Sample: 100%|██████████| 300/300 [04:05,  1.22it/s, step size=8.54e-05, acc. prob=0.086]\n"
     ]
    }
   ],
   "source": [
    "pyro.clear_param_store()\n",
    "nuts = NUTS(model, adapt_step_size=True)\n",
    "mcmc = MCMC(nuts, num_samples=200, warmup_steps=100)\n",
    "mcmc.run(t_data, u_data, t_f, t_ic)\n",
    "\n",
    "# extract posterior samples\n",
    "posterior_samples = mcmc.get_samples()"
   ]
  },
  {
   "cell_type": "code",
   "execution_count": 55,
   "id": "aa539f11",
   "metadata": {},
   "outputs": [
    {
     "name": "stdout",
     "output_type": "stream",
     "text": [
      "σ_obs: tensor(2.2216)\n",
      "σ_phy: tensor(0.0019)\n",
      "σ_ic : tensor(4.3773)\n"
     ]
    }
   ],
   "source": [
    "print(\"σ_obs:\", posterior_samples['sigma_obs'].mean())\n",
    "print(\"σ_phy:\", posterior_samples['sigma_phy'].mean())\n",
    "print(\"σ_ic :\", posterior_samples['sigma_ic'].mean())"
   ]
  },
  {
   "cell_type": "code",
   "execution_count": 56,
   "id": "93feb6b1",
   "metadata": {},
   "outputs": [
    {
     "name": "stdout",
     "output_type": "stream",
     "text": [
      "Number of posterior draws: 200\n",
      "  unique entries in first weight matrix: 141 distinct samples\n"
     ]
    }
   ],
   "source": [
    "# 1) Check how many draws you actually have:\n",
    "N = posterior_samples[\"bnn$$$net.0.weight\"].shape[0]\n",
    "print(\"Number of posterior draws:\", N)\n",
    "\n",
    "# 2) Make sure there really *are* multiple, different draws:\n",
    "w0 = posterior_samples[\"bnn$$$net.0.weight\"]            # shape [N, hidden, 1]\n",
    "print(\"  unique entries in first weight matrix:\",\n",
    "      w0.view(N, -1)                # flatten each draw\n",
    "        .unique(dim=0)              # row‑wise unique\n",
    "        .shape[0], \"distinct samples\")"
   ]
  },
  {
   "cell_type": "code",
   "execution_count": 57,
   "id": "a2528763",
   "metadata": {},
   "outputs": [],
   "source": [
    "# sample 50 network parameters from the posterior\n",
    "idx = torch.randperm(posterior_samples[\"bnn$$$net.0.weight\"].shape[0])[:50]\n",
    "t_test = torch.linspace(0., 5., 100).unsqueeze(-1)\n",
    "\n",
    "all_u = []\n",
    "for i in idx:\n",
    "    # load one draw into a fresh network\n",
    "    sampled_params = {k: posterior_samples[k][i] for k in posterior_samples if k.startswith(\"bnn\")}\n",
    "    sampled_net = pyro.random_module(\"bnn_predict\", pinn, sampled_params)()\n",
    "    all_u.append(sampled_net(t_test).detach().squeeze(-1))\n",
    "\n",
    "all_u = torch.stack(all_u)  # [50×100]\n",
    "u_mean = all_u.mean(0)\n",
    "u_std  = all_u.std(0)"
   ]
  },
  {
   "cell_type": "code",
   "execution_count": 58,
   "id": "98e9568c",
   "metadata": {},
   "outputs": [
    {
     "name": "stdout",
     "output_type": "stream",
     "text": [
      "Posterior mean at test points: tensor([-0.0622, -0.0573, -0.0524, -0.0477, -0.0431, -0.0386, -0.0344, -0.0303,\n",
      "        -0.0264, -0.0226, -0.0191, -0.0158, -0.0126, -0.0097, -0.0069, -0.0043,\n",
      "        -0.0018,  0.0005,  0.0027,  0.0047,  0.0066,  0.0085,  0.0102,  0.0119,\n",
      "         0.0135,  0.0151,  0.0166,  0.0180,  0.0194,  0.0207,  0.0221,  0.0233,\n",
      "         0.0246,  0.0258,  0.0270,  0.0282,  0.0293,  0.0304,  0.0315,  0.0326,\n",
      "         0.0337,  0.0347,  0.0357,  0.0367,  0.0377,  0.0387,  0.0396,  0.0406,\n",
      "         0.0415,  0.0424,  0.0433,  0.0441,  0.0450,  0.0458,  0.0466,  0.0474,\n",
      "         0.0481,  0.0489,  0.0496,  0.0503,  0.0510,  0.0517,  0.0523,  0.0530,\n",
      "         0.0536,  0.0541,  0.0547,  0.0553,  0.0558,  0.0563,  0.0568,  0.0572,\n",
      "         0.0577,  0.0581,  0.0585,  0.0588,  0.0592,  0.0595,  0.0598,  0.0601,\n",
      "         0.0604,  0.0606,  0.0608,  0.0610,  0.0612,  0.0614,  0.0615,  0.0616,\n",
      "         0.0617,  0.0618,  0.0619,  0.0619,  0.0620,  0.0620,  0.0620,  0.0620,\n",
      "         0.0619,  0.0619,  0.0618,  0.0617])\n",
      "Posterior std at test points: tensor([0., 0., 0., 0., 0., 0., 0., 0., 0., 0., 0., 0., 0., 0., 0., 0., 0., 0., 0., 0., 0., 0., 0., 0.,\n",
      "        0., 0., 0., 0., 0., 0., 0., 0., 0., 0., 0., 0., 0., 0., 0., 0., 0., 0., 0., 0., 0., 0., 0., 0.,\n",
      "        0., 0., 0., 0., 0., 0., 0., 0., 0., 0., 0., 0., 0., 0., 0., 0., 0., 0., 0., 0., 0., 0., 0., 0.,\n",
      "        0., 0., 0., 0., 0., 0., 0., 0., 0., 0., 0., 0., 0., 0., 0., 0., 0., 0., 0., 0., 0., 0., 0., 0.,\n",
      "        0., 0., 0., 0.])\n"
     ]
    }
   ],
   "source": [
    "print(\"Posterior mean at test points:\", u_mean)\n",
    "print(\"Posterior std at test points:\", u_std)"
   ]
  },
  {
   "cell_type": "code",
   "execution_count": 59,
   "id": "055f7cfa",
   "metadata": {},
   "outputs": [
    {
     "data": {
      "image/png": "[encoded data removed]",
      "text/plain": [
       "<Figure size 640x480 with 1 Axes>"
      ]
     },
     "metadata": {},
     "output_type": "display_data"
    }
   ],
   "source": [
    "plt.figure()\n",
    "# predictive mean\n",
    "plt.plot(t_test.numpy(), u_mean.numpy(), label='Predictive mean')\n",
    "# ±2σ uncertainty band\n",
    "plt.fill_between(\n",
    "    t_test.numpy().ravel(),\n",
    "    (u_mean - 2*u_std).numpy(),\n",
    "    (u_mean + 2*u_std).numpy(),\n",
    "    alpha=0.3,\n",
    "    label='Uncertainty (±2σ)'\n",
    ")\n",
    "# sensor data\n",
    "plt.scatter(t_data.numpy(), u_data.numpy(), marker='x', label='Sensor data')\n",
    "\n",
    "plt.xlabel('t')\n",
    "plt.ylabel('u(t)')\n",
    "plt.title('Bayesian PINN Posterior Predictive')\n",
    "plt.legend()\n",
    "plt.show()"
   ]
  }
 ],
 "metadata": {
  "kernelspec": {
   "display_name": "pyro_env",
   "language": "python",
   "name": "python3"
  },
  "language_info": {
   "codemirror_mode": {
    "name": "ipython",
    "version": 3
   },
   "file_extension": ".py",
   "mimetype": "text/x-python",
   "name": "python",
   "nbconvert_exporter": "python",
   "pygments_lexer": "ipython3",
   "version": "3.10.18"
  }
 },
 "nbformat": 4,
 "nbformat_minor": 5
}
