{
  "nbformat": 4,
  "nbformat_minor": 0,
  "metadata": {
    "colab": {
      "provenance": [],
      "gpuType": "T4",
      "authorship_tag": "ABX9TyNURMP2Du29TJnRM/w/zLMt",
      "include_colab_link": true
    },
    "kernelspec": {
      "name": "python3",
      "display_name": "Python 3"
    },
    "language_info": {
      "name": "python"
    },
    "accelerator": "GPU"
  },
  "cells": [
    {
      "cell_type": "markdown",
      "metadata": {
        "id": "view-in-github",
        "colab_type": "text"
      },
      "source": [
        "<a href=\"https://colab.research.google.com/github/SoumikSarkar830/Laser_PINN/blob/main/LaserPINN_Zigzag.ipynb\" target=\"_parent\"><img src=\"https://colab.research.google.com/assets/colab-badge.svg\" alt=\"Open In Colab\"/></a>"
      ]
    },
    {
      "cell_type": "code",
      "execution_count": 2,
      "metadata": {
        "id": "rKeqcPG_ZY0z"
      },
      "outputs": [],
      "source": [
        "import torch\n",
        "import torch.nn as nn\n",
        "import torch.optim as optim\n",
        "import numpy as np\n",
        "import matplotlib.pyplot as plt\n",
        "device = torch.device(\"cuda\" if torch.cuda.is_available() else \"cpu\")"
      ]
    },
    {
      "cell_type": "code",
      "source": [
        "class PINN(nn.Module):\n",
        "    def __init__(self):\n",
        "      super(PINN, self).__init__()\n",
        "      self.net = nn.Sequential(\n",
        "          nn.Linear(3, 100),  # x,y,t as inputs\n",
        "          nn.Tanh(),\n",
        "          nn.Linear(100, 100),\n",
        "          nn.Tanh(),\n",
        "          nn.Linear(100, 100),\n",
        "          nn.Tanh(),\n",
        "          nn.Linear(100, 100),\n",
        "          nn.Tanh(),\n",
        "          nn.Linear(100, 1)  # Temparaure T as output\n",
        "      )\n",
        "\n",
        "    def forward(self, x):\n",
        "      return self.net(x)\n"
      ],
      "metadata": {
        "id": "yCgQ1UUgZsWp"
      },
      "execution_count": 3,
      "outputs": []
    },
    {
      "cell_type": "code",
      "source": [
        "model = PINN()\n",
        "model.to(device)"
      ],
      "metadata": {
        "id": "ly0Y6Vn6aWXW",
        "colab": {
          "base_uri": "https://localhost:8080/"
        },
        "outputId": "d42baefc-36e4-4995-a4ef-899e692863c5"
      },
      "execution_count": 4,
      "outputs": [
        {
          "output_type": "execute_result",
          "data": {
            "text/plain": [
              "PINN(\n",
              "  (net): Sequential(\n",
              "    (0): Linear(in_features=3, out_features=100, bias=True)\n",
              "    (1): Tanh()\n",
              "    (2): Linear(in_features=100, out_features=100, bias=True)\n",
              "    (3): Tanh()\n",
              "    (4): Linear(in_features=100, out_features=100, bias=True)\n",
              "    (5): Tanh()\n",
              "    (6): Linear(in_features=100, out_features=100, bias=True)\n",
              "    (7): Tanh()\n",
              "    (8): Linear(in_features=100, out_features=1, bias=True)\n",
              "  )\n",
              ")"
            ]
          },
          "metadata": {},
          "execution_count": 4
        }
      ]
    },
    {
      "cell_type": "code",
      "source": [
        "stefanBoltz = 5.670373e-8\n",
        "hCoeff = 1\n",
        "emiss = .5\n",
        "ta = 300"
      ],
      "metadata": {
        "id": "U0CkMQb0_jpP"
      },
      "execution_count": 5,
      "outputs": []
    },
    {
      "cell_type": "code",
      "source": [
        "def heat_loss(model, x, y, t, alpha = 0.01):\n",
        "\n",
        "    # PDE Loss\n",
        "\n",
        "    inputs = (torch.cat((x, y, t), dim=1))\n",
        "    T = model(inputs)\n",
        "\n",
        "    dT_dx = torch.autograd.grad(T, x, torch.ones_like(T), create_graph=True)[0]\n",
        "    dT_dy = torch.autograd.grad(T, y, torch.ones_like(T), create_graph=True)[0]\n",
        "    dT_dt = torch.autograd.grad(T, t, torch.ones_like(T), create_graph=True)[0]\n",
        "\n",
        "    dT_dx2 = torch.autograd.grad(dT_dx, x, torch.ones_like(dT_dx), create_graph=True)[0]\n",
        "    dT_dy2 = torch.autograd.grad(dT_dy, y, torch.ones_like(dT_dy), create_graph=True)[0]\n",
        "\n",
        "    laser_heat = 2 * (emiss * stefanBoltz * (T**4 - ta**4) + hCoeff * (T - ta))\n",
        "\n",
        "    residual = dT_dt - alpha * (dT_dx2 + dT_dy2) - laser_heat\n",
        "    pde_loss = torch.mean(residual**2)\n",
        "\n",
        "\n",
        "    # Dirichlet Boundary Conditions\n",
        "\n",
        "    fixed_T = 100.0\n",
        "    bc_x = (x == 0) | (x == 1)\n",
        "    bc_y = (y == 0) | (y == 1)\n",
        "\n",
        "    bc_loss = torch.mean((model(torch.cat([x[bc_x].reshape(-1, 1), y[bc_x].reshape(-1, 1), t[bc_x].reshape(-1, 1)], dim=1)) - fixed_T)**2)\n",
        "\n",
        "    # Neumann Boundary Conditions\n",
        "\n",
        "    neumann_loss_x = torch.mean(dT_dx[bc_x]**2)\n",
        "    neumann_loss_y = torch.mean(dT_dy[bc_y]**2)\n",
        "    neumann_loss = neumann_loss_x + neumann_loss_y\n",
        "\n",
        "    return pde_loss + bc_loss + neumann_loss\n",
        "\n",
        "\n",
        "\n",
        "\n",
        "\n",
        "\n"
      ],
      "metadata": {
        "id": "RTYSG6FBadrZ"
      },
      "execution_count": 6,
      "outputs": []
    },
    {
      "cell_type": "code",
      "source": [
        "grid_size = 100\n",
        "time_steps = 100\n",
        "\n",
        "x_data, y_data, t_data = [],[],[]\n",
        "laser_path = []\n",
        "\n",
        "for i in range(grid_size // 5):\n",
        "    y = i / (grid_size // 5)\n",
        "    # Left to right\n",
        "    for x in np.linspace(0, 1, grid_size):\n",
        "        laser_path.append((x, y))\n",
        "    # Right to left for the next hatch if there is one\n",
        "    if i + 1 < grid_size // 5:\n",
        "        i += 1\n",
        "        y = i / (grid_size // 5)\n",
        "        for x in np.linspace(1, 0, grid_size):\n",
        "            laser_path.append((x, y))\n",
        "\n",
        "for t in range(time_steps):\n",
        "    for pos in laser_path:\n",
        "        x_data.append(pos[0])\n",
        "        y_data.append(pos[1])\n",
        "        t_data.append(t / time_steps)  # Normalize time\n",
        "\n",
        "x_data = torch.tensor(x_data, dtype=torch.float32).view(-1, 1).requires_grad_(True).to(device)\n",
        "y_data = torch.tensor(y_data, dtype=torch.float32).view(-1, 1).requires_grad_(True).to(device)\n",
        "t_data = torch.tensor(t_data, dtype=torch.float32).view(-1, 1).requires_grad_(True).to(device)"
      ],
      "metadata": {
        "id": "UpEctEYF2GDc"
      },
      "execution_count": 7,
      "outputs": []
    },
    {
      "cell_type": "code",
      "source": [
        "optimizer = optim.Adam(model.parameters(), lr=0.01)"
      ],
      "metadata": {
        "id": "lGdfPgJHCqm-"
      },
      "execution_count": 8,
      "outputs": []
    },
    {
      "cell_type": "code",
      "source": [
        "epochs = 10000\n",
        "\n",
        "for epoch in range(epochs):\n",
        "    optimizer.zero_grad()\n",
        "    loss = heat_loss(model, x_data, y_data, t_data)\n",
        "    loss.backward()\n",
        "    optimizer.step()\n",
        "\n",
        "    if epoch % 100 == 0:\n",
        "        print(f'Epoch {epoch}, Loss: {loss.item()}')\n",
        "\n",
        "# Testing the trained model\n",
        "\n",
        "x_test = torch.linspace(0, 1, 100).view(-1, 1).to(device)\n",
        "y_test = torch.linspace(0, 1, 100).view(-1, 1).to(device)\n",
        "t_test = torch.zeros_like(x_test).to(device)\n",
        "\n",
        "with torch.no_grad():\n",
        "    T_train_pred = model(torch.cat((x_data, y_data, t_data), dim=1))\n",
        "\n",
        "\n",
        "\n",
        "plt.figure(figsize=(8, 8))\n",
        "plt.scatter(x_data.detach().cpu().numpy(), y_data.detach().cpu().numpy(), c=T_train_pred.detach().cpu().numpy(), cmap='viridis')\n",
        "plt.colorbar(label='Temperature')\n",
        "plt.xlabel('X')\n",
        "plt.ylabel('Y')\n",
        "plt.title('Temperature Distribution')\n",
        "plt.show()"
      ],
      "metadata": {
        "id": "jChWg40d7RjD",
        "colab": {
          "base_uri": "https://localhost:8080/"
        },
        "outputId": "a7b78fdb-d3e7-4b01-aca0-f6b284aa7328"
      },
      "execution_count": null,
      "outputs": [
        {
          "output_type": "stream",
          "name": "stdout",
          "text": [
            "Epoch 0, Loss: 1132026.0\n",
            "Epoch 100, Loss: 718775.0625\n",
            "Epoch 200, Loss: 318554.1875\n",
            "Epoch 300, Loss: 44113.65234375\n",
            "Epoch 400, Loss: 39389.3515625\n",
            "Epoch 500, Loss: 39389.21875\n",
            "Epoch 600, Loss: 39389.21875\n",
            "Epoch 700, Loss: 39389.21875\n",
            "Epoch 800, Loss: 39389.21875\n",
            "Epoch 900, Loss: 39389.21875\n",
            "Epoch 1000, Loss: 39389.21875\n",
            "Epoch 1100, Loss: 39389.21875\n",
            "Epoch 1200, Loss: 39389.21875\n",
            "Epoch 1300, Loss: 39389.21875\n",
            "Epoch 1400, Loss: 39389.21875\n",
            "Epoch 1500, Loss: 39389.21875\n",
            "Epoch 1600, Loss: 39389.21875\n",
            "Epoch 1700, Loss: 39389.21875\n",
            "Epoch 1800, Loss: 39389.21875\n",
            "Epoch 1900, Loss: 39389.21875\n",
            "Epoch 2000, Loss: 39389.21875\n",
            "Epoch 2100, Loss: 39389.21875\n",
            "Epoch 2200, Loss: 39389.21875\n",
            "Epoch 2300, Loss: 39389.21875\n",
            "Epoch 2400, Loss: 39389.21875\n",
            "Epoch 2500, Loss: 39389.21875\n",
            "Epoch 2600, Loss: 39389.21875\n",
            "Epoch 2700, Loss: 39389.21875\n",
            "Epoch 2800, Loss: 39389.21875\n"
          ]
        }
      ]
    }
  ]
}