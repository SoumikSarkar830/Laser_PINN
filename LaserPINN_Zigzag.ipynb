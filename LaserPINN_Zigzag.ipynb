{
  "nbformat": 4,
  "nbformat_minor": 0,
  "metadata": {
    "colab": {
      "provenance": [],
      "gpuType": "T4",
      "authorship_tag": "ABX9TyMyTG/hlWvkQaugZl0FGFWZ",
      "include_colab_link": true
    },
    "kernelspec": {
      "name": "python3",
      "display_name": "Python 3"
    },
    "language_info": {
      "name": "python"
    },
    "accelerator": "GPU"
  },
  "cells": [
    {
      "cell_type": "markdown",
      "metadata": {
        "id": "view-in-github",
        "colab_type": "text"
      },
      "source": [
        "<a href=\"https://colab.research.google.com/github/SoumikSarkar830/Laser_PINN/blob/main/LaserPINN_Zigzag.ipynb\" target=\"_parent\"><img src=\"https://colab.research.google.com/assets/colab-badge.svg\" alt=\"Open In Colab\"/></a>"
      ]
    },
    {
      "cell_type": "code",
      "execution_count": 1,
      "metadata": {
        "id": "rKeqcPG_ZY0z"
      },
      "outputs": [],
      "source": [
        "import torch\n",
        "import torch.nn as nn\n",
        "import torch.optim as optim\n",
        "import numpy as np\n",
        "import matplotlib.pyplot as plt\n",
        "device = torch.device(\"cuda\" if torch.cuda.is_available() else \"cpu\")"
      ]
    },
    {
      "cell_type": "code",
      "source": [
        "class PINN(nn.Module):\n",
        "    def __init__(self):\n",
        "      super(PINN, self).__init__()\n",
        "      self.net = nn.Sequential(\n",
        "          nn.Linear(3, 100),  # x,y,t as inputs\n",
        "          nn.Tanh(),\n",
        "          nn.Linear(100, 100),\n",
        "          nn.Tanh(),\n",
        "          nn.Linear(100, 100),\n",
        "          nn.Tanh(),\n",
        "          nn.Linear(100, 100),\n",
        "          nn.Tanh(),\n",
        "          nn.Linear(100, 1)  # Temparaure T as output\n",
        "      )\n",
        "\n",
        "    def forward(self, x):\n",
        "      return self.net(x)\n"
      ],
      "metadata": {
        "id": "yCgQ1UUgZsWp"
      },
      "execution_count": 2,
      "outputs": []
    },
    {
      "cell_type": "code",
      "source": [
        "model = PINN()\n",
        "model.to(device)"
      ],
      "metadata": {
        "id": "ly0Y6Vn6aWXW",
        "colab": {
          "base_uri": "https://localhost:8080/"
        },
        "outputId": "1d2b2a0d-81d0-45a1-f319-7246be8362ac"
      },
      "execution_count": 3,
      "outputs": [
        {
          "output_type": "execute_result",
          "data": {
            "text/plain": [
              "PINN(\n",
              "  (net): Sequential(\n",
              "    (0): Linear(in_features=3, out_features=100, bias=True)\n",
              "    (1): Tanh()\n",
              "    (2): Linear(in_features=100, out_features=100, bias=True)\n",
              "    (3): Tanh()\n",
              "    (4): Linear(in_features=100, out_features=100, bias=True)\n",
              "    (5): Tanh()\n",
              "    (6): Linear(in_features=100, out_features=100, bias=True)\n",
              "    (7): Tanh()\n",
              "    (8): Linear(in_features=100, out_features=1, bias=True)\n",
              "  )\n",
              ")"
            ]
          },
          "metadata": {},
          "execution_count": 3
        }
      ]
    },
    {
      "cell_type": "code",
      "source": [
        "stefanBoltz = 5.670373e-8\n",
        "hCoeff = 1\n",
        "emiss = .5\n",
        "ta = 300"
      ],
      "metadata": {
        "id": "U0CkMQb0_jpP"
      },
      "execution_count": 4,
      "outputs": []
    },
    {
      "cell_type": "code",
      "source": [
        "def heat_loss(model, x, y, t, alpha = 0.01):\n",
        "\n",
        "    # PDE Loss\n",
        "\n",
        "    inputs = (torch.cat((x, y, t), dim=1))\n",
        "    T = model(inputs)\n",
        "\n",
        "    dT_dx = torch.autograd.grad(T, x, torch.ones_like(T), create_graph=True)[0]\n",
        "    dT_dy = torch.autograd.grad(T, y, torch.ones_like(T), create_graph=True)[0]\n",
        "    dT_dt = torch.autograd.grad(T, t, torch.ones_like(T), create_graph=True)[0]\n",
        "\n",
        "    dT_dx2 = torch.autograd.grad(dT_dx, x, torch.ones_like(dT_dx), create_graph=True)[0]\n",
        "    dT_dy2 = torch.autograd.grad(dT_dy, y, torch.ones_like(dT_dy), create_graph=True)[0]\n",
        "\n",
        "    laser_heat = 2 * (emiss * stefanBoltz * (T**4 - ta**4) + hCoeff * (T - ta))\n",
        "\n",
        "    residual = dT_dt - alpha * (dT_dx2 + dT_dy2) - laser_heat\n",
        "    pde_loss = torch.mean(residual**2)\n",
        "\n",
        "\n",
        "    # Dirichlet Boundary Conditions\n",
        "\n",
        "    fixed_T = 100.0\n",
        "\n",
        "    tol = 1e-6\n",
        "    zero = torch.tensor(0.0, device=x.device)\n",
        "    one = torch.tensor(1.0, device=x.device)\n",
        "\n",
        "    bc_x = torch.isclose(x, zero, atol=tol) | torch.isclose(x, one, atol=tol)\n",
        "    bc_y = torch.isclose(y, zero, atol=tol) | torch.isclose(y, one, atol=tol)\n",
        "    bc = bc_x | bc_y\n",
        "\n",
        "    bc_loss = torch.mean((model(torch.cat([x[bc].reshape(-1, 1), y[bc].reshape(-1, 1), t[bc].reshape(-1, 1)], dim=1)) - fixed_T)**2)\n",
        "\n",
        "    # Neumann Boundary Conditions\n",
        "\n",
        "    neumann_loss_x = torch.mean(dT_dx[bc_x]**2)\n",
        "    neumann_loss_y = torch.mean(dT_dy[bc_y]**2)\n",
        "    neumann_loss = neumann_loss_x + neumann_loss_y\n",
        "\n",
        "\n",
        "\n",
        "\n",
        "\n",
        "    return pde_loss + bc_loss + neumann_loss\n",
        "\n",
        "\n",
        "\n",
        "\n",
        "\n",
        "\n",
        "\n"
      ],
      "metadata": {
        "id": "RTYSG6FBadrZ"
      },
      "execution_count": 21,
      "outputs": []
    },
    {
      "cell_type": "code",
      "source": [
        "grid_size = 100\n",
        "time_steps = 100\n",
        "\n",
        "n_rows = grid_size // 5\n",
        "\n",
        "x_data, y_data, t_data = [],[],[]\n",
        "laser_path = []\n",
        "\n",
        "for i in range(0,n_rows,2):\n",
        "    y1 = i / n_rows -1\n",
        "    # Left to right\n",
        "    for x in np.linspace(0, 1, grid_size):\n",
        "        laser_path.append((x, y1))\n",
        "    # Right to left for the next hatch if there is one\n",
        "    if i + 1 < n_rows:\n",
        "        y2 = (i+1) / n_rows -1\n",
        "        for x in np.linspace(1, 0, grid_size):\n",
        "            laser_path.append((x, y2))\n",
        "\n",
        "for t in range(time_steps):\n",
        "    for pos in laser_path:\n",
        "        x_data.append(pos[0])\n",
        "        y_data.append(pos[1])\n",
        "        t_data.append(t / time_steps-1)  # Normalize time\n",
        "\n",
        "x_data = torch.tensor(x_data, dtype=torch.float32).view(-1, 1).requires_grad_(True).to(device)\n",
        "y_data = torch.tensor(y_data, dtype=torch.float32).view(-1, 1).requires_grad_(True).to(device)\n",
        "t_data = torch.tensor(t_data, dtype=torch.float32).view(-1, 1).requires_grad_(True).to(device)\n",
        "\n",
        "\n",
        "\n"
      ],
      "metadata": {
        "id": "UpEctEYF2GDc",
        "colab": {
          "base_uri": "https://localhost:8080/"
        },
        "outputId": "384c7157-397f-473e-f2a0-141ce2ed5455"
      },
      "execution_count": 13,
      "outputs": [
        {
          "output_type": "stream",
          "name": "stdout",
          "text": [
            "tensor(False, device='cuda:0') tensor(False, device='cuda:0') tensor(False, device='cuda:0')\n",
            "tensor(False, device='cuda:0') tensor(False, device='cuda:0') tensor(False, device='cuda:0')\n"
          ]
        }
      ]
    },
    {
      "cell_type": "code",
      "source": [
        "optimizer = optim.Adam(model.parameters(), lr=0.001)"
      ],
      "metadata": {
        "id": "lGdfPgJHCqm-"
      },
      "execution_count": 22,
      "outputs": []
    },
    {
      "cell_type": "code",
      "source": [
        "epochs = 2000\n",
        "\n",
        "for epoch in range(epochs):\n",
        "    optimizer.zero_grad()\n",
        "    loss = heat_loss(model, x_data, y_data, t_data)\n",
        "    loss.backward()\n",
        "    optimizer.step()\n",
        "\n",
        "\n",
        "\n",
        "    if epoch % 100 == 0:\n",
        "        print(f'Epoch {epoch}, Loss: {loss.item()}')\n",
        "\n",
        "# Testing the trained model\n",
        "\n",
        "x_test = torch.linspace(0, 1, 100).to(device)\n",
        "y_test = torch.linspace(0, 1, 100).to(device)\n",
        "t_test = torch.linspace(0, 1, 20).to(device)\n",
        "\n",
        "X_test, Y_test, T_test = torch.meshgrid(x_test, y_test, t_test, indexing=\"ij\")\n",
        "\n",
        "test_input = torch.cat([\n",
        "    X_test.reshape(-1, 1),\n",
        "    Y_test.reshape(-1, 1),\n",
        "    T_test.reshape(-1, 1)\n",
        "], dim=1)\n",
        "\n",
        "with torch.no_grad():\n",
        "    T_test_pred = model(test_input)\n",
        "    T = torch.nan_to_num(T, nan=0.0, posinf=1.0, neginf=-1.0)\n",
        "\n",
        "T_test_pred = T_test_pred.view(100, 100, 20).cpu()\n",
        "\n",
        "\n",
        "\n",
        "plt.figure(figsize=(8, 8))\n",
        "\n",
        "plt.imshow(T_test_pred[:, :, 10], cmap='viridis', origin='lower', extent=[0, 1, 0, 1])\n",
        "\n",
        "plt.colorbar(label='Temperature')\n",
        "plt.xlabel('X')\n",
        "plt.ylabel('Y')\n",
        "plt.title('Temperature Distribution at t = 0.5')\n",
        "plt.show()"
      ],
      "metadata": {
        "id": "jChWg40d7RjD",
        "colab": {
          "base_uri": "https://localhost:8080/",
          "height": 558
        },
        "outputId": "8c219319-bd7b-43f6-ca9d-50bbb9a64564"
      },
      "execution_count": 25,
      "outputs": [
        {
          "output_type": "stream",
          "name": "stdout",
          "text": [
            "Epoch 0, Loss: nan\n",
            "Epoch 100, Loss: nan\n",
            "Epoch 200, Loss: nan\n",
            "Epoch 300, Loss: nan\n",
            "Epoch 400, Loss: nan\n",
            "Epoch 500, Loss: nan\n",
            "Epoch 600, Loss: nan\n",
            "Epoch 700, Loss: nan\n",
            "Epoch 800, Loss: nan\n",
            "Epoch 900, Loss: nan\n",
            "Epoch 1000, Loss: nan\n",
            "Epoch 1100, Loss: nan\n",
            "Epoch 1200, Loss: nan\n",
            "Epoch 1300, Loss: nan\n",
            "Epoch 1400, Loss: nan\n",
            "Epoch 1500, Loss: nan\n",
            "Epoch 1600, Loss: nan\n",
            "Epoch 1700, Loss: nan\n",
            "Epoch 1800, Loss: nan\n",
            "Epoch 1900, Loss: nan\n"
          ]
        },
        {
          "output_type": "error",
          "ename": "NameError",
          "evalue": "name 'T' is not defined",
          "traceback": [
            "\u001b[0;31m---------------------------------------------------------------------------\u001b[0m",
            "\u001b[0;31mNameError\u001b[0m                                 Traceback (most recent call last)",
            "\u001b[0;32m<ipython-input-25-8c04ffbb4135>\u001b[0m in \u001b[0;36m<cell line: 0>\u001b[0;34m()\u001b[0m\n\u001b[1;32m     28\u001b[0m \u001b[0;32mwith\u001b[0m \u001b[0mtorch\u001b[0m\u001b[0;34m.\u001b[0m\u001b[0mno_grad\u001b[0m\u001b[0;34m(\u001b[0m\u001b[0;34m)\u001b[0m\u001b[0;34m:\u001b[0m\u001b[0;34m\u001b[0m\u001b[0;34m\u001b[0m\u001b[0m\n\u001b[1;32m     29\u001b[0m     \u001b[0mT_test_pred\u001b[0m \u001b[0;34m=\u001b[0m \u001b[0mmodel\u001b[0m\u001b[0;34m(\u001b[0m\u001b[0mtest_input\u001b[0m\u001b[0;34m)\u001b[0m\u001b[0;34m\u001b[0m\u001b[0;34m\u001b[0m\u001b[0m\n\u001b[0;32m---> 30\u001b[0;31m     \u001b[0mT\u001b[0m \u001b[0;34m=\u001b[0m \u001b[0mtorch\u001b[0m\u001b[0;34m.\u001b[0m\u001b[0mnan_to_num\u001b[0m\u001b[0;34m(\u001b[0m\u001b[0mT\u001b[0m\u001b[0;34m,\u001b[0m \u001b[0mnan\u001b[0m\u001b[0;34m=\u001b[0m\u001b[0;36m0.0\u001b[0m\u001b[0;34m,\u001b[0m \u001b[0mposinf\u001b[0m\u001b[0;34m=\u001b[0m\u001b[0;36m1.0\u001b[0m\u001b[0;34m,\u001b[0m \u001b[0mneginf\u001b[0m\u001b[0;34m=\u001b[0m\u001b[0;34m-\u001b[0m\u001b[0;36m1.0\u001b[0m\u001b[0;34m)\u001b[0m\u001b[0;34m\u001b[0m\u001b[0;34m\u001b[0m\u001b[0m\n\u001b[0m\u001b[1;32m     31\u001b[0m \u001b[0;34m\u001b[0m\u001b[0m\n\u001b[1;32m     32\u001b[0m \u001b[0mT_test_pred\u001b[0m \u001b[0;34m=\u001b[0m \u001b[0mT_test_pred\u001b[0m\u001b[0;34m.\u001b[0m\u001b[0mview\u001b[0m\u001b[0;34m(\u001b[0m\u001b[0;36m100\u001b[0m\u001b[0;34m,\u001b[0m \u001b[0;36m100\u001b[0m\u001b[0;34m,\u001b[0m \u001b[0;36m20\u001b[0m\u001b[0;34m)\u001b[0m\u001b[0;34m.\u001b[0m\u001b[0mcpu\u001b[0m\u001b[0;34m(\u001b[0m\u001b[0;34m)\u001b[0m\u001b[0;34m\u001b[0m\u001b[0;34m\u001b[0m\u001b[0m\n",
            "\u001b[0;31mNameError\u001b[0m: name 'T' is not defined"
          ]
        }
      ]
    }
  ]
}