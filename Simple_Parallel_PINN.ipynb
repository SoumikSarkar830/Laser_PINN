{
 "cells": [
  {
   "cell_type": "code",
   "execution_count": 4,
   "id": "2030e904",
   "metadata": {},
   "outputs": [],
   "source": [
    "import torch\n",
    "import torch.nn as nn\n",
    "import torch.autograd as autograd\n",
    "import numpy as np\n"
   ]
  },
  {
   "cell_type": "code",
   "execution_count": 5,
   "id": "fca01013",
   "metadata": {},
   "outputs": [
    {
     "name": "stdout",
     "output_type": "stream",
     "text": [
      "cuda:0\n",
      "cuda:1\n"
     ]
    }
   ],
   "source": [
    "device_u = torch.device('cuda:0' if torch.cuda.is_available() else 'cpu')\n",
    "device_T = torch.device('cuda:1' if torch.cuda.device_count() > 1 else device_u)\n",
    "\n",
    "print(device_u)\n",
    "print(device_T)"
   ]
  },
  {
   "cell_type": "code",
   "execution_count": 6,
   "id": "2c275d36",
   "metadata": {},
   "outputs": [],
   "source": [
    "class FCN(nn.Module):\n",
    "    def __init__(self, in_dim, out_dim, hidden_layers=4, neurons=64):\n",
    "        super(FCN, self).__init__()\n",
    "        layers = [nn.Linear(in_dim, neurons), nn.Tanh()]\n",
    "        for _ in range(hidden_layers - 1):\n",
    "            layers += [nn.Linear(neurons, neurons), nn.Tanh()]\n",
    "        layers.append(nn.Linear(neurons, out_dim))\n",
    "        self.net = nn.Sequential(*layers)\n",
    "\n",
    "    def forward(self, x):\n",
    "        return self.net(x)\n",
    "\n",
    "net_u = FCN(3, 1).to(device_u)  # For u(x, y, t)\n",
    "net_T = FCN(3, 1).to(device_T)  # For T(x, y, t)"
   ]
  },
  {
   "cell_type": "code",
   "execution_count": 7,
   "id": "05a0040e",
   "metadata": {},
   "outputs": [],
   "source": [
    "def generate_collocation_points(N):\n",
    "    x = np.random.rand(N, 1)\n",
    "    y = np.random.rand(N, 1)\n",
    "    t = np.random.rand(N, 1)\n",
    "    X = np.hstack((x, y, t))\n",
    "    return torch.tensor(X, dtype=torch.float32, requires_grad=True)\n",
    "\n",
    "N_f = 10000\n",
    "X_f = generate_collocation_points(N_f)\n",
    "X_f_u = X_f.clone().detach().to(device_u).requires_grad_(True)\n",
    "X_f_T = X_f.clone().detach().to(device_T).requires_grad_(True)"
   ]
  },
  {
   "cell_type": "code",
   "execution_count": 8,
   "id": "5f71c626",
   "metadata": {},
   "outputs": [],
   "source": [
    "def compute_pde_u(X):\n",
    "    u = net_u(X)\n",
    "    grads = autograd.grad(u, X, grad_outputs=torch.ones_like(u), create_graph=True)[0]\n",
    "    u_t = grads[:, 2:3]\n",
    "    u_x = grads[:, 0:1]\n",
    "    u_xx = autograd.grad(u_x, X, grad_outputs=torch.ones_like(u_x), create_graph=True)[0][:, 0:1]\n",
    "    \n",
    "    nu = 0.01\n",
    "    res_u = u_t + u * u_x - nu * u_xx\n",
    "    return res_u\n",
    "\n",
    "def compute_pde_T(X):\n",
    "    X_u = X.to(device_u).detach().clone().requires_grad_(True)\n",
    "    with torch.no_grad():\n",
    "        u = net_u(X_u).to(device_T)\n",
    "    \n",
    "    T = net_T(X)\n",
    "    grads = autograd.grad(T, X, grad_outputs=torch.ones_like(T), create_graph=True)[0]\n",
    "    T_t = grads[:, 2:3]\n",
    "    T_xx = autograd.grad(grads[:, 0:1], X, grad_outputs=torch.ones_like(grads[:, 0:1]), create_graph=True)[0][:, 0:1]\n",
    "    T_yy = autograd.grad(grads[:, 1:2], X, grad_outputs=torch.ones_like(grads[:, 1:2]), create_graph=True)[0][:, 1:2]\n",
    "\n",
    "    alpha = 0.01\n",
    "    gamma = 1.0\n",
    "    Q = gamma * u ** 2\n",
    "    res_T = T_t - alpha * (T_xx + T_yy) - Q\n",
    "    return res_T"
   ]
  },
  {
   "cell_type": "code",
   "execution_count": 9,
   "id": "7308f0eb",
   "metadata": {},
   "outputs": [],
   "source": [
    "def loss_function():\n",
    "    res_u = compute_pde_u(X_f_u)\n",
    "    res_T = compute_pde_T(X_f_T)\n",
    "    loss_u = torch.mean(res_u ** 2)\n",
    "    loss_T = torch.mean(res_T ** 2)\n",
    "    return loss_u, loss_T"
   ]
  },
  {
   "cell_type": "code",
   "execution_count": 10,
   "id": "1821cb95",
   "metadata": {},
   "outputs": [],
   "source": [
    "optimizer_u = torch.optim.Adam(net_u.parameters(), lr=1e-3)\n",
    "optimizer_T = torch.optim.Adam(net_T.parameters(), lr=1e-3)"
   ]
  },
  {
   "cell_type": "code",
   "execution_count": 11,
   "id": "36b3c35c",
   "metadata": {},
   "outputs": [
    {
     "name": "stderr",
     "output_type": "stream",
     "text": [
      "/usr/lib/python3/dist-packages/torch/autograd/graph.py:823: UserWarning: Attempting to run cuBLAS, but there was no current CUDA context! Attempting to set the primary context... (Triggered internally at ./aten/src/ATen/cuda/CublasHandlePool.cpp:180.)\n",
      "  return Variable._execution_engine.run_backward(  # Calls into the C++ engine to run the backward pass\n"
     ]
    },
    {
     "name": "stdout",
     "output_type": "stream",
     "text": [
      "Epoch 0: Loss_u = 4.1478e-04, Loss_T = 4.9559e-05, Total = 4.6434e-04\n",
      "Epoch 500: Loss_u = 3.9894e-08, Loss_T = 8.1209e-09, Total = 4.8015e-08\n",
      "Epoch 1000: Loss_u = 1.5027e-08, Loss_T = 3.7634e-09, Total = 1.8791e-08\n",
      "Epoch 1500: Loss_u = 7.2254e-09, Loss_T = 2.1708e-09, Total = 9.3962e-09\n",
      "Epoch 2000: Loss_u = 4.2561e-09, Loss_T = 1.2998e-09, Total = 5.5559e-09\n",
      "Epoch 2500: Loss_u = 2.6126e-09, Loss_T = 8.4979e-10, Total = 3.4624e-09\n",
      "Epoch 3000: Loss_u = 3.2983e-09, Loss_T = 5.9160e-10, Total = 3.8899e-09\n",
      "Epoch 3500: Loss_u = 1.5568e-09, Loss_T = 4.5268e-10, Total = 2.0095e-09\n",
      "Epoch 4000: Loss_u = 1.6891e-09, Loss_T = 3.6278e-10, Total = 2.0519e-09\n",
      "Epoch 4500: Loss_u = 7.7713e-10, Loss_T = 4.2438e-10, Total = 1.2015e-09\n"
     ]
    }
   ],
   "source": [
    "for epoch in range(5000):\n",
    "    optimizer_u.zero_grad()\n",
    "    optimizer_T.zero_grad()\n",
    "\n",
    "    loss_u, loss_T = loss_function()\n",
    "    total_loss = loss_u + loss_T.to(device_u)\n",
    "\n",
    "    loss_u.backward(retain_graph=True)\n",
    "    loss_T.backward()\n",
    "\n",
    "    optimizer_u.step()\n",
    "    optimizer_T.step()\n",
    "\n",
    "    if epoch % 500 == 0:\n",
    "        print(f\"Epoch {epoch}: Loss_u = {loss_u.item():.4e}, Loss_T = {loss_T.item():.4e}, Total = {total_loss.item():.4e}\")"
   ]
  }
 ],
 "metadata": {
  "kernelspec": {
   "display_name": "Python 3",
   "language": "python",
   "name": "python3"
  },
  "language_info": {
   "codemirror_mode": {
    "name": "ipython",
    "version": 3
   },
   "file_extension": ".py",
   "mimetype": "text/x-python",
   "name": "python",
   "nbconvert_exporter": "python",
   "pygments_lexer": "ipython3",
   "version": "3.10.12"
  }
 },
 "nbformat": 4,
 "nbformat_minor": 5
}
